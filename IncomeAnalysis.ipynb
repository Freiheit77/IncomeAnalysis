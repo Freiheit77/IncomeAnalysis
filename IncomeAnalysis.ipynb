{
 "cells": [
  {
   "cell_type": "markdown",
   "metadata": {
    "colab_type": "text",
    "id": "U5yv6K84O1dT"
   },
   "source": [
    "# Income Analysis  "
   ]
  },
  {
   "cell_type": "markdown",
   "metadata": {
    "colab_type": "text",
    "id": "eDtp3opP9aeW"
   },
   "source": [
    "## Import & Clean Data"
   ]
  },
  {
   "cell_type": "code",
   "execution_count": 1,
   "metadata": {
    "colab": {},
    "colab_type": "code",
    "id": "5hYYQo6YO1dW"
   },
   "outputs": [],
   "source": [
    "import numpy as np\n",
    "import pandas as pd\n",
    "import scipy as sp\n",
    "from scipy import stats\n",
    "import os\n",
    "import seaborn as sns\n",
    "import matplotlib.pyplot as plt\n",
    "import statsmodels.api as sm\n",
    "import statsmodels.formula.api as smf\n",
    "from sklearn import preprocessing\n",
    "from sklearn.linear_model import LogisticRegression\n",
    "from sklearn.model_selection import train_test_split\n",
    "from sklearn.metrics import roc_auc_score\n",
    "from sklearn.metrics import roc_curve\n",
    "from sklearn.feature_selection import RFE\n",
    "from sklearn.linear_model import LogisticRegression\n",
    "from sklearn.linear_model import LogisticRegression\n",
    "from sklearn.linear_model import LinearRegression\n",
    "from sklearn import metrics\n",
    "from sklearn.metrics import confusion_matrix\n",
    "from imblearn.over_sampling import SMOTE\n",
    "import mne\n",
    "from mne.stats import bonferroni_correction, fdr_correction"
   ]
  },
  {
   "cell_type": "code",
   "execution_count": 2,
   "metadata": {
    "colab": {},
    "colab_type": "code",
    "id": "7uoQwCtIO1dY",
    "scrolled": true
   },
   "outputs": [
    {
     "data": {
      "text/html": [
       "<div>\n",
       "<style scoped>\n",
       "    .dataframe tbody tr th:only-of-type {\n",
       "        vertical-align: middle;\n",
       "    }\n",
       "\n",
       "    .dataframe tbody tr th {\n",
       "        vertical-align: top;\n",
       "    }\n",
       "\n",
       "    .dataframe thead th {\n",
       "        text-align: right;\n",
       "    }\n",
       "</style>\n",
       "<table border=\"1\" class=\"dataframe\">\n",
       "  <thead>\n",
       "    <tr style=\"text-align: right;\">\n",
       "      <th></th>\n",
       "      <th>age</th>\n",
       "      <th>workclass</th>\n",
       "      <th>fnlwgt</th>\n",
       "      <th>education</th>\n",
       "      <th>education-num</th>\n",
       "      <th>marital-status</th>\n",
       "      <th>occupation</th>\n",
       "      <th>relationship</th>\n",
       "      <th>race</th>\n",
       "      <th>sex</th>\n",
       "      <th>capital-gain</th>\n",
       "      <th>capital-loss</th>\n",
       "      <th>hours-per-week</th>\n",
       "      <th>native-country</th>\n",
       "      <th>income</th>\n",
       "    </tr>\n",
       "  </thead>\n",
       "  <tbody>\n",
       "    <tr>\n",
       "      <td>0</td>\n",
       "      <td>39</td>\n",
       "      <td>State-gov</td>\n",
       "      <td>77516</td>\n",
       "      <td>Bachelors</td>\n",
       "      <td>13</td>\n",
       "      <td>Never-married</td>\n",
       "      <td>Adm-clerical</td>\n",
       "      <td>Not-in-family</td>\n",
       "      <td>White</td>\n",
       "      <td>Male</td>\n",
       "      <td>2174</td>\n",
       "      <td>0</td>\n",
       "      <td>40</td>\n",
       "      <td>United-States</td>\n",
       "      <td>&lt;=50K</td>\n",
       "    </tr>\n",
       "    <tr>\n",
       "      <td>1</td>\n",
       "      <td>50</td>\n",
       "      <td>Self-emp-not-inc</td>\n",
       "      <td>83311</td>\n",
       "      <td>Bachelors</td>\n",
       "      <td>13</td>\n",
       "      <td>Married-civ-spouse</td>\n",
       "      <td>Exec-managerial</td>\n",
       "      <td>Husband</td>\n",
       "      <td>White</td>\n",
       "      <td>Male</td>\n",
       "      <td>0</td>\n",
       "      <td>0</td>\n",
       "      <td>13</td>\n",
       "      <td>United-States</td>\n",
       "      <td>&lt;=50K</td>\n",
       "    </tr>\n",
       "    <tr>\n",
       "      <td>2</td>\n",
       "      <td>38</td>\n",
       "      <td>Private</td>\n",
       "      <td>215646</td>\n",
       "      <td>HS-grad</td>\n",
       "      <td>9</td>\n",
       "      <td>Divorced</td>\n",
       "      <td>Handlers-cleaners</td>\n",
       "      <td>Not-in-family</td>\n",
       "      <td>White</td>\n",
       "      <td>Male</td>\n",
       "      <td>0</td>\n",
       "      <td>0</td>\n",
       "      <td>40</td>\n",
       "      <td>United-States</td>\n",
       "      <td>&lt;=50K</td>\n",
       "    </tr>\n",
       "    <tr>\n",
       "      <td>3</td>\n",
       "      <td>53</td>\n",
       "      <td>Private</td>\n",
       "      <td>234721</td>\n",
       "      <td>11th</td>\n",
       "      <td>7</td>\n",
       "      <td>Married-civ-spouse</td>\n",
       "      <td>Handlers-cleaners</td>\n",
       "      <td>Husband</td>\n",
       "      <td>Black</td>\n",
       "      <td>Male</td>\n",
       "      <td>0</td>\n",
       "      <td>0</td>\n",
       "      <td>40</td>\n",
       "      <td>United-States</td>\n",
       "      <td>&lt;=50K</td>\n",
       "    </tr>\n",
       "    <tr>\n",
       "      <td>4</td>\n",
       "      <td>28</td>\n",
       "      <td>Private</td>\n",
       "      <td>338409</td>\n",
       "      <td>Bachelors</td>\n",
       "      <td>13</td>\n",
       "      <td>Married-civ-spouse</td>\n",
       "      <td>Prof-specialty</td>\n",
       "      <td>Wife</td>\n",
       "      <td>Black</td>\n",
       "      <td>Female</td>\n",
       "      <td>0</td>\n",
       "      <td>0</td>\n",
       "      <td>40</td>\n",
       "      <td>Cuba</td>\n",
       "      <td>&lt;=50K</td>\n",
       "    </tr>\n",
       "  </tbody>\n",
       "</table>\n",
       "</div>"
      ],
      "text/plain": [
       "   age         workclass  fnlwgt  education  education-num  \\\n",
       "0   39         State-gov   77516  Bachelors             13   \n",
       "1   50  Self-emp-not-inc   83311  Bachelors             13   \n",
       "2   38           Private  215646    HS-grad              9   \n",
       "3   53           Private  234721       11th              7   \n",
       "4   28           Private  338409  Bachelors             13   \n",
       "\n",
       "       marital-status         occupation   relationship   race     sex  \\\n",
       "0       Never-married       Adm-clerical  Not-in-family  White    Male   \n",
       "1  Married-civ-spouse    Exec-managerial        Husband  White    Male   \n",
       "2            Divorced  Handlers-cleaners  Not-in-family  White    Male   \n",
       "3  Married-civ-spouse  Handlers-cleaners        Husband  Black    Male   \n",
       "4  Married-civ-spouse     Prof-specialty           Wife  Black  Female   \n",
       "\n",
       "   capital-gain  capital-loss  hours-per-week native-country income  \n",
       "0          2174             0              40  United-States  <=50K  \n",
       "1             0             0              13  United-States  <=50K  \n",
       "2             0             0              40  United-States  <=50K  \n",
       "3             0             0              40  United-States  <=50K  \n",
       "4             0             0              40           Cuba  <=50K  "
      ]
     },
     "execution_count": 2,
     "metadata": {},
     "output_type": "execute_result"
    }
   ],
   "source": [
    "income = pd.read_csv(\"income_data.csv\", sep=r'\\s*,\\s*', engine='python')\n",
    "income.head()"
   ]
  },
  {
   "cell_type": "code",
   "execution_count": 3,
   "metadata": {
    "colab": {},
    "colab_type": "code",
    "id": "TZ2tCEcSO1da"
   },
   "outputs": [],
   "source": [
    "#clean the variable name \n",
    "income['marital_status'] = income['marital-status']\n",
    "income['education_num'] = income['education-num']\n",
    "income['capital_gain'] = income['capital-gain']\n",
    "income['capital_loss'] = income['capital-loss']\n",
    "income['hours_per_week'] = income['hours-per-week']\n",
    "income['native_country'] = income['native-country']\n",
    "unclean_names = ['marital-status', 'education-num', 'capital-gain', 'capital-loss', 'hours-per-week', 'native-country']\n",
    "income = income.drop(unclean_names, 1)"
   ]
  },
  {
   "cell_type": "code",
   "execution_count": 4,
   "metadata": {
    "colab": {},
    "colab_type": "code",
    "id": "YN3SDKupO1dc"
   },
   "outputs": [],
   "source": [
    "#merging levels of education\n",
    "income['education']=np.where(income['education'] =='11th', 'Not-HS-Grad', income['education'])\n",
    "income['education']=np.where(income['education'] =='9th', 'Not-HS-Grad', income['education'])\n",
    "income['education']=np.where(income['education'] =='7th-8th', 'Not-HS-Grad', income['education'])\n",
    "income['education']=np.where(income['education'] =='5th-6th', 'Not-HS-Grad', income['education'])\n",
    "income['education']=np.where(income['education'] =='10th', 'Not-HS-Grad', income['education'])\n",
    "income['education']=np.where(income['education'] =='1st-4th', 'Not-HS-Grad', income['education'])\n",
    "income['education']=np.where(income['education'] =='Preschool', 'Not-HS-Grad', income['education'])\n",
    "income['education']=np.where(income['education'] =='12th', 'Not-HS-Grad', income['education'])"
   ]
  },
  {
   "cell_type": "code",
   "execution_count": 5,
   "metadata": {},
   "outputs": [],
   "source": [
    "income_raw = income.copy()"
   ]
  },
  {
   "cell_type": "markdown",
   "metadata": {
    "colab_type": "text",
    "id": "D6YtbQVr954g"
   },
   "source": [
    "## EDA"
   ]
  },
  {
   "cell_type": "markdown",
   "metadata": {
    "colab_type": "text",
    "heading_collapsed": true,
    "id": "ZNJlDfXIl4HQ"
   },
   "source": [
    "### Part 1. Y = whether income > 50k"
   ]
  },
  {
   "cell_type": "markdown",
   "metadata": {
    "colab_type": "text",
    "hidden": true,
    "id": "6BzQKWYL_jup"
   },
   "source": [
    "**1) Occupation**    \n",
    "    a. Exec-managerial occupation shows more even distribution for people earn over 50k and under 50k.   \n",
    "    b. people work in the adm-clerical, other-service, sales, craft-repaire field show large disparency of income level."
   ]
  },
  {
   "cell_type": "code",
   "execution_count": 6,
   "metadata": {
    "colab": {
     "base_uri": "https://localhost:8080/",
     "height": 1000
    },
    "colab_type": "code",
    "executionInfo": {
     "elapsed": 14247,
     "status": "ok",
     "timestamp": 1579054973326,
     "user": {
      "displayName": "Jiayin Liu",
      "photoUrl": "",
      "userId": "02469597142612733971"
     },
     "user_tz": 480
    },
    "hidden": true,
    "id": "_1eELaQVO1dh",
    "outputId": "99afdca5-df76-4c5c-c540-2a40a23d2f99"
   },
   "outputs": [
    {
     "data": {
      "image/png": "[encoded data removed]",
      "text/plain": [
       "<Figure size 1001.6x2484 with 30 Axes>"
      ]
     },
     "metadata": {
      "needs_background": "light"
     },
     "output_type": "display_data"
    }
   ],
   "source": [
    "grid = sns.FacetGrid(income, col='income', row='occupation',height=2.3, aspect=3)\n",
    "grid.map(plt.hist, 'age', alpha=.5, bins=20)\n",
    "grid.add_legend();"
   ]
  },
  {
   "cell_type": "markdown",
   "metadata": {
    "colab_type": "text",
    "hidden": true,
    "id": "2lFpGBGuAItW"
   },
   "source": [
    "**2) Age**  \n",
    "Age of people with income over 50k are normally distributed, centered on middle age - 40 to 45 years old.   \n",
    "Age distribution of people with income less than 50k are right skewed. \n"
   ]
  },
  {
   "cell_type": "code",
   "execution_count": 7,
   "metadata": {
    "colab": {
     "base_uri": "https://localhost:8080/",
     "height": 386
    },
    "colab_type": "code",
    "executionInfo": {
     "elapsed": 1112,
     "status": "ok",
     "timestamp": 1579054873952,
     "user": {
      "displayName": "Jiayin Liu",
      "photoUrl": "",
      "userId": "02469597142612733971"
     },
     "user_tz": 480
    },
    "hidden": true,
    "id": "2UwRg0PWAR4D",
    "outputId": "10305c8f-6c60-4ea8-b82c-dd7c4bccd91c"
   },
   "outputs": [
    {
     "data": {
      "text/plain": [
       "Text(0.5, 0, 'Age')"
      ]
     },
     "execution_count": 7,
     "metadata": {},
     "output_type": "execute_result"
    },
    {
     "data": {
      "image/png": "[encoded data removed]",
      "text/plain": [
       "<Figure size 1080x360 with 2 Axes>"
      ]
     },
     "metadata": {
      "needs_background": "light"
     },
     "output_type": "display_data"
    }
   ],
   "source": [
    "fig, axs = plt.subplots(1, 2, sharey=True, tight_layout=True, figsize = (15,5))\n",
    "\n",
    "axs[0].hist(income[income[\"income\"] == \"<=50K\"][\"age\"], bins=20)\n",
    "axs[0].set_title(\"Distribution of Age for Income <=50k\")\n",
    "axs[0].set_xlabel(\"Age\")\n",
    "axs[1].hist(income[income[\"income\"] == \">50K\"][\"age\"], bins=20)\n",
    "axs[1].set_title(\"Distribution of Age for Income >50k\")\n",
    "axs[1].set_xlabel(\"Age\")"
   ]
  },
  {
   "cell_type": "markdown",
   "metadata": {
    "colab_type": "text",
    "hidden": true,
    "id": "_OgEl5S9Bk42"
   },
   "source": [
    "**3) Education Level**\n",
    "\n",
    "Education level plays an important role in terms of its effect on whether people can earn over 50k. But the effect dramatally decreases when reaching the level of master degree????."
   ]
  },
  {
   "cell_type": "code",
   "execution_count": 8,
   "metadata": {
    "colab": {
     "base_uri": "https://localhost:8080/",
     "height": 1000
    },
    "colab_type": "code",
    "executionInfo": {
     "elapsed": 7979,
     "status": "ok",
     "timestamp": 1579055679331,
     "user": {
      "displayName": "Jiayin Liu",
      "photoUrl": "",
      "userId": "02469597142612733971"
     },
     "user_tz": 480
    },
    "hidden": true,
    "id": "PrBlet1QBlKH",
    "outputId": "2c98182c-cea0-46de-8e0e-4fe047d9f05a"
   },
   "outputs": [
    {
     "data": {
      "image/png": "[encoded data removed]",
      "text/plain": [
       "<Figure size 1001.6x1490.4 with 18 Axes>"
      ]
     },
     "metadata": {
      "needs_background": "light"
     },
     "output_type": "display_data"
    }
   ],
   "source": [
    "grid = sns.FacetGrid(income, col='income', row='education',height=2.3, aspect=3)\n",
    "grid.map(plt.hist, 'age', alpha=.5, bins=20)\n",
    "grid.add_legend();"
   ]
  },
  {
   "cell_type": "markdown",
   "metadata": {
    "colab_type": "text",
    "hidden": true,
    "id": "DG83gHKLGQW4"
   },
   "source": [
    "**4) Working Hours**  \n",
    "Working overtime -> income >50k"
   ]
  },
  {
   "cell_type": "code",
   "execution_count": 9,
   "metadata": {
    "colab": {
     "base_uri": "https://localhost:8080/",
     "height": 386
    },
    "colab_type": "code",
    "executionInfo": {
     "elapsed": 1079,
     "status": "ok",
     "timestamp": 1579056428921,
     "user": {
      "displayName": "Jiayin Liu",
      "photoUrl": "",
      "userId": "02469597142612733971"
     },
     "user_tz": 480
    },
    "hidden": true,
    "id": "cvShlTRzDu1K",
    "outputId": "872dbc18-d886-4c3d-d1e7-620ca626dd84"
   },
   "outputs": [
    {
     "data": {
      "text/plain": [
       "Text(0.5, 0, 'Weekly Working Hours')"
      ]
     },
     "execution_count": 9,
     "metadata": {},
     "output_type": "execute_result"
    },
    {
     "data": {
      "image/png": "[encoded data removed]",
      "text/plain": [
       "<Figure size 1080x360 with 2 Axes>"
      ]
     },
     "metadata": {
      "needs_background": "light"
     },
     "output_type": "display_data"
    }
   ],
   "source": [
    "fig, axs = plt.subplots(1, 2, sharey=True, tight_layout=True, figsize = (15,5))\n",
    "\n",
    "axs[0].hist(income[income[\"income\"] == \"<=50K\"][\"hours_per_week\"], bins=20)\n",
    "axs[0].set_title(\"Distribution of Weekly Working Hours for Income <=50k\")\n",
    "axs[0].set_xlabel(\"Weekly Working Hours\")\n",
    "axs[1].hist(income[income[\"income\"] == \">50K\"][\"hours_per_week\"], bins=20)\n",
    "axs[1].set_title(\"Distribution of Weekly Working Hours for Income >50k\")\n",
    "axs[1].set_xlabel(\"Weekly Working Hours\")"
   ]
  },
  {
   "cell_type": "markdown",
   "metadata": {
    "colab_type": "text",
    "heading_collapsed": true,
    "id": "wqocIJOOl-cz"
   },
   "source": [
    "### Part 2. Y = Working Hours per Week"
   ]
  },
  {
   "cell_type": "markdown",
   "metadata": {
    "colab_type": "text",
    "hidden": true,
    "id": "E6UZCzOamE1m"
   },
   "source": [
    "1) Workclass"
   ]
  },
  {
   "cell_type": "code",
   "execution_count": 10,
   "metadata": {
    "colab": {
     "base_uri": "https://localhost:8080/",
     "height": 351
    },
    "colab_type": "code",
    "executionInfo": {
     "elapsed": 782,
     "status": "ok",
     "timestamp": 1579064850930,
     "user": {
      "displayName": "Jiayin Liu",
      "photoUrl": "",
      "userId": "02469597142612733971"
     },
     "user_tz": 480
    },
    "hidden": true,
    "id": "kldS2Ur_NUmQ",
    "outputId": "2805660e-2976-4ba5-d908-e5b9ce30b825"
   },
   "outputs": [
    {
     "data": {
      "text/plain": [
       "<matplotlib.axes._subplots.AxesSubplot at 0x1c22a594d0>"
      ]
     },
     "execution_count": 10,
     "metadata": {},
     "output_type": "execute_result"
    },
    {
     "data": {
      "image/png": "[encoded data removed]",
      "text/plain": [
       "<Figure size 864x360 with 1 Axes>"
      ]
     },
     "metadata": {
      "needs_background": "light"
     },
     "output_type": "display_data"
    }
   ],
   "source": [
    "income.groupby('education')['hours_per_week'].agg(Sum='sum', Count='count')\n",
    "plt.figure(figsize=(12,5))\n",
    "grp_class=income.groupby('workclass')['hours_per_week'].mean().reset_index()\n",
    "sp=sns.lineplot(\n",
    "    x='workclass',\n",
    "    y='hours_per_week',\n",
    "    data=grp_class)\n",
    "sp"
   ]
  },
  {
   "cell_type": "markdown",
   "metadata": {
    "colab_type": "text",
    "hidden": true,
    "id": "o8cY_dXToneD"
   },
   "source": [
    "2) Education"
   ]
  },
  {
   "cell_type": "code",
   "execution_count": 11,
   "metadata": {
    "colab": {
     "base_uri": "https://localhost:8080/",
     "height": 351
    },
    "colab_type": "code",
    "executionInfo": {
     "elapsed": 762,
     "status": "ok",
     "timestamp": 1579065238285,
     "user": {
      "displayName": "Jiayin Liu",
      "photoUrl": "",
      "userId": "02469597142612733971"
     },
     "user_tz": 480
    },
    "hidden": true,
    "id": "ba0fVvVmNhY-",
    "outputId": "1c857a53-44f6-4691-ee27-36f136262222"
   },
   "outputs": [
    {
     "data": {
      "text/plain": [
       "<matplotlib.axes._subplots.AxesSubplot at 0x1c2334e710>"
      ]
     },
     "execution_count": 11,
     "metadata": {},
     "output_type": "execute_result"
    },
    {
     "data": {
      "image/png": "[encoded data removed]",
      "text/plain": [
       "<Figure size 864x360 with 1 Axes>"
      ]
     },
     "metadata": {
      "needs_background": "light"
     },
     "output_type": "display_data"
    }
   ],
   "source": [
    "plt.figure(figsize=(12,5))\n",
    "grp_edu=income.groupby('education')['hours_per_week'].mean().reset_index()\n",
    "sp1=sns.lineplot(\n",
    "    x='education',\n",
    "    y='hours_per_week',\n",
    "    data=grp_edu)\n",
    "sp1"
   ]
  },
  {
   "cell_type": "markdown",
   "metadata": {
    "colab_type": "text",
    "id": "DtNPQgJ0-NCo"
   },
   "source": [
    "## Feature Elimination (Q3)"
   ]
  },
  {
   "cell_type": "markdown",
   "metadata": {
    "colab_type": "text",
    "id": "wKMBqf38WOFX"
   },
   "source": [
    "### Part 1. Elimination by EDA"
   ]
  },
  {
   "cell_type": "markdown",
   "metadata": {
    "colab_type": "text",
    "id": "9ZhphnwZYJBU"
   },
   "source": [
    "**1) Investment**  \n",
    "Compared to those who did not investment at all, people had either 'Capital-gain' or 'Capital-loss' are more likely to earn 50k or more. One possible explanation is that only those people with higher income have the ability and resources to make investment. \n"
   ]
  },
  {
   "cell_type": "code",
   "execution_count": 12,
   "metadata": {
    "colab": {},
    "colab_type": "code",
    "id": "vxTFHK05WdHQ"
   },
   "outputs": [],
   "source": [
    "# Tranform Capital Loss & Capital Gain into Logical variable\n",
    "income['boolean_capital_gain'] = np.where((income[\"capital_gain\"] == 0), \"Zero Gain\", \"Gain\")\n",
    "income['boolean_capital_loss'] = np.where((income[\"capital_loss\"] == 0), \"Zero Loss\", \"Loss\")"
   ]
  },
  {
   "cell_type": "code",
   "execution_count": 13,
   "metadata": {
    "colab": {
     "base_uri": "https://localhost:8080/",
     "height": 336
    },
    "colab_type": "code",
    "executionInfo": {
     "elapsed": 763,
     "status": "ok",
     "timestamp": 1579065260974,
     "user": {
      "displayName": "Jiayin Liu",
      "photoUrl": "",
      "userId": "02469597142612733971"
     },
     "user_tz": 480
    },
    "id": "UNNRpYnoXSGl",
    "outputId": "ce76e37f-a73e-4da0-ee7d-6b652914feb2"
   },
   "outputs": [
    {
     "data": {
      "text/plain": [
       "Text(0, 0.5, '')"
      ]
     },
     "execution_count": 13,
     "metadata": {},
     "output_type": "execute_result"
    },
    {
     "data": {
      "image/png": "[encoded data removed]",
      "text/plain": [
       "<Figure size 1080x360 with 2 Axes>"
      ]
     },
     "metadata": {},
     "output_type": "display_data"
    }
   ],
   "source": [
    "# Capital-Gain vs. High Income\n",
    "f,ax=plt.subplots(1,2,figsize=(15,5))\n",
    "income[income[\"income\"] == \"<=50K\"][\"boolean_capital_gain\"].value_counts().plot.pie(explode=[0,0.1],autopct='%1.1f%%',ax=ax[0],shadow=True)\n",
    "ax[0].set_title('income <= 50k')\n",
    "ax[0].set_ylabel('')\n",
    "income[income[\"income\"] == \">50K\"][\"boolean_capital_loss\"].value_counts().plot.pie(explode=[0,0.1],autopct='%1.1f%%',ax=ax[1],shadow=True)\n",
    "ax[1].set_title('income > 50k')\n",
    "ax[1].set_ylabel('')"
   ]
  },
  {
   "cell_type": "code",
   "execution_count": 14,
   "metadata": {
    "colab": {
     "base_uri": "https://localhost:8080/",
     "height": 336
    },
    "colab_type": "code",
    "executionInfo": {
     "elapsed": 1239,
     "status": "ok",
     "timestamp": 1579065263667,
     "user": {
      "displayName": "Jiayin Liu",
      "photoUrl": "",
      "userId": "02469597142612733971"
     },
     "user_tz": 480
    },
    "id": "gE7B67KmXhMS",
    "outputId": "a2872565-dd60-45cb-a195-55703973d6a5"
   },
   "outputs": [
    {
     "data": {
      "text/plain": [
       "Text(0, 0.5, '')"
      ]
     },
     "execution_count": 14,
     "metadata": {},
     "output_type": "execute_result"
    },
    {
     "data": {
      "image/png": "[encoded data removed]",
      "text/plain": [
       "<Figure size 1080x360 with 2 Axes>"
      ]
     },
     "metadata": {},
     "output_type": "display_data"
    }
   ],
   "source": [
    "# Capital-Loss vs. High Income\n",
    "f,ax=plt.subplots(1,2,figsize=(15,5))\n",
    "income[income[\"income\"] == \"<=50K\"][\"boolean_capital_loss\"].value_counts().plot.pie(explode=[0,0.1],autopct='%1.1f%%',ax=ax[0],shadow=True)\n",
    "ax[0].set_title('income <= 50k')\n",
    "ax[1].set_ylabel('')\n",
    "income[income[\"income\"] == \">50K\"][\"boolean_capital_loss\"].value_counts().plot.pie(explode=[0,0.1],autopct='%1.1f%%',ax=ax[1],shadow=True)\n",
    "ax[1].set_title('income > 50k')\n",
    "ax[1].set_ylabel('')"
   ]
  },
  {
   "cell_type": "code",
   "execution_count": 15,
   "metadata": {
    "colab": {
     "base_uri": "https://localhost:8080/",
     "height": 309
    },
    "colab_type": "code",
    "executionInfo": {
     "elapsed": 505,
     "status": "ok",
     "timestamp": 1579065275297,
     "user": {
      "displayName": "Jiayin Liu",
      "photoUrl": "",
      "userId": "02469597142612733971"
     },
     "user_tz": 480
    },
    "id": "06-vONJeXsJa",
    "outputId": "3bf63374-9b4a-490a-9435-7a77eeb236d4"
   },
   "outputs": [
    {
     "data": {
      "text/plain": [
       "Text(0, 0.5, 'High Salary')"
      ]
     },
     "execution_count": 15,
     "metadata": {},
     "output_type": "execute_result"
    },
    {
     "data": {
      "image/png": "[encoded data removed]",
      "text/plain": [
       "<Figure size 432x288 with 1 Axes>"
      ]
     },
     "metadata": {
      "needs_background": "light"
     },
     "output_type": "display_data"
    }
   ],
   "source": [
    "# Combined Capital-Gain & Loss to create new variable 'Invenstment' - whether people invested or not\n",
    "income['investment'] = np.where(((income[\"capital_gain\"] == 0) & (income[\"capital_loss\"] == 0)), 0, 1)\n",
    "pd.crosstab(income['investment'],income['income']).plot(kind='bar')\n",
    "plt.title('Income against Investment')\n",
    "plt.xlabel('Investment')\n",
    "plt.ylabel('High Salary')"
   ]
  },
  {
   "cell_type": "markdown",
   "metadata": {
    "colab_type": "text",
    "id": "YWBAnF_kZ6GN"
   },
   "source": [
    "**2) Choice between Education Level vs Years of Education**  \n",
    "They two are highly correlated. So we chose enducation level, which has lesser levels. "
   ]
  },
  {
   "cell_type": "code",
   "execution_count": 16,
   "metadata": {
    "colab": {
     "base_uri": "https://localhost:8080/",
     "height": 351
    },
    "colab_type": "code",
    "executionInfo": {
     "elapsed": 1156,
     "status": "ok",
     "timestamp": 1579065205930,
     "user": {
      "displayName": "Jiayin Liu",
      "photoUrl": "",
      "userId": "02469597142612733971"
     },
     "user_tz": 480
    },
    "id": "_q0ajx5Xlhf4",
    "outputId": "45f36616-d0bd-452d-8bdb-5166731c5a3e"
   },
   "outputs": [
    {
     "data": {
      "text/plain": [
       "<matplotlib.axes._subplots.AxesSubplot at 0x1c25a94110>"
      ]
     },
     "execution_count": 16,
     "metadata": {},
     "output_type": "execute_result"
    },
    {
     "data": {
      "image/png": "[encoded data removed]",
      "text/plain": [
       "<Figure size 864x360 with 1 Axes>"
      ]
     },
     "metadata": {
      "needs_background": "light"
     },
     "output_type": "display_data"
    }
   ],
   "source": [
    "grp_edu=income.groupby('education').mean().reset_index()\n",
    "# reorder the education level\n",
    "order_edu = [\"Not-HS-Grad\", \"HS-grad\", \"Some-college\", \"Assoc-voc\", \"Assoc-acdm\", \"Bachelors\", \"Masters\", \"Prof-school\", \"Doctorate\"]\n",
    "\n",
    "plt.figure(figsize=(12,5))\n",
    "\n",
    "edu =sns.barplot(\n",
    "    x='education',\n",
    "    y='education_num',\n",
    "    data=grp_edu,\n",
    "    order = order_edu)\n",
    "edu"
   ]
  },
  {
   "cell_type": "markdown",
   "metadata": {
    "colab_type": "text",
    "id": "pOCic_lb1gek"
   },
   "source": [
    "**3) Race**  \n",
    "Unbalanced Data - drop race\n"
   ]
  },
  {
   "cell_type": "code",
   "execution_count": 17,
   "metadata": {
    "colab": {
     "base_uri": "https://localhost:8080/",
     "height": 441
    },
    "colab_type": "code",
    "executionInfo": {
     "elapsed": 872,
     "status": "ok",
     "timestamp": 1579069844707,
     "user": {
      "displayName": "Jiayin Liu",
      "photoUrl": "",
      "userId": "02469597142612733971"
     },
     "user_tz": 480
    },
    "id": "L9--zeh81lKj",
    "outputId": "4a4954ec-749c-446a-c087-df00a721fae4"
   },
   "outputs": [
    {
     "data": {
      "image/png": "[encoded data removed]",
      "text/plain": [
       "<Figure size 1296x432 with 2 Axes>"
      ]
     },
     "metadata": {
      "needs_background": "light"
     },
     "output_type": "display_data"
    }
   ],
   "source": [
    "f,ax=plt.subplots(1,2,figsize=(18,6), tight_layout=True)\n",
    "income['race'].value_counts().plot.pie(explode=[0.1,0,0,0,0],autopct='%1.1f%%',ax=ax[0],shadow=True)\n",
    "ax[0].set_title('Race %')\n",
    "ax[0].set_ylabel('')\n",
    "sns.countplot('race',data=income,ax=ax[1])\n",
    "ax[1].set_title('Race')\n",
    "plt.show()"
   ]
  },
  {
   "cell_type": "markdown",
   "metadata": {
    "colab_type": "text",
    "id": "AAYXI8GE50mL"
   },
   "source": [
    "**4) Native_country**  \n",
    "Unbalanced Data - drop Native_country"
   ]
  },
  {
   "cell_type": "code",
   "execution_count": 18,
   "metadata": {
    "colab": {
     "base_uri": "https://localhost:8080/",
     "height": 441
    },
    "colab_type": "code",
    "executionInfo": {
     "elapsed": 2031,
     "status": "ok",
     "timestamp": 1579069934557,
     "user": {
      "displayName": "Jiayin Liu",
      "photoUrl": "",
      "userId": "02469597142612733971"
     },
     "user_tz": 480
    },
    "id": "zJF7l6vj5lQy",
    "outputId": "8c9abd47-d408-4f39-b335-6ad12dc415e6"
   },
   "outputs": [
    {
     "data": {
      "image/png": "[encoded data removed]",
      "text/plain": [
       "<Figure size 1296x432 with 2 Axes>"
      ]
     },
     "metadata": {
      "needs_background": "light"
     },
     "output_type": "display_data"
    }
   ],
   "source": [
    "f,ax=plt.subplots(1,2,figsize=(18,6), tight_layout=True)\n",
    "income['native_country'].value_counts().plot.pie(autopct='%1.1f%%',ax=ax[0],shadow=True)\n",
    "ax[0].set_title('Native_country %')\n",
    "ax[0].set_ylabel('')\n",
    "sns.countplot('native_country',data=income,ax=ax[1])\n",
    "ax[1].set_title('Native_country')\n",
    "plt.show()"
   ]
  },
  {
   "cell_type": "markdown",
   "metadata": {},
   "source": [
    "**5）Interaction - Occupation & Sex**  \n",
    "Sex distributed differently among different occupations"
   ]
  },
  {
   "cell_type": "code",
   "execution_count": 19,
   "metadata": {},
   "outputs": [
    {
     "data": {
      "text/plain": [
       "Text(0, 0.5, 'Count')"
      ]
     },
     "execution_count": 19,
     "metadata": {},
     "output_type": "execute_result"
    },
    {
     "data": {
      "image/png": "[encoded data removed]",
      "text/plain": [
       "<Figure size 432x216 with 1 Axes>"
      ]
     },
     "metadata": {
      "needs_background": "light"
     },
     "output_type": "display_data"
    }
   ],
   "source": [
    "occu = income[income['occupation'] != \"?\"]\n",
    "pd.crosstab(occu[\"occupation\"],occu['sex']).plot(kind='bar', figsize = (6,3), stacked=True)\n",
    "plt.title('Figure 1 - Occupation by Sex')\n",
    "plt.xlabel('Occupation')\n",
    "plt.ylabel('Count')"
   ]
  },
  {
   "cell_type": "markdown",
   "metadata": {},
   "source": [
    "**5）Interaction - Education & Sex**  \n",
    "Sex distributed differently among different education levels"
   ]
  },
  {
   "cell_type": "code",
   "execution_count": 20,
   "metadata": {},
   "outputs": [
    {
     "data": {
      "text/plain": [
       "Text(0, 0.5, 'Count')"
      ]
     },
     "execution_count": 20,
     "metadata": {},
     "output_type": "execute_result"
    },
    {
     "data": {
      "image/png": "[encoded data removed]",
      "text/plain": [
       "<Figure size 432x216 with 1 Axes>"
      ]
     },
     "metadata": {
      "needs_background": "light"
     },
     "output_type": "display_data"
    }
   ],
   "source": [
    "pd.crosstab(income['education'],income['sex']).plot(kind='bar', figsize = (6,3), stacked=True)\n",
    "plt.title('Figure 2 - Education by Sex')\n",
    "plt.xlabel('Education')\n",
    "plt.ylabel('Count')"
   ]
  },
  {
   "cell_type": "markdown",
   "metadata": {
    "colab_type": "text",
    "id": "Ky5f0Q6PO1di"
   },
   "source": [
    "### Part 2. Recursive Feature Elimination"
   ]
  },
  {
   "cell_type": "markdown",
   "metadata": {},
   "source": [
    "**1) clean data based on EDA**  "
   ]
  },
  {
   "cell_type": "code",
   "execution_count": 21,
   "metadata": {},
   "outputs": [],
   "source": [
    "# relevel education variable and change it to ordinal factor \n",
    "mapper = {'Not-HS-Grad':1,'HS-grad':2,'Some-college':3,\"Assoc-voc\":4,\"Assoc-acdm\":5,\"Bachelors\":6,\"Masters\":7, \"Prof-school\":8, \"Doctorate\":9}\n",
    "income_raw['ordedu'] = income_raw['education'].map(mapper)"
   ]
  },
  {
   "cell_type": "code",
   "execution_count": 22,
   "metadata": {},
   "outputs": [],
   "source": [
    "income_raw['investment'] = np.where(((income_raw[\"capital_gain\"] == 0) & (income_raw[\"capital_loss\"] == 0)), 0, 1)"
   ]
  },
  {
   "cell_type": "code",
   "execution_count": 23,
   "metadata": {
    "colab": {
     "base_uri": "https://localhost:8080/",
     "height": 224
    },
    "colab_type": "code",
    "executionInfo": {
     "elapsed": 918,
     "status": "ok",
     "timestamp": 1579052648028,
     "user": {
      "displayName": "Jiayin Liu",
      "photoUrl": "",
      "userId": "02469597142612733971"
     },
     "user_tz": 480
    },
    "id": "7rFoE-pXO1de",
    "outputId": "163c3aaa-02d6-46b7-d5bf-f63ece2d70ab"
   },
   "outputs": [
    {
     "data": {
      "text/html": [
       "<div>\n",
       "<style scoped>\n",
       "    .dataframe tbody tr th:only-of-type {\n",
       "        vertical-align: middle;\n",
       "    }\n",
       "\n",
       "    .dataframe tbody tr th {\n",
       "        vertical-align: top;\n",
       "    }\n",
       "\n",
       "    .dataframe thead th {\n",
       "        text-align: right;\n",
       "    }\n",
       "</style>\n",
       "<table border=\"1\" class=\"dataframe\">\n",
       "  <thead>\n",
       "    <tr style=\"text-align: right;\">\n",
       "      <th></th>\n",
       "      <th>age</th>\n",
       "      <th>workclass</th>\n",
       "      <th>fnlwgt</th>\n",
       "      <th>occupation</th>\n",
       "      <th>relationship</th>\n",
       "      <th>race</th>\n",
       "      <th>sex</th>\n",
       "      <th>income</th>\n",
       "      <th>marital_status</th>\n",
       "      <th>education_num</th>\n",
       "      <th>capital_gain</th>\n",
       "      <th>capital_loss</th>\n",
       "      <th>hours_per_week</th>\n",
       "      <th>native_country</th>\n",
       "      <th>ordedu</th>\n",
       "      <th>investment</th>\n",
       "    </tr>\n",
       "  </thead>\n",
       "  <tbody>\n",
       "    <tr>\n",
       "      <td>0</td>\n",
       "      <td>39</td>\n",
       "      <td>7</td>\n",
       "      <td>77516</td>\n",
       "      <td>1</td>\n",
       "      <td>1</td>\n",
       "      <td>4</td>\n",
       "      <td>1</td>\n",
       "      <td>0</td>\n",
       "      <td>4</td>\n",
       "      <td>13</td>\n",
       "      <td>2174</td>\n",
       "      <td>0</td>\n",
       "      <td>40</td>\n",
       "      <td>39</td>\n",
       "      <td>6</td>\n",
       "      <td>1</td>\n",
       "    </tr>\n",
       "    <tr>\n",
       "      <td>1</td>\n",
       "      <td>50</td>\n",
       "      <td>6</td>\n",
       "      <td>83311</td>\n",
       "      <td>4</td>\n",
       "      <td>0</td>\n",
       "      <td>4</td>\n",
       "      <td>1</td>\n",
       "      <td>0</td>\n",
       "      <td>2</td>\n",
       "      <td>13</td>\n",
       "      <td>0</td>\n",
       "      <td>0</td>\n",
       "      <td>13</td>\n",
       "      <td>39</td>\n",
       "      <td>6</td>\n",
       "      <td>0</td>\n",
       "    </tr>\n",
       "    <tr>\n",
       "      <td>2</td>\n",
       "      <td>38</td>\n",
       "      <td>4</td>\n",
       "      <td>215646</td>\n",
       "      <td>6</td>\n",
       "      <td>1</td>\n",
       "      <td>4</td>\n",
       "      <td>1</td>\n",
       "      <td>0</td>\n",
       "      <td>0</td>\n",
       "      <td>9</td>\n",
       "      <td>0</td>\n",
       "      <td>0</td>\n",
       "      <td>40</td>\n",
       "      <td>39</td>\n",
       "      <td>2</td>\n",
       "      <td>0</td>\n",
       "    </tr>\n",
       "    <tr>\n",
       "      <td>3</td>\n",
       "      <td>53</td>\n",
       "      <td>4</td>\n",
       "      <td>234721</td>\n",
       "      <td>6</td>\n",
       "      <td>0</td>\n",
       "      <td>2</td>\n",
       "      <td>1</td>\n",
       "      <td>0</td>\n",
       "      <td>2</td>\n",
       "      <td>7</td>\n",
       "      <td>0</td>\n",
       "      <td>0</td>\n",
       "      <td>40</td>\n",
       "      <td>39</td>\n",
       "      <td>1</td>\n",
       "      <td>0</td>\n",
       "    </tr>\n",
       "    <tr>\n",
       "      <td>4</td>\n",
       "      <td>28</td>\n",
       "      <td>4</td>\n",
       "      <td>338409</td>\n",
       "      <td>10</td>\n",
       "      <td>5</td>\n",
       "      <td>2</td>\n",
       "      <td>0</td>\n",
       "      <td>0</td>\n",
       "      <td>2</td>\n",
       "      <td>13</td>\n",
       "      <td>0</td>\n",
       "      <td>0</td>\n",
       "      <td>40</td>\n",
       "      <td>5</td>\n",
       "      <td>6</td>\n",
       "      <td>0</td>\n",
       "    </tr>\n",
       "  </tbody>\n",
       "</table>\n",
       "</div>"
      ],
      "text/plain": [
       "   age  workclass  fnlwgt  occupation  relationship  race  sex  income  \\\n",
       "0   39          7   77516           1             1     4    1       0   \n",
       "1   50          6   83311           4             0     4    1       0   \n",
       "2   38          4  215646           6             1     4    1       0   \n",
       "3   53          4  234721           6             0     2    1       0   \n",
       "4   28          4  338409          10             5     2    0       0   \n",
       "\n",
       "   marital_status  education_num  capital_gain  capital_loss  hours_per_week  \\\n",
       "0               4             13          2174             0              40   \n",
       "1               2             13             0             0              13   \n",
       "2               0              9             0             0              40   \n",
       "3               2              7             0             0              40   \n",
       "4               2             13             0             0              40   \n",
       "\n",
       "   native_country  ordedu  investment  \n",
       "0              39       6           1  \n",
       "1              39       6           0  \n",
       "2              39       2           0  \n",
       "3              39       1           0  \n",
       "4               5       6           0  "
      ]
     },
     "execution_count": 23,
     "metadata": {},
     "output_type": "execute_result"
    }
   ],
   "source": [
    "# assigning levels to the values of categorical variables\n",
    "factors = ['workclass', 'marital_status', 'occupation', 'relationship', 'race', 'sex', 'investment', 'native_country', 'income']\n",
    "income_raw = income_raw.drop('education', 1)\n",
    "income_fact = income_raw.copy()\n",
    "mapping_levels = []\n",
    "for factor in factors:\n",
    "    income_fact[factor] = income_fact[factor].factorize(sort = True)[0]\n",
    "    mapping_levels.append(income_fact[factor].factorize(sort = True)[1])\n",
    "income_fact.head()"
   ]
  },
  {
   "cell_type": "code",
   "execution_count": 24,
   "metadata": {
    "colab": {},
    "colab_type": "code",
    "id": "7lr428qCO1dj"
   },
   "outputs": [],
   "source": [
    "y = income_fact[['income']]\n",
    "X = income_fact.loc[:, income_fact.columns != 'income']"
   ]
  },
  {
   "cell_type": "code",
   "execution_count": 25,
   "metadata": {
    "colab": {
     "base_uri": "https://localhost:8080/",
     "height": 85
    },
    "colab_type": "code",
    "executionInfo": {
     "elapsed": 521,
     "status": "ok",
     "timestamp": 1579052659117,
     "user": {
      "displayName": "Jiayin Liu",
      "photoUrl": "",
      "userId": "02469597142612733971"
     },
     "user_tz": 480
    },
    "id": "Y4Bze4llO1dl",
    "outputId": "f61995da-2c26-427a-a7d2-dc45cf28155a",
    "scrolled": true
   },
   "outputs": [
    {
     "data": {
      "text/plain": [
       "Index(['age', 'workclass', 'fnlwgt', 'occupation', 'relationship', 'race',\n",
       "       'sex', 'marital_status', 'education_num', 'capital_gain',\n",
       "       'capital_loss', 'hours_per_week', 'native_country', 'ordedu',\n",
       "       'investment'],\n",
       "      dtype='object')"
      ]
     },
     "execution_count": 25,
     "metadata": {},
     "output_type": "execute_result"
    }
   ],
   "source": [
    "X.columns"
   ]
  },
  {
   "cell_type": "markdown",
   "metadata": {},
   "source": [
    "**2) perform RFE**"
   ]
  },
  {
   "cell_type": "code",
   "execution_count": 26,
   "metadata": {
    "colab": {
     "base_uri": "https://localhost:8080/",
     "height": 819
    },
    "colab_type": "code",
    "executionInfo": {
     "elapsed": 3676,
     "status": "ok",
     "timestamp": 1579052664583,
     "user": {
      "displayName": "Jiayin Liu",
      "photoUrl": "",
      "userId": "02469597142612733971"
     },
     "user_tz": 480
    },
    "id": "jmhXhaD9O1dn",
    "outputId": "d6868562-e310-4bd0-c0bf-db0512dc0c3d",
    "scrolled": true
   },
   "outputs": [
    {
     "name": "stderr",
     "output_type": "stream",
     "text": [
      "/opt/anaconda3/lib/python3.7/site-packages/sklearn/utils/validation.py:760: DataConversionWarning: A column-vector y was passed when a 1d array was expected. Please change the shape of y to (n_samples, ), for example using ravel().\n",
      "  y = column_or_1d(y, warn=True)\n",
      "/opt/anaconda3/lib/python3.7/site-packages/sklearn/linear_model/_logistic.py:940: ConvergenceWarning: lbfgs failed to converge (status=1):\n",
      "STOP: TOTAL NO. of ITERATIONS REACHED LIMIT.\n",
      "\n",
      "Increase the number of iterations (max_iter) or scale the data as shown in:\n",
      "    https://scikit-learn.org/stable/modules/preprocessing.html\n",
      "Please also refer to the documentation for alternative solver options:\n",
      "    https://scikit-learn.org/stable/modules/linear_model.html#logistic-regression\n",
      "  extra_warning_msg=_LOGISTIC_SOLVER_CONVERGENCE_MSG)\n",
      "/opt/anaconda3/lib/python3.7/site-packages/sklearn/linear_model/_logistic.py:940: ConvergenceWarning: lbfgs failed to converge (status=1):\n",
      "STOP: TOTAL NO. of ITERATIONS REACHED LIMIT.\n",
      "\n",
      "Increase the number of iterations (max_iter) or scale the data as shown in:\n",
      "    https://scikit-learn.org/stable/modules/preprocessing.html\n",
      "Please also refer to the documentation for alternative solver options:\n",
      "    https://scikit-learn.org/stable/modules/linear_model.html#logistic-regression\n",
      "  extra_warning_msg=_LOGISTIC_SOLVER_CONVERGENCE_MSG)\n",
      "/opt/anaconda3/lib/python3.7/site-packages/sklearn/linear_model/_logistic.py:940: ConvergenceWarning: lbfgs failed to converge (status=1):\n",
      "STOP: TOTAL NO. of ITERATIONS REACHED LIMIT.\n",
      "\n",
      "Increase the number of iterations (max_iter) or scale the data as shown in:\n",
      "    https://scikit-learn.org/stable/modules/preprocessing.html\n",
      "Please also refer to the documentation for alternative solver options:\n",
      "    https://scikit-learn.org/stable/modules/linear_model.html#logistic-regression\n",
      "  extra_warning_msg=_LOGISTIC_SOLVER_CONVERGENCE_MSG)\n",
      "/opt/anaconda3/lib/python3.7/site-packages/sklearn/linear_model/_logistic.py:940: ConvergenceWarning: lbfgs failed to converge (status=1):\n",
      "STOP: TOTAL NO. of ITERATIONS REACHED LIMIT.\n",
      "\n",
      "Increase the number of iterations (max_iter) or scale the data as shown in:\n",
      "    https://scikit-learn.org/stable/modules/preprocessing.html\n",
      "Please also refer to the documentation for alternative solver options:\n",
      "    https://scikit-learn.org/stable/modules/linear_model.html#logistic-regression\n",
      "  extra_warning_msg=_LOGISTIC_SOLVER_CONVERGENCE_MSG)\n"
     ]
    },
    {
     "name": "stdout",
     "output_type": "stream",
     "text": [
      "Num Features: 10\n",
      "Selected Features: [False  True False False  True  True  True  True  True False False  True\n",
      "  True  True  True]\n",
      "Feature Ranking: [2 1 6 3 1 1 1 1 1 5 4 1 1 1 1]\n"
     ]
    },
    {
     "name": "stderr",
     "output_type": "stream",
     "text": [
      "/opt/anaconda3/lib/python3.7/site-packages/sklearn/linear_model/_logistic.py:940: ConvergenceWarning: lbfgs failed to converge (status=1):\n",
      "STOP: TOTAL NO. of ITERATIONS REACHED LIMIT.\n",
      "\n",
      "Increase the number of iterations (max_iter) or scale the data as shown in:\n",
      "    https://scikit-learn.org/stable/modules/preprocessing.html\n",
      "Please also refer to the documentation for alternative solver options:\n",
      "    https://scikit-learn.org/stable/modules/linear_model.html#logistic-regression\n",
      "  extra_warning_msg=_LOGISTIC_SOLVER_CONVERGENCE_MSG)\n"
     ]
    }
   ],
   "source": [
    "model = LogisticRegression()\n",
    "rfe = RFE(model, 10)\n",
    "fit = rfe.fit(X,y)\n",
    "print(\"Num Features: %s\" % (fit.n_features_))\n",
    "print(\"Selected Features: %s\" % (fit.support_))\n",
    "print(\"Feature Ranking: %s\" % (fit.ranking_))"
   ]
  },
  {
   "cell_type": "markdown",
   "metadata": {
    "colab_type": "text",
    "id": "gEW2-gRXO1dp"
   },
   "source": [
    "# Logistic Regression Model (Q4)"
   ]
  },
  {
   "cell_type": "markdown",
   "metadata": {},
   "source": [
    "**1) drop features based on feature selection technique**"
   ]
  },
  {
   "cell_type": "code",
   "execution_count": 27,
   "metadata": {
    "colab": {},
    "colab_type": "code",
    "id": "iixiGXOcO1dq"
   },
   "outputs": [],
   "source": [
    "drop = ['fnlwgt', 'occupation', 'age', 'race', 'capital_gain', 'capital_loss', 'native_country']\n",
    "income_fact = income_fact.drop(drop,1)"
   ]
  },
  {
   "cell_type": "markdown",
   "metadata": {},
   "source": [
    "**2) create indicator variables**"
   ]
  },
  {
   "cell_type": "code",
   "execution_count": 28,
   "metadata": {
    "colab": {
     "base_uri": "https://localhost:8080/",
     "height": 224
    },
    "colab_type": "code",
    "executionInfo": {
     "elapsed": 857,
     "status": "ok",
     "timestamp": 1579052672308,
     "user": {
      "displayName": "Jiayin Liu",
      "photoUrl": "",
      "userId": "02469597142612733971"
     },
     "user_tz": 480
    },
    "id": "cycdif99O1dr",
    "outputId": "65281f2a-83a3-445b-a319-43e1278a0475",
    "scrolled": true
   },
   "outputs": [
    {
     "data": {
      "text/html": [
       "<div>\n",
       "<style scoped>\n",
       "    .dataframe tbody tr th:only-of-type {\n",
       "        vertical-align: middle;\n",
       "    }\n",
       "\n",
       "    .dataframe tbody tr th {\n",
       "        vertical-align: top;\n",
       "    }\n",
       "\n",
       "    .dataframe thead th {\n",
       "        text-align: right;\n",
       "    }\n",
       "</style>\n",
       "<table border=\"1\" class=\"dataframe\">\n",
       "  <thead>\n",
       "    <tr style=\"text-align: right;\">\n",
       "      <th></th>\n",
       "      <th>income</th>\n",
       "      <th>education_num</th>\n",
       "      <th>hours_per_week</th>\n",
       "      <th>ordedu</th>\n",
       "      <th>workclass_1</th>\n",
       "      <th>workclass_2</th>\n",
       "      <th>workclass_3</th>\n",
       "      <th>workclass_4</th>\n",
       "      <th>workclass_5</th>\n",
       "      <th>workclass_6</th>\n",
       "      <th>...</th>\n",
       "      <th>marital_status_4</th>\n",
       "      <th>marital_status_5</th>\n",
       "      <th>marital_status_6</th>\n",
       "      <th>relationship_1</th>\n",
       "      <th>relationship_2</th>\n",
       "      <th>relationship_3</th>\n",
       "      <th>relationship_4</th>\n",
       "      <th>relationship_5</th>\n",
       "      <th>sex_1</th>\n",
       "      <th>investment_1</th>\n",
       "    </tr>\n",
       "  </thead>\n",
       "  <tbody>\n",
       "    <tr>\n",
       "      <td>0</td>\n",
       "      <td>0</td>\n",
       "      <td>13</td>\n",
       "      <td>40</td>\n",
       "      <td>6</td>\n",
       "      <td>0</td>\n",
       "      <td>0</td>\n",
       "      <td>0</td>\n",
       "      <td>0</td>\n",
       "      <td>0</td>\n",
       "      <td>0</td>\n",
       "      <td>...</td>\n",
       "      <td>1</td>\n",
       "      <td>0</td>\n",
       "      <td>0</td>\n",
       "      <td>1</td>\n",
       "      <td>0</td>\n",
       "      <td>0</td>\n",
       "      <td>0</td>\n",
       "      <td>0</td>\n",
       "      <td>1</td>\n",
       "      <td>1</td>\n",
       "    </tr>\n",
       "    <tr>\n",
       "      <td>1</td>\n",
       "      <td>0</td>\n",
       "      <td>13</td>\n",
       "      <td>13</td>\n",
       "      <td>6</td>\n",
       "      <td>0</td>\n",
       "      <td>0</td>\n",
       "      <td>0</td>\n",
       "      <td>0</td>\n",
       "      <td>0</td>\n",
       "      <td>1</td>\n",
       "      <td>...</td>\n",
       "      <td>0</td>\n",
       "      <td>0</td>\n",
       "      <td>0</td>\n",
       "      <td>0</td>\n",
       "      <td>0</td>\n",
       "      <td>0</td>\n",
       "      <td>0</td>\n",
       "      <td>0</td>\n",
       "      <td>1</td>\n",
       "      <td>0</td>\n",
       "    </tr>\n",
       "    <tr>\n",
       "      <td>2</td>\n",
       "      <td>0</td>\n",
       "      <td>9</td>\n",
       "      <td>40</td>\n",
       "      <td>2</td>\n",
       "      <td>0</td>\n",
       "      <td>0</td>\n",
       "      <td>0</td>\n",
       "      <td>1</td>\n",
       "      <td>0</td>\n",
       "      <td>0</td>\n",
       "      <td>...</td>\n",
       "      <td>0</td>\n",
       "      <td>0</td>\n",
       "      <td>0</td>\n",
       "      <td>1</td>\n",
       "      <td>0</td>\n",
       "      <td>0</td>\n",
       "      <td>0</td>\n",
       "      <td>0</td>\n",
       "      <td>1</td>\n",
       "      <td>0</td>\n",
       "    </tr>\n",
       "    <tr>\n",
       "      <td>3</td>\n",
       "      <td>0</td>\n",
       "      <td>7</td>\n",
       "      <td>40</td>\n",
       "      <td>1</td>\n",
       "      <td>0</td>\n",
       "      <td>0</td>\n",
       "      <td>0</td>\n",
       "      <td>1</td>\n",
       "      <td>0</td>\n",
       "      <td>0</td>\n",
       "      <td>...</td>\n",
       "      <td>0</td>\n",
       "      <td>0</td>\n",
       "      <td>0</td>\n",
       "      <td>0</td>\n",
       "      <td>0</td>\n",
       "      <td>0</td>\n",
       "      <td>0</td>\n",
       "      <td>0</td>\n",
       "      <td>1</td>\n",
       "      <td>0</td>\n",
       "    </tr>\n",
       "    <tr>\n",
       "      <td>4</td>\n",
       "      <td>0</td>\n",
       "      <td>13</td>\n",
       "      <td>40</td>\n",
       "      <td>6</td>\n",
       "      <td>0</td>\n",
       "      <td>0</td>\n",
       "      <td>0</td>\n",
       "      <td>1</td>\n",
       "      <td>0</td>\n",
       "      <td>0</td>\n",
       "      <td>...</td>\n",
       "      <td>0</td>\n",
       "      <td>0</td>\n",
       "      <td>0</td>\n",
       "      <td>0</td>\n",
       "      <td>0</td>\n",
       "      <td>0</td>\n",
       "      <td>0</td>\n",
       "      <td>1</td>\n",
       "      <td>0</td>\n",
       "      <td>0</td>\n",
       "    </tr>\n",
       "  </tbody>\n",
       "</table>\n",
       "<p>5 rows × 25 columns</p>\n",
       "</div>"
      ],
      "text/plain": [
       "   income  education_num  hours_per_week  ordedu  workclass_1  workclass_2  \\\n",
       "0       0             13              40       6            0            0   \n",
       "1       0             13              13       6            0            0   \n",
       "2       0              9              40       2            0            0   \n",
       "3       0              7              40       1            0            0   \n",
       "4       0             13              40       6            0            0   \n",
       "\n",
       "   workclass_3  workclass_4  workclass_5  workclass_6  ...  marital_status_4  \\\n",
       "0            0            0            0            0  ...                 1   \n",
       "1            0            0            0            1  ...                 0   \n",
       "2            0            1            0            0  ...                 0   \n",
       "3            0            1            0            0  ...                 0   \n",
       "4            0            1            0            0  ...                 0   \n",
       "\n",
       "   marital_status_5  marital_status_6  relationship_1  relationship_2  \\\n",
       "0                 0                 0               1               0   \n",
       "1                 0                 0               0               0   \n",
       "2                 0                 0               1               0   \n",
       "3                 0                 0               0               0   \n",
       "4                 0                 0               0               0   \n",
       "\n",
       "   relationship_3  relationship_4  relationship_5  sex_1  investment_1  \n",
       "0               0               0               0      1             1  \n",
       "1               0               0               0      1             0  \n",
       "2               0               0               0      1             0  \n",
       "3               0               0               0      1             0  \n",
       "4               0               0               1      0             0  \n",
       "\n",
       "[5 rows x 25 columns]"
      ]
     },
     "execution_count": 28,
     "metadata": {},
     "output_type": "execute_result"
    }
   ],
   "source": [
    "df_income = income_fact.copy()\n",
    "factors1 = ['workclass', 'marital_status', 'relationship', 'sex', 'investment', 'income']\n",
    "for var in factors1:\n",
    "    if var != 'income':\n",
    "        cat_list='var'+'_'+var\n",
    "        cat_list = pd.get_dummies(df_income[var], prefix=var, drop_first=True)\n",
    "        df_income = pd.concat([df_income,cat_list], axis = 1)\n",
    "        df_income = df_income.drop(var, 1)\n",
    "\n",
    "df_income['income'] = df_income['income'].factorize()[0]\n",
    "df_income.head()"
   ]
  },
  {
   "cell_type": "markdown",
   "metadata": {},
   "source": [
    "**3) Test-Training Set Split; oversampling using SMOTE**"
   ]
  },
  {
   "cell_type": "code",
   "execution_count": 29,
   "metadata": {},
   "outputs": [
    {
     "name": "stdout",
     "output_type": "stream",
     "text": [
      "length of oversampled data is  34626\n",
      "Number of income less than 50k in oversampled data 17313\n",
      "Number of income more than 50k 17313\n",
      "Proportion of income less than 50k data in oversampled data is  0.5\n",
      "Proportion of income more than 50k data in oversampled data is  0.5\n"
     ]
    }
   ],
   "source": [
    "os = SMOTE(random_state=0)\n",
    "X_train, X_test, Y_train, Y_test = train_test_split(df_income.drop('income',axis=1),df_income['income'], test_size=0.30, random_state=0)\n",
    "columns = X_train.columns\n",
    "os_data_X,os_data_y=os.fit_sample(X_train, Y_train)\n",
    "os_data_X = pd.DataFrame(data=os_data_X,columns=columns )\n",
    "os_data_y= pd.DataFrame(data=os_data_y,columns=['income'])\n",
    "# we can Check the numbers of our data\n",
    "print(\"length of oversampled data is \",len(os_data_X))\n",
    "print(\"Number of income less than 50k in oversampled data\",len(os_data_y[os_data_y['income']==0]))\n",
    "print(\"Number of income more than 50k\",len(os_data_y[os_data_y['income']==1]))\n",
    "print(\"Proportion of income less than 50k data in oversampled data is \",len(os_data_y[os_data_y['income']==0])/len(os_data_X))\n",
    "print(\"Proportion of income more than 50k data in oversampled data is \",len(os_data_y[os_data_y['income']==1])/len(os_data_X))"
   ]
  },
  {
   "cell_type": "markdown",
   "metadata": {},
   "source": [
    "**4) logistic model building**"
   ]
  },
  {
   "cell_type": "code",
   "execution_count": 30,
   "metadata": {
    "colab": {
     "base_uri": "https://localhost:8080/",
     "height": 153
    },
    "colab_type": "code",
    "executionInfo": {
     "elapsed": 970,
     "status": "ok",
     "timestamp": 1579052679092,
     "user": {
      "displayName": "Jiayin Liu",
      "photoUrl": "",
      "userId": "02469597142612733971"
     },
     "user_tz": 480
    },
    "id": "-KQMfgEVO1du",
    "outputId": "be7ce51e-e3c1-4cd8-cf7a-94673e682cba",
    "scrolled": false
   },
   "outputs": [
    {
     "name": "stderr",
     "output_type": "stream",
     "text": [
      "/opt/anaconda3/lib/python3.7/site-packages/sklearn/linear_model/_logistic.py:940: ConvergenceWarning: lbfgs failed to converge (status=1):\n",
      "STOP: TOTAL NO. of ITERATIONS REACHED LIMIT.\n",
      "\n",
      "Increase the number of iterations (max_iter) or scale the data as shown in:\n",
      "    https://scikit-learn.org/stable/modules/preprocessing.html\n",
      "Please also refer to the documentation for alternative solver options:\n",
      "    https://scikit-learn.org/stable/modules/linear_model.html#logistic-regression\n",
      "  extra_warning_msg=_LOGISTIC_SOLVER_CONVERGENCE_MSG)\n"
     ]
    }
   ],
   "source": [
    "logreg = LogisticRegression()\n",
    "logreg = logreg.fit(X_train, Y_train)"
   ]
  },
  {
   "cell_type": "code",
   "execution_count": 31,
   "metadata": {
    "colab": {
     "base_uri": "https://localhost:8080/",
     "height": 51
    },
    "colab_type": "code",
    "executionInfo": {
     "elapsed": 905,
     "status": "ok",
     "timestamp": 1579052683289,
     "user": {
      "displayName": "Jiayin Liu",
      "photoUrl": "",
      "userId": "02469597142612733971"
     },
     "user_tz": 480
    },
    "id": "SRgY6m6KO1dw",
    "outputId": "4d5de7d7-4324-4f3e-b76e-3fd84c9d297f"
   },
   "outputs": [
    {
     "name": "stdout",
     "output_type": "stream",
     "text": [
      "[[6819  588]\n",
      " [1043 1319]]\n"
     ]
    }
   ],
   "source": [
    "Y_pred = logreg.predict(X_test)\n",
    "confusion_matrix = confusion_matrix(Y_test, Y_pred)\n",
    "print(confusion_matrix)"
   ]
  },
  {
   "cell_type": "code",
   "execution_count": 32,
   "metadata": {
    "colab": {
     "base_uri": "https://localhost:8080/",
     "height": 68
    },
    "colab_type": "code",
    "executionInfo": {
     "elapsed": 858,
     "status": "ok",
     "timestamp": 1579052686918,
     "user": {
      "displayName": "Jiayin Liu",
      "photoUrl": "",
      "userId": "02469597142612733971"
     },
     "user_tz": 480
    },
    "id": "CzcnF_tvO1dy",
    "outputId": "84749005-5e16-48dd-a969-b4e4ac50e5e8"
   },
   "outputs": [
    {
     "name": "stdout",
     "output_type": "stream",
     "text": [
      "Accuracy: 0.8342839592839593\n",
      "Precision: 0.6916622968012586\n",
      "Recall: 0.5584250635055038\n"
     ]
    }
   ],
   "source": [
    "print(\"Accuracy:\",logreg.score(X_train, Y_train))\n",
    "print(\"Precision:\",metrics.precision_score(Y_test, Y_pred))\n",
    "print(\"Recall:\",metrics.recall_score(Y_test, Y_pred))"
   ]
  },
  {
   "cell_type": "code",
   "execution_count": 33,
   "metadata": {
    "colab": {
     "base_uri": "https://localhost:8080/",
     "height": 295
    },
    "colab_type": "code",
    "executionInfo": {
     "elapsed": 776,
     "status": "ok",
     "timestamp": 1579052692644,
     "user": {
      "displayName": "Jiayin Liu",
      "photoUrl": "",
      "userId": "02469597142612733971"
     },
     "user_tz": 480
    },
    "id": "G5Bl9A9gO1d0",
    "outputId": "13732ab1-ef41-41ff-bcc3-bbd1793996e8"
   },
   "outputs": [
    {
     "data": {
      "image/png": "[encoded data removed]",
      "text/plain": [
       "<Figure size 432x288 with 1 Axes>"
      ]
     },
     "metadata": {
      "needs_background": "light"
     },
     "output_type": "display_data"
    }
   ],
   "source": [
    "# ROC curve and AUC\n",
    "logit_roc_auc = roc_auc_score(Y_test, logreg.predict(X_test))\n",
    "fpr, tpr, thresholds = roc_curve(Y_test, logreg.predict_proba(X_test)[:,1])\n",
    "plt.figure()\n",
    "plt.plot(fpr, tpr, label=\"logisticmodel, auc=\"+str(logit_roc_auc))\n",
    "plt.plot([0, 1], [0, 1],'r--')\n",
    "plt.xlim([0.0, 1.0])\n",
    "plt.ylim([0.0, 1.05])\n",
    "plt.xlabel('False Positive Rate')\n",
    "plt.ylabel('True Positive Rate')\n",
    "plt.title('Receiver operating characteristic')\n",
    "plt.legend(loc=\"lower right\")\n",
    "plt.savefig('Log_ROC')\n",
    "plt.show()"
   ]
  },
  {
   "cell_type": "code",
   "execution_count": 34,
   "metadata": {
    "colab": {
     "base_uri": "https://localhost:8080/",
     "height": 1000
    },
    "colab_type": "code",
    "executionInfo": {
     "elapsed": 491,
     "status": "ok",
     "timestamp": 1579052696388,
     "user": {
      "displayName": "Jiayin Liu",
      "photoUrl": "",
      "userId": "02469597142612733971"
     },
     "user_tz": 480
    },
    "id": "6kJ8W1_yO1d2",
    "outputId": "19e49ada-9422-4afb-c476-949eb8951a3b"
   },
   "outputs": [
    {
     "data": {
      "text/html": [
       "<div>\n",
       "<style scoped>\n",
       "    .dataframe tbody tr th:only-of-type {\n",
       "        vertical-align: middle;\n",
       "    }\n",
       "\n",
       "    .dataframe tbody tr th {\n",
       "        vertical-align: top;\n",
       "    }\n",
       "\n",
       "    .dataframe thead th {\n",
       "        text-align: right;\n",
       "    }\n",
       "</style>\n",
       "<table border=\"1\" class=\"dataframe\">\n",
       "  <thead>\n",
       "    <tr style=\"text-align: right;\">\n",
       "      <th></th>\n",
       "      <th>Feature</th>\n",
       "      <th>Correlation</th>\n",
       "      <th>pvals</th>\n",
       "    </tr>\n",
       "  </thead>\n",
       "  <tbody>\n",
       "    <tr>\n",
       "      <td>21</td>\n",
       "      <td>sex_1</td>\n",
       "      <td>1.048625</td>\n",
       "      <td>0.000000</td>\n",
       "    </tr>\n",
       "    <tr>\n",
       "      <td>22</td>\n",
       "      <td>investment_1</td>\n",
       "      <td>0.786638</td>\n",
       "      <td>0.000000</td>\n",
       "    </tr>\n",
       "    <tr>\n",
       "      <td>3</td>\n",
       "      <td>workclass_2</td>\n",
       "      <td>0.496874</td>\n",
       "      <td>0.000000</td>\n",
       "    </tr>\n",
       "    <tr>\n",
       "      <td>7</td>\n",
       "      <td>workclass_6</td>\n",
       "      <td>0.294758</td>\n",
       "      <td>0.000000</td>\n",
       "    </tr>\n",
       "    <tr>\n",
       "      <td>12</td>\n",
       "      <td>marital_status_3</td>\n",
       "      <td>0.278260</td>\n",
       "      <td>0.268861</td>\n",
       "    </tr>\n",
       "    <tr>\n",
       "      <td>0</td>\n",
       "      <td>hours_per_week</td>\n",
       "      <td>0.227478</td>\n",
       "      <td>0.000000</td>\n",
       "    </tr>\n",
       "    <tr>\n",
       "      <td>2</td>\n",
       "      <td>workclass_1</td>\n",
       "      <td>0.142904</td>\n",
       "      <td>0.000000</td>\n",
       "    </tr>\n",
       "    <tr>\n",
       "      <td>11</td>\n",
       "      <td>marital_status_2</td>\n",
       "      <td>0.129295</td>\n",
       "      <td>0.416736</td>\n",
       "    </tr>\n",
       "    <tr>\n",
       "      <td>6</td>\n",
       "      <td>workclass_5</td>\n",
       "      <td>0.071159</td>\n",
       "      <td>0.939342</td>\n",
       "    </tr>\n",
       "    <tr>\n",
       "      <td>4</td>\n",
       "      <td>workclass_3</td>\n",
       "      <td>0.033591</td>\n",
       "      <td>0.000000</td>\n",
       "    </tr>\n",
       "    <tr>\n",
       "      <td>1</td>\n",
       "      <td>ordedu</td>\n",
       "      <td>0.027552</td>\n",
       "      <td>0.000000</td>\n",
       "    </tr>\n",
       "    <tr>\n",
       "      <td>5</td>\n",
       "      <td>workclass_4</td>\n",
       "      <td>-0.021932</td>\n",
       "      <td>0.015570</td>\n",
       "    </tr>\n",
       "    <tr>\n",
       "      <td>16</td>\n",
       "      <td>relationship_1</td>\n",
       "      <td>-0.063314</td>\n",
       "      <td>0.000000</td>\n",
       "    </tr>\n",
       "    <tr>\n",
       "      <td>10</td>\n",
       "      <td>marital_status_1</td>\n",
       "      <td>-0.100148</td>\n",
       "      <td>0.000000</td>\n",
       "    </tr>\n",
       "    <tr>\n",
       "      <td>13</td>\n",
       "      <td>marital_status_4</td>\n",
       "      <td>-0.344976</td>\n",
       "      <td>0.000000</td>\n",
       "    </tr>\n",
       "    <tr>\n",
       "      <td>15</td>\n",
       "      <td>marital_status_6</td>\n",
       "      <td>-0.348046</td>\n",
       "      <td>0.000000</td>\n",
       "    </tr>\n",
       "    <tr>\n",
       "      <td>9</td>\n",
       "      <td>workclass_8</td>\n",
       "      <td>-0.374562</td>\n",
       "      <td>0.000000</td>\n",
       "    </tr>\n",
       "    <tr>\n",
       "      <td>8</td>\n",
       "      <td>workclass_7</td>\n",
       "      <td>-0.377182</td>\n",
       "      <td>0.000000</td>\n",
       "    </tr>\n",
       "    <tr>\n",
       "      <td>14</td>\n",
       "      <td>marital_status_5</td>\n",
       "      <td>-0.911581</td>\n",
       "      <td>0.000000</td>\n",
       "    </tr>\n",
       "    <tr>\n",
       "      <td>17</td>\n",
       "      <td>relationship_2</td>\n",
       "      <td>-1.182371</td>\n",
       "      <td>0.000162</td>\n",
       "    </tr>\n",
       "    <tr>\n",
       "      <td>20</td>\n",
       "      <td>relationship_5</td>\n",
       "      <td>-1.346778</td>\n",
       "      <td>0.000000</td>\n",
       "    </tr>\n",
       "    <tr>\n",
       "      <td>18</td>\n",
       "      <td>relationship_3</td>\n",
       "      <td>-1.421577</td>\n",
       "      <td>0.000000</td>\n",
       "    </tr>\n",
       "    <tr>\n",
       "      <td>19</td>\n",
       "      <td>relationship_4</td>\n",
       "      <td>-2.337115</td>\n",
       "      <td>0.000000</td>\n",
       "    </tr>\n",
       "  </tbody>\n",
       "</table>\n",
       "</div>"
      ],
      "text/plain": [
       "             Feature  Correlation     pvals\n",
       "21             sex_1     1.048625  0.000000\n",
       "22      investment_1     0.786638  0.000000\n",
       "3        workclass_2     0.496874  0.000000\n",
       "7        workclass_6     0.294758  0.000000\n",
       "12  marital_status_3     0.278260  0.268861\n",
       "0     hours_per_week     0.227478  0.000000\n",
       "2        workclass_1     0.142904  0.000000\n",
       "11  marital_status_2     0.129295  0.416736\n",
       "6        workclass_5     0.071159  0.939342\n",
       "4        workclass_3     0.033591  0.000000\n",
       "1             ordedu     0.027552  0.000000\n",
       "5        workclass_4    -0.021932  0.015570\n",
       "16    relationship_1    -0.063314  0.000000\n",
       "10  marital_status_1    -0.100148  0.000000\n",
       "13  marital_status_4    -0.344976  0.000000\n",
       "15  marital_status_6    -0.348046  0.000000\n",
       "9        workclass_8    -0.374562  0.000000\n",
       "8        workclass_7    -0.377182  0.000000\n",
       "14  marital_status_5    -0.911581  0.000000\n",
       "17    relationship_2    -1.182371  0.000162\n",
       "20    relationship_5    -1.346778  0.000000\n",
       "18    relationship_3    -1.421577  0.000000\n",
       "19    relationship_4    -2.337115  0.000000"
      ]
     },
     "execution_count": 34,
     "metadata": {},
     "output_type": "execute_result"
    }
   ],
   "source": [
    "# Positive coefficients increase the log-odds of the response (and thus increase the probability) \n",
    "# negative coefficients decrease the log-odds of the response (and thus decrease the probability).\n",
    "coeff_df = pd.DataFrame(X_train.columns.delete(0))\n",
    "coeff_df.columns = ['Feature']\n",
    "coeff_df[\"Correlation\"] = pd.Series(logreg.coef_[0])\n",
    "from regressors import stats\n",
    "coeff_df['pvals'] = pd.Series(stats.coef_pval(logreg, X_train, Y_train))\n",
    "\n",
    "coeff_df.sort_values(by='Correlation', ascending=False)"
   ]
  },
  {
   "cell_type": "markdown",
   "metadata": {},
   "source": [
    "# Linear Regression - work hours (Q5)"
   ]
  },
  {
   "cell_type": "markdown",
   "metadata": {},
   "source": [
    "**1) prepare data for linear regression**"
   ]
  },
  {
   "cell_type": "code",
   "execution_count": 35,
   "metadata": {},
   "outputs": [
    {
     "data": {
      "text/html": [
       "<div>\n",
       "<style scoped>\n",
       "    .dataframe tbody tr th:only-of-type {\n",
       "        vertical-align: middle;\n",
       "    }\n",
       "\n",
       "    .dataframe tbody tr th {\n",
       "        vertical-align: top;\n",
       "    }\n",
       "\n",
       "    .dataframe thead th {\n",
       "        text-align: right;\n",
       "    }\n",
       "</style>\n",
       "<table border=\"1\" class=\"dataframe\">\n",
       "  <thead>\n",
       "    <tr style=\"text-align: right;\">\n",
       "      <th></th>\n",
       "      <th>age</th>\n",
       "      <th>workclass</th>\n",
       "      <th>fnlwgt</th>\n",
       "      <th>occupation</th>\n",
       "      <th>relationship</th>\n",
       "      <th>race</th>\n",
       "      <th>sex</th>\n",
       "      <th>income</th>\n",
       "      <th>marital_status</th>\n",
       "      <th>education_num</th>\n",
       "      <th>capital_gain</th>\n",
       "      <th>capital_loss</th>\n",
       "      <th>hours_per_week</th>\n",
       "      <th>native_country</th>\n",
       "      <th>ordedu</th>\n",
       "      <th>investment</th>\n",
       "    </tr>\n",
       "  </thead>\n",
       "  <tbody>\n",
       "    <tr>\n",
       "      <td>0</td>\n",
       "      <td>39</td>\n",
       "      <td>7</td>\n",
       "      <td>77516</td>\n",
       "      <td>1</td>\n",
       "      <td>1</td>\n",
       "      <td>4</td>\n",
       "      <td>1</td>\n",
       "      <td>0</td>\n",
       "      <td>4</td>\n",
       "      <td>13</td>\n",
       "      <td>2174</td>\n",
       "      <td>0</td>\n",
       "      <td>40</td>\n",
       "      <td>39</td>\n",
       "      <td>6</td>\n",
       "      <td>1</td>\n",
       "    </tr>\n",
       "    <tr>\n",
       "      <td>1</td>\n",
       "      <td>50</td>\n",
       "      <td>6</td>\n",
       "      <td>83311</td>\n",
       "      <td>4</td>\n",
       "      <td>0</td>\n",
       "      <td>4</td>\n",
       "      <td>1</td>\n",
       "      <td>0</td>\n",
       "      <td>2</td>\n",
       "      <td>13</td>\n",
       "      <td>0</td>\n",
       "      <td>0</td>\n",
       "      <td>13</td>\n",
       "      <td>39</td>\n",
       "      <td>6</td>\n",
       "      <td>0</td>\n",
       "    </tr>\n",
       "    <tr>\n",
       "      <td>2</td>\n",
       "      <td>38</td>\n",
       "      <td>4</td>\n",
       "      <td>215646</td>\n",
       "      <td>6</td>\n",
       "      <td>1</td>\n",
       "      <td>4</td>\n",
       "      <td>1</td>\n",
       "      <td>0</td>\n",
       "      <td>0</td>\n",
       "      <td>9</td>\n",
       "      <td>0</td>\n",
       "      <td>0</td>\n",
       "      <td>40</td>\n",
       "      <td>39</td>\n",
       "      <td>2</td>\n",
       "      <td>0</td>\n",
       "    </tr>\n",
       "    <tr>\n",
       "      <td>3</td>\n",
       "      <td>53</td>\n",
       "      <td>4</td>\n",
       "      <td>234721</td>\n",
       "      <td>6</td>\n",
       "      <td>0</td>\n",
       "      <td>2</td>\n",
       "      <td>1</td>\n",
       "      <td>0</td>\n",
       "      <td>2</td>\n",
       "      <td>7</td>\n",
       "      <td>0</td>\n",
       "      <td>0</td>\n",
       "      <td>40</td>\n",
       "      <td>39</td>\n",
       "      <td>1</td>\n",
       "      <td>0</td>\n",
       "    </tr>\n",
       "    <tr>\n",
       "      <td>4</td>\n",
       "      <td>28</td>\n",
       "      <td>4</td>\n",
       "      <td>338409</td>\n",
       "      <td>10</td>\n",
       "      <td>5</td>\n",
       "      <td>2</td>\n",
       "      <td>0</td>\n",
       "      <td>0</td>\n",
       "      <td>2</td>\n",
       "      <td>13</td>\n",
       "      <td>0</td>\n",
       "      <td>0</td>\n",
       "      <td>40</td>\n",
       "      <td>5</td>\n",
       "      <td>6</td>\n",
       "      <td>0</td>\n",
       "    </tr>\n",
       "  </tbody>\n",
       "</table>\n",
       "</div>"
      ],
      "text/plain": [
       "   age  workclass  fnlwgt  occupation  relationship  race  sex  income  \\\n",
       "0   39          7   77516           1             1     4    1       0   \n",
       "1   50          6   83311           4             0     4    1       0   \n",
       "2   38          4  215646           6             1     4    1       0   \n",
       "3   53          4  234721           6             0     2    1       0   \n",
       "4   28          4  338409          10             5     2    0       0   \n",
       "\n",
       "   marital_status  education_num  capital_gain  capital_loss  hours_per_week  \\\n",
       "0               4             13          2174             0              40   \n",
       "1               2             13             0             0              13   \n",
       "2               0              9             0             0              40   \n",
       "3               2              7             0             0              40   \n",
       "4               2             13             0             0              40   \n",
       "\n",
       "   native_country  ordedu  investment  \n",
       "0              39       6           1  \n",
       "1              39       6           0  \n",
       "2              39       2           0  \n",
       "3              39       1           0  \n",
       "4               5       6           0  "
      ]
     },
     "execution_count": 35,
     "metadata": {},
     "output_type": "execute_result"
    }
   ],
   "source": [
    "income_new = income_raw.copy()\n",
    "factors = ['workclass', 'marital_status', 'occupation', 'relationship', 'race', 'sex', 'investment', 'native_country', 'income']\n",
    "\n",
    "mapping_levels = []\n",
    "for factor in factors:\n",
    "    income_new[factor] = income_new[factor].factorize(sort = True)[0]\n",
    "    mapping_levels.append(income_new[factor].factorize(sort = True)[1])\n",
    "income_new.head()"
   ]
  },
  {
   "cell_type": "code",
   "execution_count": 36,
   "metadata": {},
   "outputs": [
    {
     "name": "stdout",
     "output_type": "stream",
     "text": [
      "Num Features: 10\n",
      "Selected Features: [False  True False  True  True  True  True  True  True  True False False\n",
      " False  True  True]\n",
      "Feature Ranking: [2 1 6 1 1 1 1 1 1 1 5 4 3 1 1]\n"
     ]
    },
    {
     "name": "stderr",
     "output_type": "stream",
     "text": [
      "/opt/anaconda3/lib/python3.7/site-packages/sklearn/utils/validation.py:760: DataConversionWarning: A column-vector y was passed when a 1d array was expected. Please change the shape of y to (n_samples, ), for example using ravel().\n",
      "  y = column_or_1d(y, warn=True)\n"
     ]
    }
   ],
   "source": [
    "# RFE for linear regression variable selection\n",
    "y_rfe = income_new[['hours_per_week']]\n",
    "X_rfe = income_new.loc[:, income_new.columns != 'hours_per_week']\n",
    "model_select_feature = LinearRegression()\n",
    "rfe = RFE(model_select_feature, 10)\n",
    "fit = rfe.fit(X_rfe,y_rfe)\n",
    "print(\"Num Features: %s\" % (fit.n_features_))\n",
    "print(\"Selected Features: %s\" % (fit.support_))\n",
    "print(\"Feature Ranking: %s\" % (fit.ranking_))"
   ]
  },
  {
   "cell_type": "code",
   "execution_count": 37,
   "metadata": {},
   "outputs": [
    {
     "data": {
      "text/plain": [
       "Index(['age', 'workclass', 'fnlwgt', 'occupation', 'relationship', 'race',\n",
       "       'sex', 'income', 'marital_status', 'education_num', 'capital_gain',\n",
       "       'capital_loss', 'native_country', 'ordedu', 'investment'],\n",
       "      dtype='object')"
      ]
     },
     "execution_count": 37,
     "metadata": {},
     "output_type": "execute_result"
    }
   ],
   "source": [
    "X_rfe.columns"
   ]
  },
  {
   "cell_type": "code",
   "execution_count": 38,
   "metadata": {},
   "outputs": [],
   "source": [
    "# drop features based on RFE, FDR, and EDA\n",
    "# In EDA, race data is biased since most are white people.\n",
    "#Besides, the eudcation_num and ordedu are correlated, so only ordedu is kept for analysis.\n",
    "# In RFE, age, fnlwgt, capital_gain, capital_loss and native_country should be dropped.\n",
    "\n",
    "drop_var = ['age', 'fnlwgt', 'education_num', \"race\", 'capital_gain', 'capital_loss', 'native_country']\n",
    "income_new = income_new.drop(drop_var,1)"
   ]
  },
  {
   "cell_type": "code",
   "execution_count": 39,
   "metadata": {},
   "outputs": [],
   "source": [
    "income_new['sexedu'] = income_new['sex']*income_new['ordedu']\n",
    "income_new['sexoccu'] = income_new['sex']*income_new['occupation']\n",
    "income_new['sexmarital'] = income_new['sex']*income_new['marital_status']\n",
    "income_new['sexincome'] = income_new['sex']*income_new['income']\n",
    "income_new['ordeduincome'] = income_new['income']*income_new['ordedu']\n",
    "income_new['investincome'] = income_new['income']*income_new['investment']"
   ]
  },
  {
   "cell_type": "code",
   "execution_count": 40,
   "metadata": {
    "scrolled": true
   },
   "outputs": [
    {
     "data": {
      "text/html": [
       "<div>\n",
       "<style scoped>\n",
       "    .dataframe tbody tr th:only-of-type {\n",
       "        vertical-align: middle;\n",
       "    }\n",
       "\n",
       "    .dataframe tbody tr th {\n",
       "        vertical-align: top;\n",
       "    }\n",
       "\n",
       "    .dataframe thead th {\n",
       "        text-align: right;\n",
       "    }\n",
       "</style>\n",
       "<table border=\"1\" class=\"dataframe\">\n",
       "  <thead>\n",
       "    <tr style=\"text-align: right;\">\n",
       "      <th></th>\n",
       "      <th>hours_per_week</th>\n",
       "      <th>ordedu</th>\n",
       "      <th>investment</th>\n",
       "      <th>workclass_1</th>\n",
       "      <th>workclass_2</th>\n",
       "      <th>workclass_3</th>\n",
       "      <th>workclass_4</th>\n",
       "      <th>workclass_5</th>\n",
       "      <th>workclass_6</th>\n",
       "      <th>workclass_7</th>\n",
       "      <th>...</th>\n",
       "      <th>ordeduincome_1</th>\n",
       "      <th>ordeduincome_2</th>\n",
       "      <th>ordeduincome_3</th>\n",
       "      <th>ordeduincome_4</th>\n",
       "      <th>ordeduincome_5</th>\n",
       "      <th>ordeduincome_6</th>\n",
       "      <th>ordeduincome_7</th>\n",
       "      <th>ordeduincome_8</th>\n",
       "      <th>ordeduincome_9</th>\n",
       "      <th>investincome_1</th>\n",
       "    </tr>\n",
       "  </thead>\n",
       "  <tbody>\n",
       "    <tr>\n",
       "      <td>0</td>\n",
       "      <td>40</td>\n",
       "      <td>6</td>\n",
       "      <td>1</td>\n",
       "      <td>0</td>\n",
       "      <td>0</td>\n",
       "      <td>0</td>\n",
       "      <td>0</td>\n",
       "      <td>0</td>\n",
       "      <td>0</td>\n",
       "      <td>1</td>\n",
       "      <td>...</td>\n",
       "      <td>0</td>\n",
       "      <td>0</td>\n",
       "      <td>0</td>\n",
       "      <td>0</td>\n",
       "      <td>0</td>\n",
       "      <td>0</td>\n",
       "      <td>0</td>\n",
       "      <td>0</td>\n",
       "      <td>0</td>\n",
       "      <td>0</td>\n",
       "    </tr>\n",
       "    <tr>\n",
       "      <td>1</td>\n",
       "      <td>13</td>\n",
       "      <td>6</td>\n",
       "      <td>0</td>\n",
       "      <td>0</td>\n",
       "      <td>0</td>\n",
       "      <td>0</td>\n",
       "      <td>0</td>\n",
       "      <td>0</td>\n",
       "      <td>1</td>\n",
       "      <td>0</td>\n",
       "      <td>...</td>\n",
       "      <td>0</td>\n",
       "      <td>0</td>\n",
       "      <td>0</td>\n",
       "      <td>0</td>\n",
       "      <td>0</td>\n",
       "      <td>0</td>\n",
       "      <td>0</td>\n",
       "      <td>0</td>\n",
       "      <td>0</td>\n",
       "      <td>0</td>\n",
       "    </tr>\n",
       "    <tr>\n",
       "      <td>2</td>\n",
       "      <td>40</td>\n",
       "      <td>2</td>\n",
       "      <td>0</td>\n",
       "      <td>0</td>\n",
       "      <td>0</td>\n",
       "      <td>0</td>\n",
       "      <td>1</td>\n",
       "      <td>0</td>\n",
       "      <td>0</td>\n",
       "      <td>0</td>\n",
       "      <td>...</td>\n",
       "      <td>0</td>\n",
       "      <td>0</td>\n",
       "      <td>0</td>\n",
       "      <td>0</td>\n",
       "      <td>0</td>\n",
       "      <td>0</td>\n",
       "      <td>0</td>\n",
       "      <td>0</td>\n",
       "      <td>0</td>\n",
       "      <td>0</td>\n",
       "    </tr>\n",
       "    <tr>\n",
       "      <td>3</td>\n",
       "      <td>40</td>\n",
       "      <td>1</td>\n",
       "      <td>0</td>\n",
       "      <td>0</td>\n",
       "      <td>0</td>\n",
       "      <td>0</td>\n",
       "      <td>1</td>\n",
       "      <td>0</td>\n",
       "      <td>0</td>\n",
       "      <td>0</td>\n",
       "      <td>...</td>\n",
       "      <td>0</td>\n",
       "      <td>0</td>\n",
       "      <td>0</td>\n",
       "      <td>0</td>\n",
       "      <td>0</td>\n",
       "      <td>0</td>\n",
       "      <td>0</td>\n",
       "      <td>0</td>\n",
       "      <td>0</td>\n",
       "      <td>0</td>\n",
       "    </tr>\n",
       "    <tr>\n",
       "      <td>4</td>\n",
       "      <td>40</td>\n",
       "      <td>6</td>\n",
       "      <td>0</td>\n",
       "      <td>0</td>\n",
       "      <td>0</td>\n",
       "      <td>0</td>\n",
       "      <td>1</td>\n",
       "      <td>0</td>\n",
       "      <td>0</td>\n",
       "      <td>0</td>\n",
       "      <td>...</td>\n",
       "      <td>0</td>\n",
       "      <td>0</td>\n",
       "      <td>0</td>\n",
       "      <td>0</td>\n",
       "      <td>0</td>\n",
       "      <td>0</td>\n",
       "      <td>0</td>\n",
       "      <td>0</td>\n",
       "      <td>0</td>\n",
       "      <td>0</td>\n",
       "    </tr>\n",
       "  </tbody>\n",
       "</table>\n",
       "<p>5 rows × 78 columns</p>\n",
       "</div>"
      ],
      "text/plain": [
       "   hours_per_week  ordedu  investment  workclass_1  workclass_2  workclass_3  \\\n",
       "0              40       6           1            0            0            0   \n",
       "1              13       6           0            0            0            0   \n",
       "2              40       2           0            0            0            0   \n",
       "3              40       1           0            0            0            0   \n",
       "4              40       6           0            0            0            0   \n",
       "\n",
       "   workclass_4  workclass_5  workclass_6  workclass_7  ...  ordeduincome_1  \\\n",
       "0            0            0            0            1  ...               0   \n",
       "1            0            0            1            0  ...               0   \n",
       "2            1            0            0            0  ...               0   \n",
       "3            1            0            0            0  ...               0   \n",
       "4            1            0            0            0  ...               0   \n",
       "\n",
       "   ordeduincome_2  ordeduincome_3  ordeduincome_4  ordeduincome_5  \\\n",
       "0               0               0               0               0   \n",
       "1               0               0               0               0   \n",
       "2               0               0               0               0   \n",
       "3               0               0               0               0   \n",
       "4               0               0               0               0   \n",
       "\n",
       "   ordeduincome_6  ordeduincome_7  ordeduincome_8  ordeduincome_9  \\\n",
       "0               0               0               0               0   \n",
       "1               0               0               0               0   \n",
       "2               0               0               0               0   \n",
       "3               0               0               0               0   \n",
       "4               0               0               0               0   \n",
       "\n",
       "   investincome_1  \n",
       "0               0  \n",
       "1               0  \n",
       "2               0  \n",
       "3               0  \n",
       "4               0  \n",
       "\n",
       "[5 rows x 78 columns]"
      ]
     },
     "execution_count": 40,
     "metadata": {},
     "output_type": "execute_result"
    }
   ],
   "source": [
    "# create indicator variables\n",
    "df_income_new = income_new.copy()\n",
    "factors2 = ['workclass', 'marital_status', \"occupation\", 'relationship', 'sex', \n",
    "            'income', 'sexedu', 'sexoccu', 'sexmarital', 'sexincome', 'ordeduincome', 'investincome']\n",
    "for var in factors2:\n",
    "    cat_list='var'+'_'+var\n",
    "    cat_list = pd.get_dummies(df_income_new[var], prefix=var, drop_first=True)\n",
    "    df_income_new = pd.concat([df_income_new,cat_list], axis = 1)\n",
    "    df_income_new = df_income_new.drop(var, 1)\n",
    "\n",
    "df_income_new.head()"
   ]
  },
  {
   "cell_type": "markdown",
   "metadata": {},
   "source": [
    "**2) Linear Model Building - Plain model without interactions**"
   ]
  },
  {
   "cell_type": "code",
   "execution_count": 51,
   "metadata": {
    "scrolled": true
   },
   "outputs": [
    {
     "name": "stdout",
     "output_type": "stream",
     "text": [
      "Number of predictors is : 38\n"
     ]
    },
    {
     "data": {
      "text/html": [
       "<table class=\"simpletable\">\n",
       "<caption>OLS Regression Results</caption>\n",
       "<tr>\n",
       "  <th>Dep. Variable:</th>     <td>hours_per_week</td>  <th>  R-squared:         </th>  <td>   0.188</td>  \n",
       "</tr>\n",
       "<tr>\n",
       "  <th>Model:</th>                   <td>OLS</td>       <th>  Adj. R-squared:    </th>  <td>   0.187</td>  \n",
       "</tr>\n",
       "<tr>\n",
       "  <th>Method:</th>             <td>Least Squares</td>  <th>  F-statistic:       </th>  <td>   209.5</td>  \n",
       "</tr>\n",
       "<tr>\n",
       "  <th>Date:</th>             <td>Sat, 18 Jan 2020</td> <th>  Prob (F-statistic):</th>   <td>  0.00</td>   \n",
       "</tr>\n",
       "<tr>\n",
       "  <th>Time:</th>                 <td>12:51:39</td>     <th>  Log-Likelihood:    </th> <td>-1.2465e+05</td>\n",
       "</tr>\n",
       "<tr>\n",
       "  <th>No. Observations:</th>      <td> 32561</td>      <th>  AIC:               </th>  <td>2.494e+05</td> \n",
       "</tr>\n",
       "<tr>\n",
       "  <th>Df Residuals:</th>          <td> 32524</td>      <th>  BIC:               </th>  <td>2.497e+05</td> \n",
       "</tr>\n",
       "<tr>\n",
       "  <th>Df Model:</th>              <td>    36</td>      <th>                     </th>      <td> </td>     \n",
       "</tr>\n",
       "<tr>\n",
       "  <th>Covariance Type:</th>      <td>nonrobust</td>    <th>                     </th>      <td> </td>     \n",
       "</tr>\n",
       "</table>\n",
       "<table class=\"simpletable\">\n",
       "<tr>\n",
       "          <td></td>            <th>coef</th>     <th>std err</th>      <th>t</th>      <th>P>|t|</th>  <th>[0.025</th>    <th>0.975]</th>  \n",
       "</tr>\n",
       "<tr>\n",
       "  <th>const</th>            <td>   30.4699</td> <td>    0.844</td> <td>   36.120</td> <td> 0.000</td> <td>   28.816</td> <td>   32.123</td>\n",
       "</tr>\n",
       "<tr>\n",
       "  <th>ordedu</th>           <td>    0.4521</td> <td>    0.040</td> <td>   11.394</td> <td> 0.000</td> <td>    0.374</td> <td>    0.530</td>\n",
       "</tr>\n",
       "<tr>\n",
       "  <th>investment</th>       <td>    0.2864</td> <td>    0.193</td> <td>    1.481</td> <td> 0.139</td> <td>   -0.093</td> <td>    0.665</td>\n",
       "</tr>\n",
       "<tr>\n",
       "  <th>workclass_1</th>      <td>    4.1475</td> <td>    0.443</td> <td>    9.363</td> <td> 0.000</td> <td>    3.279</td> <td>    5.016</td>\n",
       "</tr>\n",
       "<tr>\n",
       "  <th>workclass_2</th>      <td>    4.2292</td> <td>    0.380</td> <td>   11.140</td> <td> 0.000</td> <td>    3.485</td> <td>    4.973</td>\n",
       "</tr>\n",
       "<tr>\n",
       "  <th>workclass_3</th>      <td>   -0.8545</td> <td>    4.217</td> <td>   -0.203</td> <td> 0.839</td> <td>   -9.119</td> <td>    7.410</td>\n",
       "</tr>\n",
       "<tr>\n",
       "  <th>workclass_4</th>      <td>    4.5656</td> <td>    0.303</td> <td>   15.069</td> <td> 0.000</td> <td>    3.972</td> <td>    5.159</td>\n",
       "</tr>\n",
       "<tr>\n",
       "  <th>workclass_5</th>      <td>    9.2854</td> <td>    0.441</td> <td>   21.055</td> <td> 0.000</td> <td>    8.421</td> <td>   10.150</td>\n",
       "</tr>\n",
       "<tr>\n",
       "  <th>workclass_6</th>      <td>    5.9197</td> <td>    0.367</td> <td>   16.135</td> <td> 0.000</td> <td>    5.201</td> <td>    6.639</td>\n",
       "</tr>\n",
       "<tr>\n",
       "  <th>workclass_7</th>      <td>    2.3688</td> <td>    0.419</td> <td>    5.647</td> <td> 0.000</td> <td>    1.547</td> <td>    3.191</td>\n",
       "</tr>\n",
       "<tr>\n",
       "  <th>workclass_8</th>      <td>   -2.3771</td> <td>    2.849</td> <td>   -0.834</td> <td> 0.404</td> <td>   -7.962</td> <td>    3.207</td>\n",
       "</tr>\n",
       "<tr>\n",
       "  <th>marital_status_1</th> <td>    3.1284</td> <td>    2.434</td> <td>    1.285</td> <td> 0.199</td> <td>   -1.642</td> <td>    7.899</td>\n",
       "</tr>\n",
       "<tr>\n",
       "  <th>marital_status_2</th> <td>    0.8147</td> <td>    0.774</td> <td>    1.053</td> <td> 0.292</td> <td>   -0.702</td> <td>    2.331</td>\n",
       "</tr>\n",
       "<tr>\n",
       "  <th>marital_status_3</th> <td>   -1.2892</td> <td>    0.571</td> <td>   -2.259</td> <td> 0.024</td> <td>   -2.408</td> <td>   -0.171</td>\n",
       "</tr>\n",
       "<tr>\n",
       "  <th>marital_status_4</th> <td>   -1.9834</td> <td>    0.219</td> <td>   -9.059</td> <td> 0.000</td> <td>   -2.413</td> <td>   -1.554</td>\n",
       "</tr>\n",
       "<tr>\n",
       "  <th>marital_status_5</th> <td>   -0.9021</td> <td>    0.387</td> <td>   -2.330</td> <td> 0.020</td> <td>   -1.661</td> <td>   -0.143</td>\n",
       "</tr>\n",
       "<tr>\n",
       "  <th>marital_status_6</th> <td>   -6.6482</td> <td>    0.395</td> <td>  -16.822</td> <td> 0.000</td> <td>   -7.423</td> <td>   -5.874</td>\n",
       "</tr>\n",
       "<tr>\n",
       "  <th>occupation_1</th>     <td>    0.7344</td> <td>    0.309</td> <td>    2.373</td> <td> 0.018</td> <td>    0.128</td> <td>    1.341</td>\n",
       "</tr>\n",
       "<tr>\n",
       "  <th>occupation_2</th>     <td>    2.0216</td> <td>    3.555</td> <td>    0.569</td> <td> 0.570</td> <td>   -4.947</td> <td>    8.990</td>\n",
       "</tr>\n",
       "<tr>\n",
       "  <th>occupation_3</th>     <td>    2.4022</td> <td>    0.310</td> <td>    7.755</td> <td> 0.000</td> <td>    1.795</td> <td>    3.009</td>\n",
       "</tr>\n",
       "<tr>\n",
       "  <th>occupation_4</th>     <td>    3.7725</td> <td>    0.311</td> <td>   12.117</td> <td> 0.000</td> <td>    3.162</td> <td>    4.383</td>\n",
       "</tr>\n",
       "<tr>\n",
       "  <th>occupation_5</th>     <td>    7.5309</td> <td>    0.426</td> <td>   17.677</td> <td> 0.000</td> <td>    6.696</td> <td>    8.366</td>\n",
       "</tr>\n",
       "<tr>\n",
       "  <th>occupation_6</th>     <td>    0.6545</td> <td>    0.389</td> <td>    1.682</td> <td> 0.093</td> <td>   -0.108</td> <td>    1.417</td>\n",
       "</tr>\n",
       "<tr>\n",
       "  <th>occupation_7</th>     <td>    2.5485</td> <td>    0.353</td> <td>    7.212</td> <td> 0.000</td> <td>    1.856</td> <td>    3.241</td>\n",
       "</tr>\n",
       "<tr>\n",
       "  <th>occupation_8</th>     <td>   -1.4841</td> <td>    0.318</td> <td>   -4.673</td> <td> 0.000</td> <td>   -2.106</td> <td>   -0.862</td>\n",
       "</tr>\n",
       "<tr>\n",
       "  <th>occupation_9</th>     <td>   -2.1650</td> <td>    0.911</td> <td>   -2.375</td> <td> 0.018</td> <td>   -3.952</td> <td>   -0.379</td>\n",
       "</tr>\n",
       "<tr>\n",
       "  <th>occupation_10</th>    <td>    1.5127</td> <td>    0.323</td> <td>    4.679</td> <td> 0.000</td> <td>    0.879</td> <td>    2.146</td>\n",
       "</tr>\n",
       "<tr>\n",
       "  <th>occupation_11</th>    <td>    3.4581</td> <td>    0.500</td> <td>    6.911</td> <td> 0.000</td> <td>    2.477</td> <td>    4.439</td>\n",
       "</tr>\n",
       "<tr>\n",
       "  <th>occupation_12</th>    <td>    1.6808</td> <td>    0.313</td> <td>    5.372</td> <td> 0.000</td> <td>    1.068</td> <td>    2.294</td>\n",
       "</tr>\n",
       "<tr>\n",
       "  <th>occupation_13</th>    <td>    0.2616</td> <td>    0.433</td> <td>    0.604</td> <td> 0.546</td> <td>   -0.588</td> <td>    1.111</td>\n",
       "</tr>\n",
       "<tr>\n",
       "  <th>occupation_14</th>    <td>    5.2104</td> <td>    0.373</td> <td>   13.983</td> <td> 0.000</td> <td>    4.480</td> <td>    5.941</td>\n",
       "</tr>\n",
       "<tr>\n",
       "  <th>relationship_1</th>   <td>    2.4046</td> <td>    0.771</td> <td>    3.118</td> <td> 0.002</td> <td>    0.893</td> <td>    3.916</td>\n",
       "</tr>\n",
       "<tr>\n",
       "  <th>relationship_2</th>   <td>   -0.1605</td> <td>    0.758</td> <td>   -0.212</td> <td> 0.832</td> <td>   -1.646</td> <td>    1.325</td>\n",
       "</tr>\n",
       "<tr>\n",
       "  <th>relationship_3</th>   <td>   -3.4467</td> <td>    0.765</td> <td>   -4.503</td> <td> 0.000</td> <td>   -4.947</td> <td>   -1.946</td>\n",
       "</tr>\n",
       "<tr>\n",
       "  <th>relationship_4</th>   <td>    2.2436</td> <td>    0.798</td> <td>    2.813</td> <td> 0.005</td> <td>    0.680</td> <td>    3.807</td>\n",
       "</tr>\n",
       "<tr>\n",
       "  <th>relationship_5</th>   <td>   -3.1406</td> <td>    0.346</td> <td>   -9.072</td> <td> 0.000</td> <td>   -3.819</td> <td>   -2.462</td>\n",
       "</tr>\n",
       "<tr>\n",
       "  <th>sex_1</th>            <td>    2.6677</td> <td>    0.185</td> <td>   14.424</td> <td> 0.000</td> <td>    2.305</td> <td>    3.030</td>\n",
       "</tr>\n",
       "<tr>\n",
       "  <th>income_1</th>         <td>    2.8997</td> <td>    0.181</td> <td>   16.043</td> <td> 0.000</td> <td>    2.545</td> <td>    3.254</td>\n",
       "</tr>\n",
       "</table>\n",
       "<table class=\"simpletable\">\n",
       "<tr>\n",
       "  <th>Omnibus:</th>       <td>3575.575</td> <th>  Durbin-Watson:     </th> <td>   2.020</td> \n",
       "</tr>\n",
       "<tr>\n",
       "  <th>Prob(Omnibus):</th>  <td> 0.000</td>  <th>  Jarque-Bera (JB):  </th> <td>18614.338</td>\n",
       "</tr>\n",
       "<tr>\n",
       "  <th>Skew:</th>           <td> 0.411</td>  <th>  Prob(JB):          </th> <td>    0.00</td> \n",
       "</tr>\n",
       "<tr>\n",
       "  <th>Kurtosis:</th>       <td> 6.612</td>  <th>  Cond. No.          </th> <td>4.92e+15</td> \n",
       "</tr>\n",
       "</table><br/><br/>Warnings:<br/>[1] Standard Errors assume that the covariance matrix of the errors is correctly specified.<br/>[2] The smallest eigenvalue is 2.37e-26. This might indicate that there are<br/>strong multicollinearity problems or that the design matrix is singular."
      ],
      "text/plain": [
       "<class 'statsmodels.iolib.summary.Summary'>\n",
       "\"\"\"\n",
       "                            OLS Regression Results                            \n",
       "==============================================================================\n",
       "Dep. Variable:         hours_per_week   R-squared:                       0.188\n",
       "Model:                            OLS   Adj. R-squared:                  0.187\n",
       "Method:                 Least Squares   F-statistic:                     209.5\n",
       "Date:                Sat, 18 Jan 2020   Prob (F-statistic):               0.00\n",
       "Time:                        12:51:39   Log-Likelihood:            -1.2465e+05\n",
       "No. Observations:               32561   AIC:                         2.494e+05\n",
       "Df Residuals:                   32524   BIC:                         2.497e+05\n",
       "Df Model:                          36                                         \n",
       "Covariance Type:            nonrobust                                         \n",
       "====================================================================================\n",
       "                       coef    std err          t      P>|t|      [0.025      0.975]\n",
       "------------------------------------------------------------------------------------\n",
       "const               30.4699      0.844     36.120      0.000      28.816      32.123\n",
       "ordedu               0.4521      0.040     11.394      0.000       0.374       0.530\n",
       "investment           0.2864      0.193      1.481      0.139      -0.093       0.665\n",
       "workclass_1          4.1475      0.443      9.363      0.000       3.279       5.016\n",
       "workclass_2          4.2292      0.380     11.140      0.000       3.485       4.973\n",
       "workclass_3         -0.8545      4.217     -0.203      0.839      -9.119       7.410\n",
       "workclass_4          4.5656      0.303     15.069      0.000       3.972       5.159\n",
       "workclass_5          9.2854      0.441     21.055      0.000       8.421      10.150\n",
       "workclass_6          5.9197      0.367     16.135      0.000       5.201       6.639\n",
       "workclass_7          2.3688      0.419      5.647      0.000       1.547       3.191\n",
       "workclass_8         -2.3771      2.849     -0.834      0.404      -7.962       3.207\n",
       "marital_status_1     3.1284      2.434      1.285      0.199      -1.642       7.899\n",
       "marital_status_2     0.8147      0.774      1.053      0.292      -0.702       2.331\n",
       "marital_status_3    -1.2892      0.571     -2.259      0.024      -2.408      -0.171\n",
       "marital_status_4    -1.9834      0.219     -9.059      0.000      -2.413      -1.554\n",
       "marital_status_5    -0.9021      0.387     -2.330      0.020      -1.661      -0.143\n",
       "marital_status_6    -6.6482      0.395    -16.822      0.000      -7.423      -5.874\n",
       "occupation_1         0.7344      0.309      2.373      0.018       0.128       1.341\n",
       "occupation_2         2.0216      3.555      0.569      0.570      -4.947       8.990\n",
       "occupation_3         2.4022      0.310      7.755      0.000       1.795       3.009\n",
       "occupation_4         3.7725      0.311     12.117      0.000       3.162       4.383\n",
       "occupation_5         7.5309      0.426     17.677      0.000       6.696       8.366\n",
       "occupation_6         0.6545      0.389      1.682      0.093      -0.108       1.417\n",
       "occupation_7         2.5485      0.353      7.212      0.000       1.856       3.241\n",
       "occupation_8        -1.4841      0.318     -4.673      0.000      -2.106      -0.862\n",
       "occupation_9        -2.1650      0.911     -2.375      0.018      -3.952      -0.379\n",
       "occupation_10        1.5127      0.323      4.679      0.000       0.879       2.146\n",
       "occupation_11        3.4581      0.500      6.911      0.000       2.477       4.439\n",
       "occupation_12        1.6808      0.313      5.372      0.000       1.068       2.294\n",
       "occupation_13        0.2616      0.433      0.604      0.546      -0.588       1.111\n",
       "occupation_14        5.2104      0.373     13.983      0.000       4.480       5.941\n",
       "relationship_1       2.4046      0.771      3.118      0.002       0.893       3.916\n",
       "relationship_2      -0.1605      0.758     -0.212      0.832      -1.646       1.325\n",
       "relationship_3      -3.4467      0.765     -4.503      0.000      -4.947      -1.946\n",
       "relationship_4       2.2436      0.798      2.813      0.005       0.680       3.807\n",
       "relationship_5      -3.1406      0.346     -9.072      0.000      -3.819      -2.462\n",
       "sex_1                2.6677      0.185     14.424      0.000       2.305       3.030\n",
       "income_1             2.8997      0.181     16.043      0.000       2.545       3.254\n",
       "==============================================================================\n",
       "Omnibus:                     3575.575   Durbin-Watson:                   2.020\n",
       "Prob(Omnibus):                  0.000   Jarque-Bera (JB):            18614.338\n",
       "Skew:                           0.411   Prob(JB):                         0.00\n",
       "Kurtosis:                       6.612   Cond. No.                     4.92e+15\n",
       "==============================================================================\n",
       "\n",
       "Warnings:\n",
       "[1] Standard Errors assume that the covariance matrix of the errors is correctly specified.\n",
       "[2] The smallest eigenvalue is 2.37e-26. This might indicate that there are\n",
       "strong multicollinearity problems or that the design matrix is singular.\n",
       "\"\"\""
      ]
     },
     "execution_count": 51,
     "metadata": {},
     "output_type": "execute_result"
    }
   ],
   "source": [
    "variables = ['ordedu', 'investment', 'workclass_1', 'workclass_2', 'workclass_3',\n",
    "       'workclass_4', 'workclass_5', 'workclass_6', 'workclass_7',\n",
    "       'workclass_8', 'marital_status_1', 'marital_status_2',\n",
    "       'marital_status_3', 'marital_status_4', 'marital_status_5',\n",
    "       'marital_status_6', 'occupation_1', 'occupation_2', 'occupation_3',\n",
    "       'occupation_4', 'occupation_5', 'occupation_6', 'occupation_7',\n",
    "       'occupation_8', 'occupation_9', 'occupation_10', 'occupation_11',\n",
    "       'occupation_12', 'occupation_13', 'occupation_14', 'relationship_1',\n",
    "       'relationship_2', 'relationship_3', 'relationship_4', 'relationship_5',\n",
    "       'sex_1', 'income_1']\n",
    "y1 = df_income_new[['hours_per_week']]\n",
    "X1 = sm.add_constant(df_income_new.loc[:,variables])\n",
    "\n",
    "linear_model = sm.OLS(y1,X1)\n",
    "print(\"Number of predictors is : \"+str(X1.shape[1]))\n",
    "fit = linear_model.fit()\n",
    "fit.summary()"
   ]
  },
  {
   "cell_type": "markdown",
   "metadata": {},
   "source": [
    "**3) Linear Model Building - Full model with interactions**"
   ]
  },
  {
   "cell_type": "code",
   "execution_count": 52,
   "metadata": {
    "scrolled": true
   },
   "outputs": [
    {
     "name": "stdout",
     "output_type": "stream",
     "text": [
      "Number of predictors is : 78\n"
     ]
    },
    {
     "data": {
      "text/html": [
       "<table class=\"simpletable\">\n",
       "<caption>OLS Regression Results</caption>\n",
       "<tr>\n",
       "  <th>Dep. Variable:</th>     <td>hours_per_week</td>  <th>  R-squared:         </th>  <td>   0.196</td>  \n",
       "</tr>\n",
       "<tr>\n",
       "  <th>Model:</th>                   <td>OLS</td>       <th>  Adj. R-squared:    </th>  <td>   0.194</td>  \n",
       "</tr>\n",
       "<tr>\n",
       "  <th>Method:</th>             <td>Least Squares</td>  <th>  F-statistic:       </th>  <td>   108.5</td>  \n",
       "</tr>\n",
       "<tr>\n",
       "  <th>Date:</th>             <td>Sat, 18 Jan 2020</td> <th>  Prob (F-statistic):</th>   <td>  0.00</td>   \n",
       "</tr>\n",
       "<tr>\n",
       "  <th>Time:</th>                 <td>12:51:44</td>     <th>  Log-Likelihood:    </th> <td>-1.2449e+05</td>\n",
       "</tr>\n",
       "<tr>\n",
       "  <th>No. Observations:</th>      <td> 32561</td>      <th>  AIC:               </th>  <td>2.491e+05</td> \n",
       "</tr>\n",
       "<tr>\n",
       "  <th>Df Residuals:</th>          <td> 32487</td>      <th>  BIC:               </th>  <td>2.497e+05</td> \n",
       "</tr>\n",
       "<tr>\n",
       "  <th>Df Model:</th>              <td>    73</td>      <th>                     </th>      <td> </td>     \n",
       "</tr>\n",
       "<tr>\n",
       "  <th>Covariance Type:</th>      <td>nonrobust</td>    <th>                     </th>      <td> </td>     \n",
       "</tr>\n",
       "</table>\n",
       "<table class=\"simpletable\">\n",
       "<tr>\n",
       "          <td></td>            <th>coef</th>     <th>std err</th>      <th>t</th>      <th>P>|t|</th>  <th>[0.025</th>    <th>0.975]</th>  \n",
       "</tr>\n",
       "<tr>\n",
       "  <th>const</th>            <td>   28.3013</td> <td>    1.089</td> <td>   25.987</td> <td> 0.000</td> <td>   26.167</td> <td>   30.436</td>\n",
       "</tr>\n",
       "<tr>\n",
       "  <th>ordedu</th>           <td>    0.7048</td> <td>    0.073</td> <td>    9.682</td> <td> 0.000</td> <td>    0.562</td> <td>    0.848</td>\n",
       "</tr>\n",
       "<tr>\n",
       "  <th>investment</th>       <td>    0.2191</td> <td>    0.274</td> <td>    0.800</td> <td> 0.424</td> <td>   -0.318</td> <td>    0.756</td>\n",
       "</tr>\n",
       "<tr>\n",
       "  <th>workclass_1</th>      <td>    3.7251</td> <td>    0.474</td> <td>    7.861</td> <td> 0.000</td> <td>    2.796</td> <td>    4.654</td>\n",
       "</tr>\n",
       "<tr>\n",
       "  <th>workclass_2</th>      <td>    3.6791</td> <td>    0.409</td> <td>    9.000</td> <td> 0.000</td> <td>    2.878</td> <td>    4.480</td>\n",
       "</tr>\n",
       "<tr>\n",
       "  <th>workclass_3</th>      <td>   -0.3858</td> <td>    4.200</td> <td>   -0.092</td> <td> 0.927</td> <td>   -8.618</td> <td>    7.846</td>\n",
       "</tr>\n",
       "<tr>\n",
       "  <th>workclass_4</th>      <td>    4.0199</td> <td>    0.338</td> <td>   11.893</td> <td> 0.000</td> <td>    3.357</td> <td>    4.682</td>\n",
       "</tr>\n",
       "<tr>\n",
       "  <th>workclass_5</th>      <td>    8.4177</td> <td>    0.468</td> <td>   18.000</td> <td> 0.000</td> <td>    7.501</td> <td>    9.334</td>\n",
       "</tr>\n",
       "<tr>\n",
       "  <th>workclass_6</th>      <td>    5.1245</td> <td>    0.399</td> <td>   12.852</td> <td> 0.000</td> <td>    4.343</td> <td>    5.906</td>\n",
       "</tr>\n",
       "<tr>\n",
       "  <th>workclass_7</th>      <td>    1.8142</td> <td>    0.446</td> <td>    4.070</td> <td> 0.000</td> <td>    0.941</td> <td>    2.688</td>\n",
       "</tr>\n",
       "<tr>\n",
       "  <th>workclass_8</th>      <td>   -3.0203</td> <td>    2.840</td> <td>   -1.064</td> <td> 0.288</td> <td>   -8.586</td> <td>    2.545</td>\n",
       "</tr>\n",
       "<tr>\n",
       "  <th>marital_status_1</th> <td>   -4.7588</td> <td>    3.130</td> <td>   -1.521</td> <td> 0.128</td> <td>  -10.893</td> <td>    1.375</td>\n",
       "</tr>\n",
       "<tr>\n",
       "  <th>marital_status_2</th> <td>   -0.9211</td> <td>    1.122</td> <td>   -0.821</td> <td> 0.412</td> <td>   -3.120</td> <td>    1.278</td>\n",
       "</tr>\n",
       "<tr>\n",
       "  <th>marital_status_3</th> <td>   -1.4672</td> <td>    0.805</td> <td>   -1.824</td> <td> 0.068</td> <td>   -3.044</td> <td>    0.110</td>\n",
       "</tr>\n",
       "<tr>\n",
       "  <th>marital_status_4</th> <td>   -1.9666</td> <td>    0.289</td> <td>   -6.816</td> <td> 0.000</td> <td>   -2.532</td> <td>   -1.401</td>\n",
       "</tr>\n",
       "<tr>\n",
       "  <th>marital_status_5</th> <td>   -0.5736</td> <td>    0.494</td> <td>   -1.160</td> <td> 0.246</td> <td>   -1.542</td> <td>    0.395</td>\n",
       "</tr>\n",
       "<tr>\n",
       "  <th>marital_status_6</th> <td>   -5.9766</td> <td>    0.447</td> <td>  -13.374</td> <td> 0.000</td> <td>   -6.853</td> <td>   -5.101</td>\n",
       "</tr>\n",
       "<tr>\n",
       "  <th>occupation_1</th>     <td>    1.3594</td> <td>    0.338</td> <td>    4.019</td> <td> 0.000</td> <td>    0.696</td> <td>    2.022</td>\n",
       "</tr>\n",
       "<tr>\n",
       "  <th>occupation_2</th>     <td>    1.1253</td> <td>    1.827</td> <td>    0.616</td> <td> 0.538</td> <td>   -2.455</td> <td>    4.706</td>\n",
       "</tr>\n",
       "<tr>\n",
       "  <th>occupation_3</th>     <td>    4.0490</td> <td>    0.758</td> <td>    5.344</td> <td> 0.000</td> <td>    2.564</td> <td>    5.534</td>\n",
       "</tr>\n",
       "<tr>\n",
       "  <th>occupation_4</th>     <td>    4.1883</td> <td>    0.422</td> <td>    9.933</td> <td> 0.000</td> <td>    3.362</td> <td>    5.015</td>\n",
       "</tr>\n",
       "<tr>\n",
       "  <th>occupation_5</th>     <td>    3.2045</td> <td>    1.329</td> <td>    2.412</td> <td> 0.016</td> <td>    0.600</td> <td>    5.809</td>\n",
       "</tr>\n",
       "<tr>\n",
       "  <th>occupation_6</th>     <td>    1.9409</td> <td>    0.867</td> <td>    2.238</td> <td> 0.025</td> <td>    0.241</td> <td>    3.641</td>\n",
       "</tr>\n",
       "<tr>\n",
       "  <th>occupation_7</th>     <td>    4.0888</td> <td>    0.527</td> <td>    7.761</td> <td> 0.000</td> <td>    3.056</td> <td>    5.121</td>\n",
       "</tr>\n",
       "<tr>\n",
       "  <th>occupation_8</th>     <td>   -1.0478</td> <td>    0.367</td> <td>   -2.854</td> <td> 0.004</td> <td>   -1.767</td> <td>   -0.328</td>\n",
       "</tr>\n",
       "<tr>\n",
       "  <th>occupation_9</th>     <td>   -2.0571</td> <td>    0.931</td> <td>   -2.209</td> <td> 0.027</td> <td>   -3.882</td> <td>   -0.232</td>\n",
       "</tr>\n",
       "<tr>\n",
       "  <th>occupation_10</th>    <td>    1.4580</td> <td>    0.426</td> <td>    3.420</td> <td> 0.001</td> <td>    0.623</td> <td>    2.293</td>\n",
       "</tr>\n",
       "<tr>\n",
       "  <th>occupation_11</th>    <td>    3.3086</td> <td>    1.241</td> <td>    2.666</td> <td> 0.008</td> <td>    0.876</td> <td>    5.741</td>\n",
       "</tr>\n",
       "<tr>\n",
       "  <th>occupation_12</th>    <td>   -0.5366</td> <td>    0.402</td> <td>   -1.336</td> <td> 0.181</td> <td>   -1.324</td> <td>    0.251</td>\n",
       "</tr>\n",
       "<tr>\n",
       "  <th>occupation_13</th>    <td>    0.9941</td> <td>    0.629</td> <td>    1.580</td> <td> 0.114</td> <td>   -0.239</td> <td>    2.228</td>\n",
       "</tr>\n",
       "<tr>\n",
       "  <th>occupation_14</th>    <td>    1.6845</td> <td>    1.142</td> <td>    1.475</td> <td> 0.140</td> <td>   -0.555</td> <td>    3.924</td>\n",
       "</tr>\n",
       "<tr>\n",
       "  <th>relationship_1</th>   <td>    4.0877</td> <td>    0.984</td> <td>    4.153</td> <td> 0.000</td> <td>    2.159</td> <td>    6.017</td>\n",
       "</tr>\n",
       "<tr>\n",
       "  <th>relationship_2</th>   <td>    1.6412</td> <td>    0.973</td> <td>    1.686</td> <td> 0.092</td> <td>   -0.266</td> <td>    3.549</td>\n",
       "</tr>\n",
       "<tr>\n",
       "  <th>relationship_3</th>   <td>   -1.6113</td> <td>    0.980</td> <td>   -1.645</td> <td> 0.100</td> <td>   -3.532</td> <td>    0.309</td>\n",
       "</tr>\n",
       "<tr>\n",
       "  <th>relationship_4</th>   <td>    3.9367</td> <td>    1.002</td> <td>    3.930</td> <td> 0.000</td> <td>    1.973</td> <td>    5.900</td>\n",
       "</tr>\n",
       "<tr>\n",
       "  <th>relationship_5</th>   <td>    0.5811</td> <td>    1.451</td> <td>    0.401</td> <td> 0.689</td> <td>   -2.262</td> <td>    3.425</td>\n",
       "</tr>\n",
       "<tr>\n",
       "  <th>sex_1</th>            <td>    1.1894</td> <td>    0.599</td> <td>    1.986</td> <td> 0.047</td> <td>    0.015</td> <td>    2.363</td>\n",
       "</tr>\n",
       "<tr>\n",
       "  <th>income_1</th>         <td>    2.4161</td> <td>    0.406</td> <td>    5.944</td> <td> 0.000</td> <td>    1.619</td> <td>    3.213</td>\n",
       "</tr>\n",
       "<tr>\n",
       "  <th>sexedu_1</th>         <td>    0.3813</td> <td>    0.379</td> <td>    1.007</td> <td> 0.314</td> <td>   -0.361</td> <td>    1.123</td>\n",
       "</tr>\n",
       "<tr>\n",
       "  <th>sexedu_2</th>         <td>    2.1909</td> <td>    0.298</td> <td>    7.355</td> <td> 0.000</td> <td>    1.607</td> <td>    2.775</td>\n",
       "</tr>\n",
       "<tr>\n",
       "  <th>sexedu_3</th>         <td>    0.9682</td> <td>    0.276</td> <td>    3.507</td> <td> 0.000</td> <td>    0.427</td> <td>    1.509</td>\n",
       "</tr>\n",
       "<tr>\n",
       "  <th>sexedu_4</th>         <td>    1.8082</td> <td>    0.437</td> <td>    4.140</td> <td> 0.000</td> <td>    0.952</td> <td>    2.664</td>\n",
       "</tr>\n",
       "<tr>\n",
       "  <th>sexedu_5</th>         <td>    0.0410</td> <td>    0.490</td> <td>    0.084</td> <td> 0.933</td> <td>   -0.919</td> <td>    1.001</td>\n",
       "</tr>\n",
       "<tr>\n",
       "  <th>sexedu_6</th>         <td>   -0.5350</td> <td>    0.298</td> <td>   -1.793</td> <td> 0.073</td> <td>   -1.120</td> <td>    0.050</td>\n",
       "</tr>\n",
       "<tr>\n",
       "  <th>sexedu_7</th>         <td>   -1.0345</td> <td>    0.490</td> <td>   -2.109</td> <td> 0.035</td> <td>   -1.996</td> <td>   -0.073</td>\n",
       "</tr>\n",
       "<tr>\n",
       "  <th>sexedu_8</th>         <td>   -1.4901</td> <td>    0.890</td> <td>   -1.674</td> <td> 0.094</td> <td>   -3.235</td> <td>    0.255</td>\n",
       "</tr>\n",
       "<tr>\n",
       "  <th>sexedu_9</th>         <td>   -1.1405</td> <td>    0.996</td> <td>   -1.145</td> <td> 0.252</td> <td>   -3.093</td> <td>    0.812</td>\n",
       "</tr>\n",
       "<tr>\n",
       "  <th>sexoccu_1</th>        <td>   -0.8620</td> <td>    0.651</td> <td>   -1.324</td> <td> 0.186</td> <td>   -2.139</td> <td>    0.415</td>\n",
       "</tr>\n",
       "<tr>\n",
       "  <th>sexoccu_2</th>        <td>    1.1253</td> <td>    1.827</td> <td>    0.616</td> <td> 0.538</td> <td>   -2.455</td> <td>    4.706</td>\n",
       "</tr>\n",
       "<tr>\n",
       "  <th>sexoccu_3</th>        <td>   -1.2228</td> <td>    0.928</td> <td>   -1.317</td> <td> 0.188</td> <td>   -3.042</td> <td>    0.597</td>\n",
       "</tr>\n",
       "<tr>\n",
       "  <th>sexoccu_4</th>        <td>    0.4748</td> <td>    0.669</td> <td>    0.710</td> <td> 0.478</td> <td>   -0.837</td> <td>    1.786</td>\n",
       "</tr>\n",
       "<tr>\n",
       "  <th>sexoccu_5</th>        <td>    5.4079</td> <td>    1.518</td> <td>    3.564</td> <td> 0.000</td> <td>    2.434</td> <td>    8.382</td>\n",
       "</tr>\n",
       "<tr>\n",
       "  <th>sexoccu_6</th>        <td>   -0.8401</td> <td>    1.061</td> <td>   -0.792</td> <td> 0.429</td> <td>   -2.920</td> <td>    1.240</td>\n",
       "</tr>\n",
       "<tr>\n",
       "  <th>sexoccu_7</th>        <td>   -1.4884</td> <td>    0.764</td> <td>   -1.948</td> <td> 0.051</td> <td>   -2.986</td> <td>    0.009</td>\n",
       "</tr>\n",
       "<tr>\n",
       "  <th>sexoccu_8</th>        <td>    0.0895</td> <td>    0.650</td> <td>    0.138</td> <td> 0.891</td> <td>   -1.185</td> <td>    1.364</td>\n",
       "</tr>\n",
       "<tr>\n",
       "  <th>sexoccu_9</th>        <td>    6.6259</td> <td>    4.066</td> <td>    1.629</td> <td> 0.103</td> <td>   -1.344</td> <td>   14.596</td>\n",
       "</tr>\n",
       "<tr>\n",
       "  <th>sexoccu_10</th>       <td>    0.8612</td> <td>    0.684</td> <td>    1.258</td> <td> 0.208</td> <td>   -0.480</td> <td>    2.203</td>\n",
       "</tr>\n",
       "<tr>\n",
       "  <th>sexoccu_11</th>       <td>    0.7938</td> <td>    1.453</td> <td>    0.546</td> <td> 0.585</td> <td>   -2.054</td> <td>    3.642</td>\n",
       "</tr>\n",
       "<tr>\n",
       "  <th>sexoccu_12</th>       <td>    4.3649</td> <td>    0.653</td> <td>    6.689</td> <td> 0.000</td> <td>    3.086</td> <td>    5.644</td>\n",
       "</tr>\n",
       "<tr>\n",
       "  <th>sexoccu_13</th>       <td>   -0.3034</td> <td>    0.923</td> <td>   -0.329</td> <td> 0.742</td> <td>   -2.113</td> <td>    1.506</td>\n",
       "</tr>\n",
       "<tr>\n",
       "  <th>sexoccu_14</th>       <td>    4.2415</td> <td>    1.313</td> <td>    3.231</td> <td> 0.001</td> <td>    1.669</td> <td>    6.814</td>\n",
       "</tr>\n",
       "<tr>\n",
       "  <th>sexmarital_1</th>     <td>   19.1021</td> <td>    4.934</td> <td>    3.871</td> <td> 0.000</td> <td>    9.431</td> <td>   28.773</td>\n",
       "</tr>\n",
       "<tr>\n",
       "  <th>sexmarital_2</th>     <td>    3.4262</td> <td>    1.460</td> <td>    2.346</td> <td> 0.019</td> <td>    0.564</td> <td>    6.288</td>\n",
       "</tr>\n",
       "<tr>\n",
       "  <th>sexmarital_3</th>     <td>    0.7408</td> <td>    1.139</td> <td>    0.650</td> <td> 0.515</td> <td>   -1.492</td> <td>    2.973</td>\n",
       "</tr>\n",
       "<tr>\n",
       "  <th>sexmarital_4</th>     <td>    0.0620</td> <td>    0.411</td> <td>    0.151</td> <td> 0.880</td> <td>   -0.743</td> <td>    0.867</td>\n",
       "</tr>\n",
       "<tr>\n",
       "  <th>sexmarital_5</th>     <td>   -0.4662</td> <td>    0.791</td> <td>   -0.589</td> <td> 0.556</td> <td>   -2.017</td> <td>    1.085</td>\n",
       "</tr>\n",
       "<tr>\n",
       "  <th>sexmarital_6</th>     <td>   -2.8164</td> <td>    1.004</td> <td>   -2.806</td> <td> 0.005</td> <td>   -4.784</td> <td>   -0.849</td>\n",
       "</tr>\n",
       "<tr>\n",
       "  <th>sexincome_1</th>      <td>    0.6661</td> <td>    0.460</td> <td>    1.448</td> <td> 0.148</td> <td>   -0.236</td> <td>    1.568</td>\n",
       "</tr>\n",
       "<tr>\n",
       "  <th>ordeduincome_1</th>   <td>    1.8405</td> <td>    0.699</td> <td>    2.632</td> <td> 0.008</td> <td>    0.470</td> <td>    3.211</td>\n",
       "</tr>\n",
       "<tr>\n",
       "  <th>ordeduincome_2</th>   <td>   -0.2225</td> <td>    0.351</td> <td>   -0.635</td> <td> 0.526</td> <td>   -0.910</td> <td>    0.465</td>\n",
       "</tr>\n",
       "<tr>\n",
       "  <th>ordeduincome_3</th>   <td>   -0.0635</td> <td>    0.377</td> <td>   -0.168</td> <td> 0.866</td> <td>   -0.803</td> <td>    0.676</td>\n",
       "</tr>\n",
       "<tr>\n",
       "  <th>ordeduincome_4</th>   <td>   -1.7548</td> <td>    0.649</td> <td>   -2.703</td> <td> 0.007</td> <td>   -3.027</td> <td>   -0.483</td>\n",
       "</tr>\n",
       "<tr>\n",
       "  <th>ordeduincome_5</th>   <td>   -0.7346</td> <td>    0.738</td> <td>   -0.996</td> <td> 0.319</td> <td>   -2.181</td> <td>    0.711</td>\n",
       "</tr>\n",
       "<tr>\n",
       "  <th>ordeduincome_6</th>   <td>   -0.3019</td> <td>    0.351</td> <td>   -0.860</td> <td> 0.390</td> <td>   -0.990</td> <td>    0.387</td>\n",
       "</tr>\n",
       "<tr>\n",
       "  <th>ordeduincome_7</th>   <td>    0.0705</td> <td>    0.518</td> <td>    0.136</td> <td> 0.892</td> <td>   -0.946</td> <td>    1.087</td>\n",
       "</tr>\n",
       "<tr>\n",
       "  <th>ordeduincome_8</th>   <td>    2.5436</td> <td>    0.923</td> <td>    2.756</td> <td> 0.006</td> <td>    0.734</td> <td>    4.353</td>\n",
       "</tr>\n",
       "<tr>\n",
       "  <th>ordeduincome_9</th>   <td>    1.0388</td> <td>    0.997</td> <td>    1.041</td> <td> 0.298</td> <td>   -0.916</td> <td>    2.994</td>\n",
       "</tr>\n",
       "<tr>\n",
       "  <th>investincome_1</th>   <td>    0.0752</td> <td>    0.386</td> <td>    0.195</td> <td> 0.846</td> <td>   -0.682</td> <td>    0.832</td>\n",
       "</tr>\n",
       "</table>\n",
       "<table class=\"simpletable\">\n",
       "<tr>\n",
       "  <th>Omnibus:</th>       <td>3607.051</td> <th>  Durbin-Watson:     </th> <td>   2.018</td> \n",
       "</tr>\n",
       "<tr>\n",
       "  <th>Prob(Omnibus):</th>  <td> 0.000</td>  <th>  Jarque-Bera (JB):  </th> <td>18906.707</td>\n",
       "</tr>\n",
       "<tr>\n",
       "  <th>Skew:</th>           <td> 0.415</td>  <th>  Prob(JB):          </th> <td>    0.00</td> \n",
       "</tr>\n",
       "<tr>\n",
       "  <th>Kurtosis:</th>       <td> 6.640</td>  <th>  Cond. No.          </th> <td>1.33e+16</td> \n",
       "</tr>\n",
       "</table><br/><br/>Warnings:<br/>[1] Standard Errors assume that the covariance matrix of the errors is correctly specified.<br/>[2] The smallest eigenvalue is 3.32e-27. This might indicate that there are<br/>strong multicollinearity problems or that the design matrix is singular."
      ],
      "text/plain": [
       "<class 'statsmodels.iolib.summary.Summary'>\n",
       "\"\"\"\n",
       "                            OLS Regression Results                            \n",
       "==============================================================================\n",
       "Dep. Variable:         hours_per_week   R-squared:                       0.196\n",
       "Model:                            OLS   Adj. R-squared:                  0.194\n",
       "Method:                 Least Squares   F-statistic:                     108.5\n",
       "Date:                Sat, 18 Jan 2020   Prob (F-statistic):               0.00\n",
       "Time:                        12:51:44   Log-Likelihood:            -1.2449e+05\n",
       "No. Observations:               32561   AIC:                         2.491e+05\n",
       "Df Residuals:                   32487   BIC:                         2.497e+05\n",
       "Df Model:                          73                                         \n",
       "Covariance Type:            nonrobust                                         \n",
       "====================================================================================\n",
       "                       coef    std err          t      P>|t|      [0.025      0.975]\n",
       "------------------------------------------------------------------------------------\n",
       "const               28.3013      1.089     25.987      0.000      26.167      30.436\n",
       "ordedu               0.7048      0.073      9.682      0.000       0.562       0.848\n",
       "investment           0.2191      0.274      0.800      0.424      -0.318       0.756\n",
       "workclass_1          3.7251      0.474      7.861      0.000       2.796       4.654\n",
       "workclass_2          3.6791      0.409      9.000      0.000       2.878       4.480\n",
       "workclass_3         -0.3858      4.200     -0.092      0.927      -8.618       7.846\n",
       "workclass_4          4.0199      0.338     11.893      0.000       3.357       4.682\n",
       "workclass_5          8.4177      0.468     18.000      0.000       7.501       9.334\n",
       "workclass_6          5.1245      0.399     12.852      0.000       4.343       5.906\n",
       "workclass_7          1.8142      0.446      4.070      0.000       0.941       2.688\n",
       "workclass_8         -3.0203      2.840     -1.064      0.288      -8.586       2.545\n",
       "marital_status_1    -4.7588      3.130     -1.521      0.128     -10.893       1.375\n",
       "marital_status_2    -0.9211      1.122     -0.821      0.412      -3.120       1.278\n",
       "marital_status_3    -1.4672      0.805     -1.824      0.068      -3.044       0.110\n",
       "marital_status_4    -1.9666      0.289     -6.816      0.000      -2.532      -1.401\n",
       "marital_status_5    -0.5736      0.494     -1.160      0.246      -1.542       0.395\n",
       "marital_status_6    -5.9766      0.447    -13.374      0.000      -6.853      -5.101\n",
       "occupation_1         1.3594      0.338      4.019      0.000       0.696       2.022\n",
       "occupation_2         1.1253      1.827      0.616      0.538      -2.455       4.706\n",
       "occupation_3         4.0490      0.758      5.344      0.000       2.564       5.534\n",
       "occupation_4         4.1883      0.422      9.933      0.000       3.362       5.015\n",
       "occupation_5         3.2045      1.329      2.412      0.016       0.600       5.809\n",
       "occupation_6         1.9409      0.867      2.238      0.025       0.241       3.641\n",
       "occupation_7         4.0888      0.527      7.761      0.000       3.056       5.121\n",
       "occupation_8        -1.0478      0.367     -2.854      0.004      -1.767      -0.328\n",
       "occupation_9        -2.0571      0.931     -2.209      0.027      -3.882      -0.232\n",
       "occupation_10        1.4580      0.426      3.420      0.001       0.623       2.293\n",
       "occupation_11        3.3086      1.241      2.666      0.008       0.876       5.741\n",
       "occupation_12       -0.5366      0.402     -1.336      0.181      -1.324       0.251\n",
       "occupation_13        0.9941      0.629      1.580      0.114      -0.239       2.228\n",
       "occupation_14        1.6845      1.142      1.475      0.140      -0.555       3.924\n",
       "relationship_1       4.0877      0.984      4.153      0.000       2.159       6.017\n",
       "relationship_2       1.6412      0.973      1.686      0.092      -0.266       3.549\n",
       "relationship_3      -1.6113      0.980     -1.645      0.100      -3.532       0.309\n",
       "relationship_4       3.9367      1.002      3.930      0.000       1.973       5.900\n",
       "relationship_5       0.5811      1.451      0.401      0.689      -2.262       3.425\n",
       "sex_1                1.1894      0.599      1.986      0.047       0.015       2.363\n",
       "income_1             2.4161      0.406      5.944      0.000       1.619       3.213\n",
       "sexedu_1             0.3813      0.379      1.007      0.314      -0.361       1.123\n",
       "sexedu_2             2.1909      0.298      7.355      0.000       1.607       2.775\n",
       "sexedu_3             0.9682      0.276      3.507      0.000       0.427       1.509\n",
       "sexedu_4             1.8082      0.437      4.140      0.000       0.952       2.664\n",
       "sexedu_5             0.0410      0.490      0.084      0.933      -0.919       1.001\n",
       "sexedu_6            -0.5350      0.298     -1.793      0.073      -1.120       0.050\n",
       "sexedu_7            -1.0345      0.490     -2.109      0.035      -1.996      -0.073\n",
       "sexedu_8            -1.4901      0.890     -1.674      0.094      -3.235       0.255\n",
       "sexedu_9            -1.1405      0.996     -1.145      0.252      -3.093       0.812\n",
       "sexoccu_1           -0.8620      0.651     -1.324      0.186      -2.139       0.415\n",
       "sexoccu_2            1.1253      1.827      0.616      0.538      -2.455       4.706\n",
       "sexoccu_3           -1.2228      0.928     -1.317      0.188      -3.042       0.597\n",
       "sexoccu_4            0.4748      0.669      0.710      0.478      -0.837       1.786\n",
       "sexoccu_5            5.4079      1.518      3.564      0.000       2.434       8.382\n",
       "sexoccu_6           -0.8401      1.061     -0.792      0.429      -2.920       1.240\n",
       "sexoccu_7           -1.4884      0.764     -1.948      0.051      -2.986       0.009\n",
       "sexoccu_8            0.0895      0.650      0.138      0.891      -1.185       1.364\n",
       "sexoccu_9            6.6259      4.066      1.629      0.103      -1.344      14.596\n",
       "sexoccu_10           0.8612      0.684      1.258      0.208      -0.480       2.203\n",
       "sexoccu_11           0.7938      1.453      0.546      0.585      -2.054       3.642\n",
       "sexoccu_12           4.3649      0.653      6.689      0.000       3.086       5.644\n",
       "sexoccu_13          -0.3034      0.923     -0.329      0.742      -2.113       1.506\n",
       "sexoccu_14           4.2415      1.313      3.231      0.001       1.669       6.814\n",
       "sexmarital_1        19.1021      4.934      3.871      0.000       9.431      28.773\n",
       "sexmarital_2         3.4262      1.460      2.346      0.019       0.564       6.288\n",
       "sexmarital_3         0.7408      1.139      0.650      0.515      -1.492       2.973\n",
       "sexmarital_4         0.0620      0.411      0.151      0.880      -0.743       0.867\n",
       "sexmarital_5        -0.4662      0.791     -0.589      0.556      -2.017       1.085\n",
       "sexmarital_6        -2.8164      1.004     -2.806      0.005      -4.784      -0.849\n",
       "sexincome_1          0.6661      0.460      1.448      0.148      -0.236       1.568\n",
       "ordeduincome_1       1.8405      0.699      2.632      0.008       0.470       3.211\n",
       "ordeduincome_2      -0.2225      0.351     -0.635      0.526      -0.910       0.465\n",
       "ordeduincome_3      -0.0635      0.377     -0.168      0.866      -0.803       0.676\n",
       "ordeduincome_4      -1.7548      0.649     -2.703      0.007      -3.027      -0.483\n",
       "ordeduincome_5      -0.7346      0.738     -0.996      0.319      -2.181       0.711\n",
       "ordeduincome_6      -0.3019      0.351     -0.860      0.390      -0.990       0.387\n",
       "ordeduincome_7       0.0705      0.518      0.136      0.892      -0.946       1.087\n",
       "ordeduincome_8       2.5436      0.923      2.756      0.006       0.734       4.353\n",
       "ordeduincome_9       1.0388      0.997      1.041      0.298      -0.916       2.994\n",
       "investincome_1       0.0752      0.386      0.195      0.846      -0.682       0.832\n",
       "==============================================================================\n",
       "Omnibus:                     3607.051   Durbin-Watson:                   2.018\n",
       "Prob(Omnibus):                  0.000   Jarque-Bera (JB):            18906.707\n",
       "Skew:                           0.415   Prob(JB):                         0.00\n",
       "Kurtosis:                       6.640   Cond. No.                     1.33e+16\n",
       "==============================================================================\n",
       "\n",
       "Warnings:\n",
       "[1] Standard Errors assume that the covariance matrix of the errors is correctly specified.\n",
       "[2] The smallest eigenvalue is 3.32e-27. This might indicate that there are\n",
       "strong multicollinearity problems or that the design matrix is singular.\n",
       "\"\"\""
      ]
     },
     "execution_count": 52,
     "metadata": {},
     "output_type": "execute_result"
    }
   ],
   "source": [
    "y2 = df_income_new[['hours_per_week']]\n",
    "X2 = sm.add_constant(df_income_new.loc[:, df_income_new.columns != 'hours_per_week'])\n",
    "\n",
    "print(\"Number of predictors is : \"+str(X2.shape[1]))\n",
    "\n",
    "linear_model2 = sm.OLS(y2,X2)\n",
    "fit2 = linear_model2.fit()\n",
    "fit2.summary()\n"
   ]
  },
  {
   "cell_type": "markdown",
   "metadata": {},
   "source": [
    "**4) Linear Model Building - Reduced model with only significant variables**"
   ]
  },
  {
   "cell_type": "code",
   "execution_count": 43,
   "metadata": {},
   "outputs": [
    {
     "data": {
      "text/plain": [
       "['investment', 'investincome_1']"
      ]
     },
     "execution_count": 43,
     "metadata": {},
     "output_type": "execute_result"
    }
   ],
   "source": [
    "# get a list of insignificant variables (except for dummy variables)\n",
    "p_values2 = fit2.summary2().tables[1]['P>|t|']\n",
    "p_summary = p_values2.reset_index()\n",
    "n = len(p_summary['index'])\n",
    "\n",
    "insign_list = []\n",
    "deleteable = ['ordedu', 'investment', 'investincome_1']\n",
    "for i in range(n):\n",
    "    if (p_summary['P>|t|'][i] > 0.05) & (p_summary['index'][i] in deleteable): \n",
    "            insign_list.append(p_summary['index'][i])\n",
    "    else: continue\n",
    "            \n",
    "insign_list     "
   ]
  },
  {
   "cell_type": "code",
   "execution_count": 53,
   "metadata": {},
   "outputs": [
    {
     "name": "stdout",
     "output_type": "stream",
     "text": [
      "Number of predictors is : 76\n"
     ]
    },
    {
     "data": {
      "text/html": [
       "<table class=\"simpletable\">\n",
       "<caption>OLS Regression Results</caption>\n",
       "<tr>\n",
       "  <th>Dep. Variable:</th>     <td>hours_per_week</td>  <th>  R-squared:         </th>  <td>   0.196</td>  \n",
       "</tr>\n",
       "<tr>\n",
       "  <th>Model:</th>                   <td>OLS</td>       <th>  Adj. R-squared:    </th>  <td>   0.194</td>  \n",
       "</tr>\n",
       "<tr>\n",
       "  <th>Method:</th>             <td>Least Squares</td>  <th>  F-statistic:       </th>  <td>   111.6</td>  \n",
       "</tr>\n",
       "<tr>\n",
       "  <th>Date:</th>             <td>Sat, 18 Jan 2020</td> <th>  Prob (F-statistic):</th>   <td>  0.00</td>   \n",
       "</tr>\n",
       "<tr>\n",
       "  <th>Time:</th>                 <td>12:51:49</td>     <th>  Log-Likelihood:    </th> <td>-1.2449e+05</td>\n",
       "</tr>\n",
       "<tr>\n",
       "  <th>No. Observations:</th>      <td> 32561</td>      <th>  AIC:               </th>  <td>2.491e+05</td> \n",
       "</tr>\n",
       "<tr>\n",
       "  <th>Df Residuals:</th>          <td> 32489</td>      <th>  BIC:               </th>  <td>2.497e+05</td> \n",
       "</tr>\n",
       "<tr>\n",
       "  <th>Df Model:</th>              <td>    71</td>      <th>                     </th>      <td> </td>     \n",
       "</tr>\n",
       "<tr>\n",
       "  <th>Covariance Type:</th>      <td>nonrobust</td>    <th>                     </th>      <td> </td>     \n",
       "</tr>\n",
       "</table>\n",
       "<table class=\"simpletable\">\n",
       "<tr>\n",
       "          <td></td>            <th>coef</th>     <th>std err</th>      <th>t</th>      <th>P>|t|</th>  <th>[0.025</th>    <th>0.975]</th>  \n",
       "</tr>\n",
       "<tr>\n",
       "  <th>const</th>            <td>   28.3187</td> <td>    1.089</td> <td>   26.006</td> <td> 0.000</td> <td>   26.184</td> <td>   30.453</td>\n",
       "</tr>\n",
       "<tr>\n",
       "  <th>ordedu</th>           <td>    0.7055</td> <td>    0.073</td> <td>    9.693</td> <td> 0.000</td> <td>    0.563</td> <td>    0.848</td>\n",
       "</tr>\n",
       "<tr>\n",
       "  <th>workclass_1</th>      <td>    3.7207</td> <td>    0.474</td> <td>    7.852</td> <td> 0.000</td> <td>    2.792</td> <td>    4.650</td>\n",
       "</tr>\n",
       "<tr>\n",
       "  <th>workclass_2</th>      <td>    3.6795</td> <td>    0.409</td> <td>    9.001</td> <td> 0.000</td> <td>    2.878</td> <td>    4.481</td>\n",
       "</tr>\n",
       "<tr>\n",
       "  <th>workclass_3</th>      <td>   -0.3996</td> <td>    4.200</td> <td>   -0.095</td> <td> 0.924</td> <td>   -8.631</td> <td>    7.832</td>\n",
       "</tr>\n",
       "<tr>\n",
       "  <th>workclass_4</th>      <td>    4.0185</td> <td>    0.338</td> <td>   11.889</td> <td> 0.000</td> <td>    3.356</td> <td>    4.681</td>\n",
       "</tr>\n",
       "<tr>\n",
       "  <th>workclass_5</th>      <td>    8.4268</td> <td>    0.467</td> <td>   18.026</td> <td> 0.000</td> <td>    7.510</td> <td>    9.343</td>\n",
       "</tr>\n",
       "<tr>\n",
       "  <th>workclass_6</th>      <td>    5.1267</td> <td>    0.399</td> <td>   12.858</td> <td> 0.000</td> <td>    4.345</td> <td>    5.908</td>\n",
       "</tr>\n",
       "<tr>\n",
       "  <th>workclass_7</th>      <td>    1.8089</td> <td>    0.446</td> <td>    4.059</td> <td> 0.000</td> <td>    0.935</td> <td>    2.683</td>\n",
       "</tr>\n",
       "<tr>\n",
       "  <th>workclass_8</th>      <td>   -3.0049</td> <td>    2.840</td> <td>   -1.058</td> <td> 0.290</td> <td>   -8.571</td> <td>    2.561</td>\n",
       "</tr>\n",
       "<tr>\n",
       "  <th>marital_status_1</th> <td>   -4.7721</td> <td>    3.129</td> <td>   -1.525</td> <td> 0.127</td> <td>  -10.906</td> <td>    1.362</td>\n",
       "</tr>\n",
       "<tr>\n",
       "  <th>marital_status_2</th> <td>   -0.9059</td> <td>    1.122</td> <td>   -0.808</td> <td> 0.419</td> <td>   -3.104</td> <td>    1.293</td>\n",
       "</tr>\n",
       "<tr>\n",
       "  <th>marital_status_3</th> <td>   -1.4663</td> <td>    0.804</td> <td>   -1.823</td> <td> 0.068</td> <td>   -3.043</td> <td>    0.111</td>\n",
       "</tr>\n",
       "<tr>\n",
       "  <th>marital_status_4</th> <td>   -1.9665</td> <td>    0.289</td> <td>   -6.816</td> <td> 0.000</td> <td>   -2.532</td> <td>   -1.401</td>\n",
       "</tr>\n",
       "<tr>\n",
       "  <th>marital_status_5</th> <td>   -0.5752</td> <td>    0.494</td> <td>   -1.164</td> <td> 0.245</td> <td>   -1.544</td> <td>    0.394</td>\n",
       "</tr>\n",
       "<tr>\n",
       "  <th>marital_status_6</th> <td>   -5.9712</td> <td>    0.447</td> <td>  -13.363</td> <td> 0.000</td> <td>   -6.847</td> <td>   -5.095</td>\n",
       "</tr>\n",
       "<tr>\n",
       "  <th>occupation_1</th>     <td>    1.3586</td> <td>    0.338</td> <td>    4.016</td> <td> 0.000</td> <td>    0.696</td> <td>    2.022</td>\n",
       "</tr>\n",
       "<tr>\n",
       "  <th>occupation_2</th>     <td>    1.1309</td> <td>    1.827</td> <td>    0.619</td> <td> 0.536</td> <td>   -2.449</td> <td>    4.711</td>\n",
       "</tr>\n",
       "<tr>\n",
       "  <th>occupation_3</th>     <td>    4.0490</td> <td>    0.758</td> <td>    5.345</td> <td> 0.000</td> <td>    2.564</td> <td>    5.534</td>\n",
       "</tr>\n",
       "<tr>\n",
       "  <th>occupation_4</th>     <td>    4.1847</td> <td>    0.422</td> <td>    9.925</td> <td> 0.000</td> <td>    3.358</td> <td>    5.011</td>\n",
       "</tr>\n",
       "<tr>\n",
       "  <th>occupation_5</th>     <td>    3.2111</td> <td>    1.329</td> <td>    2.417</td> <td> 0.016</td> <td>    0.607</td> <td>    5.815</td>\n",
       "</tr>\n",
       "<tr>\n",
       "  <th>occupation_6</th>     <td>    1.9362</td> <td>    0.867</td> <td>    2.233</td> <td> 0.026</td> <td>    0.236</td> <td>    3.636</td>\n",
       "</tr>\n",
       "<tr>\n",
       "  <th>occupation_7</th>     <td>    4.0863</td> <td>    0.527</td> <td>    7.756</td> <td> 0.000</td> <td>    3.054</td> <td>    5.119</td>\n",
       "</tr>\n",
       "<tr>\n",
       "  <th>occupation_8</th>     <td>   -1.0546</td> <td>    0.367</td> <td>   -2.873</td> <td> 0.004</td> <td>   -1.774</td> <td>   -0.335</td>\n",
       "</tr>\n",
       "<tr>\n",
       "  <th>occupation_9</th>     <td>   -2.0586</td> <td>    0.931</td> <td>   -2.211</td> <td> 0.027</td> <td>   -3.884</td> <td>   -0.234</td>\n",
       "</tr>\n",
       "<tr>\n",
       "  <th>occupation_10</th>    <td>    1.4633</td> <td>    0.426</td> <td>    3.433</td> <td> 0.001</td> <td>    0.628</td> <td>    2.299</td>\n",
       "</tr>\n",
       "<tr>\n",
       "  <th>occupation_11</th>    <td>    3.3138</td> <td>    1.241</td> <td>    2.670</td> <td> 0.008</td> <td>    0.882</td> <td>    5.746</td>\n",
       "</tr>\n",
       "<tr>\n",
       "  <th>occupation_12</th>    <td>   -0.5379</td> <td>    0.402</td> <td>   -1.339</td> <td> 0.180</td> <td>   -1.325</td> <td>    0.249</td>\n",
       "</tr>\n",
       "<tr>\n",
       "  <th>occupation_13</th>    <td>    1.0023</td> <td>    0.629</td> <td>    1.593</td> <td> 0.111</td> <td>   -0.231</td> <td>    2.235</td>\n",
       "</tr>\n",
       "<tr>\n",
       "  <th>occupation_14</th>    <td>    1.6911</td> <td>    1.142</td> <td>    1.480</td> <td> 0.139</td> <td>   -0.548</td> <td>    3.930</td>\n",
       "</tr>\n",
       "<tr>\n",
       "  <th>relationship_1</th>   <td>    4.0860</td> <td>    0.984</td> <td>    4.152</td> <td> 0.000</td> <td>    2.157</td> <td>    6.015</td>\n",
       "</tr>\n",
       "<tr>\n",
       "  <th>relationship_2</th>   <td>    1.6372</td> <td>    0.973</td> <td>    1.682</td> <td> 0.093</td> <td>   -0.270</td> <td>    3.545</td>\n",
       "</tr>\n",
       "<tr>\n",
       "  <th>relationship_3</th>   <td>   -1.6184</td> <td>    0.980</td> <td>   -1.652</td> <td> 0.099</td> <td>   -3.539</td> <td>    0.302</td>\n",
       "</tr>\n",
       "<tr>\n",
       "  <th>relationship_4</th>   <td>    3.9324</td> <td>    1.002</td> <td>    3.926</td> <td> 0.000</td> <td>    1.969</td> <td>    5.896</td>\n",
       "</tr>\n",
       "<tr>\n",
       "  <th>relationship_5</th>   <td>    0.5638</td> <td>    1.451</td> <td>    0.389</td> <td> 0.698</td> <td>   -2.280</td> <td>    3.407</td>\n",
       "</tr>\n",
       "<tr>\n",
       "  <th>sex_1</th>            <td>    1.1937</td> <td>    0.599</td> <td>    1.993</td> <td> 0.046</td> <td>    0.020</td> <td>    2.368</td>\n",
       "</tr>\n",
       "<tr>\n",
       "  <th>income_1</th>         <td>    2.4877</td> <td>    0.397</td> <td>    6.270</td> <td> 0.000</td> <td>    1.710</td> <td>    3.265</td>\n",
       "</tr>\n",
       "<tr>\n",
       "  <th>sexedu_1</th>         <td>    0.3827</td> <td>    0.379</td> <td>    1.011</td> <td> 0.312</td> <td>   -0.359</td> <td>    1.125</td>\n",
       "</tr>\n",
       "<tr>\n",
       "  <th>sexedu_2</th>         <td>    2.1925</td> <td>    0.298</td> <td>    7.361</td> <td> 0.000</td> <td>    1.609</td> <td>    2.776</td>\n",
       "</tr>\n",
       "<tr>\n",
       "  <th>sexedu_3</th>         <td>    0.9688</td> <td>    0.276</td> <td>    3.509</td> <td> 0.000</td> <td>    0.428</td> <td>    1.510</td>\n",
       "</tr>\n",
       "<tr>\n",
       "  <th>sexedu_4</th>         <td>    1.8098</td> <td>    0.437</td> <td>    4.144</td> <td> 0.000</td> <td>    0.954</td> <td>    2.666</td>\n",
       "</tr>\n",
       "<tr>\n",
       "  <th>sexedu_5</th>         <td>    0.0389</td> <td>    0.490</td> <td>    0.079</td> <td> 0.937</td> <td>   -0.921</td> <td>    0.999</td>\n",
       "</tr>\n",
       "<tr>\n",
       "  <th>sexedu_6</th>         <td>   -0.5349</td> <td>    0.298</td> <td>   -1.793</td> <td> 0.073</td> <td>   -1.120</td> <td>    0.050</td>\n",
       "</tr>\n",
       "<tr>\n",
       "  <th>sexedu_7</th>         <td>   -1.0399</td> <td>    0.490</td> <td>   -2.120</td> <td> 0.034</td> <td>   -2.001</td> <td>   -0.079</td>\n",
       "</tr>\n",
       "<tr>\n",
       "  <th>sexedu_8</th>         <td>   -1.4849</td> <td>    0.890</td> <td>   -1.668</td> <td> 0.095</td> <td>   -3.230</td> <td>    0.260</td>\n",
       "</tr>\n",
       "<tr>\n",
       "  <th>sexedu_9</th>         <td>   -1.1394</td> <td>    0.996</td> <td>   -1.144</td> <td> 0.253</td> <td>   -3.091</td> <td>    0.813</td>\n",
       "</tr>\n",
       "<tr>\n",
       "  <th>sexoccu_1</th>        <td>   -0.8608</td> <td>    0.651</td> <td>   -1.322</td> <td> 0.186</td> <td>   -2.137</td> <td>    0.416</td>\n",
       "</tr>\n",
       "<tr>\n",
       "  <th>sexoccu_2</th>        <td>    1.1309</td> <td>    1.827</td> <td>    0.619</td> <td> 0.536</td> <td>   -2.449</td> <td>    4.711</td>\n",
       "</tr>\n",
       "<tr>\n",
       "  <th>sexoccu_3</th>        <td>   -1.2228</td> <td>    0.928</td> <td>   -1.317</td> <td> 0.188</td> <td>   -3.042</td> <td>    0.597</td>\n",
       "</tr>\n",
       "<tr>\n",
       "  <th>sexoccu_4</th>        <td>    0.4863</td> <td>    0.669</td> <td>    0.727</td> <td> 0.467</td> <td>   -0.825</td> <td>    1.798</td>\n",
       "</tr>\n",
       "<tr>\n",
       "  <th>sexoccu_5</th>        <td>    5.4010</td> <td>    1.518</td> <td>    3.559</td> <td> 0.000</td> <td>    2.427</td> <td>    8.375</td>\n",
       "</tr>\n",
       "<tr>\n",
       "  <th>sexoccu_6</th>        <td>   -0.8372</td> <td>    1.061</td> <td>   -0.789</td> <td> 0.430</td> <td>   -2.917</td> <td>    1.243</td>\n",
       "</tr>\n",
       "<tr>\n",
       "  <th>sexoccu_7</th>        <td>   -1.4848</td> <td>    0.764</td> <td>   -1.943</td> <td> 0.052</td> <td>   -2.983</td> <td>    0.013</td>\n",
       "</tr>\n",
       "<tr>\n",
       "  <th>sexoccu_8</th>        <td>    0.0927</td> <td>    0.650</td> <td>    0.143</td> <td> 0.887</td> <td>   -1.182</td> <td>    1.368</td>\n",
       "</tr>\n",
       "<tr>\n",
       "  <th>sexoccu_9</th>        <td>    6.6419</td> <td>    4.066</td> <td>    1.633</td> <td> 0.102</td> <td>   -1.328</td> <td>   14.612</td>\n",
       "</tr>\n",
       "<tr>\n",
       "  <th>sexoccu_10</th>       <td>    0.8536</td> <td>    0.684</td> <td>    1.247</td> <td> 0.212</td> <td>   -0.488</td> <td>    2.195</td>\n",
       "</tr>\n",
       "<tr>\n",
       "  <th>sexoccu_11</th>       <td>    0.7810</td> <td>    1.453</td> <td>    0.537</td> <td> 0.591</td> <td>   -2.067</td> <td>    3.629</td>\n",
       "</tr>\n",
       "<tr>\n",
       "  <th>sexoccu_12</th>       <td>    4.3692</td> <td>    0.653</td> <td>    6.696</td> <td> 0.000</td> <td>    3.090</td> <td>    5.648</td>\n",
       "</tr>\n",
       "<tr>\n",
       "  <th>sexoccu_13</th>       <td>   -0.3156</td> <td>    0.923</td> <td>   -0.342</td> <td> 0.732</td> <td>   -2.125</td> <td>    1.494</td>\n",
       "</tr>\n",
       "<tr>\n",
       "  <th>sexoccu_14</th>       <td>    4.2340</td> <td>    1.313</td> <td>    3.226</td> <td> 0.001</td> <td>    1.661</td> <td>    6.807</td>\n",
       "</tr>\n",
       "<tr>\n",
       "  <th>sexmarital_1</th>     <td>   19.0951</td> <td>    4.934</td> <td>    3.870</td> <td> 0.000</td> <td>    9.424</td> <td>   28.766</td>\n",
       "</tr>\n",
       "<tr>\n",
       "  <th>sexmarital_2</th>     <td>    3.4049</td> <td>    1.460</td> <td>    2.332</td> <td> 0.020</td> <td>    0.543</td> <td>    6.267</td>\n",
       "</tr>\n",
       "<tr>\n",
       "  <th>sexmarital_3</th>     <td>    0.7340</td> <td>    1.139</td> <td>    0.644</td> <td> 0.519</td> <td>   -1.499</td> <td>    2.967</td>\n",
       "</tr>\n",
       "<tr>\n",
       "  <th>sexmarital_4</th>     <td>    0.0565</td> <td>    0.411</td> <td>    0.138</td> <td> 0.891</td> <td>   -0.748</td> <td>    0.861</td>\n",
       "</tr>\n",
       "<tr>\n",
       "  <th>sexmarital_5</th>     <td>   -0.4661</td> <td>    0.791</td> <td>   -0.589</td> <td> 0.556</td> <td>   -2.017</td> <td>    1.085</td>\n",
       "</tr>\n",
       "<tr>\n",
       "  <th>sexmarital_6</th>     <td>   -2.8144</td> <td>    1.004</td> <td>   -2.804</td> <td> 0.005</td> <td>   -4.782</td> <td>   -0.847</td>\n",
       "</tr>\n",
       "<tr>\n",
       "  <th>sexincome_1</th>      <td>    0.6622</td> <td>    0.460</td> <td>    1.439</td> <td> 0.150</td> <td>   -0.240</td> <td>    1.564</td>\n",
       "</tr>\n",
       "<tr>\n",
       "  <th>ordeduincome_1</th>   <td>    1.8448</td> <td>    0.699</td> <td>    2.638</td> <td> 0.008</td> <td>    0.474</td> <td>    3.215</td>\n",
       "</tr>\n",
       "<tr>\n",
       "  <th>ordeduincome_2</th>   <td>   -0.2318</td> <td>    0.350</td> <td>   -0.661</td> <td> 0.508</td> <td>   -0.919</td> <td>    0.455</td>\n",
       "</tr>\n",
       "<tr>\n",
       "  <th>ordeduincome_3</th>   <td>   -0.0716</td> <td>    0.377</td> <td>   -0.190</td> <td> 0.849</td> <td>   -0.811</td> <td>    0.667</td>\n",
       "</tr>\n",
       "<tr>\n",
       "  <th>ordeduincome_4</th>   <td>   -1.7585</td> <td>    0.649</td> <td>   -2.709</td> <td> 0.007</td> <td>   -3.031</td> <td>   -0.486</td>\n",
       "</tr>\n",
       "<tr>\n",
       "  <th>ordeduincome_5</th>   <td>   -0.7345</td> <td>    0.738</td> <td>   -0.996</td> <td> 0.319</td> <td>   -2.180</td> <td>    0.711</td>\n",
       "</tr>\n",
       "<tr>\n",
       "  <th>ordeduincome_6</th>   <td>   -0.2963</td> <td>    0.351</td> <td>   -0.844</td> <td> 0.399</td> <td>   -0.985</td> <td>    0.392</td>\n",
       "</tr>\n",
       "<tr>\n",
       "  <th>ordeduincome_7</th>   <td>    0.0883</td> <td>    0.518</td> <td>    0.170</td> <td> 0.865</td> <td>   -0.927</td> <td>    1.104</td>\n",
       "</tr>\n",
       "<tr>\n",
       "  <th>ordeduincome_8</th>   <td>    2.5846</td> <td>    0.922</td> <td>    2.804</td> <td> 0.005</td> <td>    0.778</td> <td>    4.391</td>\n",
       "</tr>\n",
       "<tr>\n",
       "  <th>ordeduincome_9</th>   <td>    1.0628</td> <td>    0.997</td> <td>    1.066</td> <td> 0.286</td> <td>   -0.891</td> <td>    3.017</td>\n",
       "</tr>\n",
       "</table>\n",
       "<table class=\"simpletable\">\n",
       "<tr>\n",
       "  <th>Omnibus:</th>       <td>3606.927</td> <th>  Durbin-Watson:     </th> <td>   2.018</td> \n",
       "</tr>\n",
       "<tr>\n",
       "  <th>Prob(Omnibus):</th>  <td> 0.000</td>  <th>  Jarque-Bera (JB):  </th> <td>18897.669</td>\n",
       "</tr>\n",
       "<tr>\n",
       "  <th>Skew:</th>           <td> 0.415</td>  <th>  Prob(JB):          </th> <td>    0.00</td> \n",
       "</tr>\n",
       "<tr>\n",
       "  <th>Kurtosis:</th>       <td> 6.639</td>  <th>  Cond. No.          </th> <td>1.79e+16</td> \n",
       "</tr>\n",
       "</table><br/><br/>Warnings:<br/>[1] Standard Errors assume that the covariance matrix of the errors is correctly specified.<br/>[2] The smallest eigenvalue is 1.83e-27. This might indicate that there are<br/>strong multicollinearity problems or that the design matrix is singular."
      ],
      "text/plain": [
       "<class 'statsmodels.iolib.summary.Summary'>\n",
       "\"\"\"\n",
       "                            OLS Regression Results                            \n",
       "==============================================================================\n",
       "Dep. Variable:         hours_per_week   R-squared:                       0.196\n",
       "Model:                            OLS   Adj. R-squared:                  0.194\n",
       "Method:                 Least Squares   F-statistic:                     111.6\n",
       "Date:                Sat, 18 Jan 2020   Prob (F-statistic):               0.00\n",
       "Time:                        12:51:49   Log-Likelihood:            -1.2449e+05\n",
       "No. Observations:               32561   AIC:                         2.491e+05\n",
       "Df Residuals:                   32489   BIC:                         2.497e+05\n",
       "Df Model:                          71                                         \n",
       "Covariance Type:            nonrobust                                         \n",
       "====================================================================================\n",
       "                       coef    std err          t      P>|t|      [0.025      0.975]\n",
       "------------------------------------------------------------------------------------\n",
       "const               28.3187      1.089     26.006      0.000      26.184      30.453\n",
       "ordedu               0.7055      0.073      9.693      0.000       0.563       0.848\n",
       "workclass_1          3.7207      0.474      7.852      0.000       2.792       4.650\n",
       "workclass_2          3.6795      0.409      9.001      0.000       2.878       4.481\n",
       "workclass_3         -0.3996      4.200     -0.095      0.924      -8.631       7.832\n",
       "workclass_4          4.0185      0.338     11.889      0.000       3.356       4.681\n",
       "workclass_5          8.4268      0.467     18.026      0.000       7.510       9.343\n",
       "workclass_6          5.1267      0.399     12.858      0.000       4.345       5.908\n",
       "workclass_7          1.8089      0.446      4.059      0.000       0.935       2.683\n",
       "workclass_8         -3.0049      2.840     -1.058      0.290      -8.571       2.561\n",
       "marital_status_1    -4.7721      3.129     -1.525      0.127     -10.906       1.362\n",
       "marital_status_2    -0.9059      1.122     -0.808      0.419      -3.104       1.293\n",
       "marital_status_3    -1.4663      0.804     -1.823      0.068      -3.043       0.111\n",
       "marital_status_4    -1.9665      0.289     -6.816      0.000      -2.532      -1.401\n",
       "marital_status_5    -0.5752      0.494     -1.164      0.245      -1.544       0.394\n",
       "marital_status_6    -5.9712      0.447    -13.363      0.000      -6.847      -5.095\n",
       "occupation_1         1.3586      0.338      4.016      0.000       0.696       2.022\n",
       "occupation_2         1.1309      1.827      0.619      0.536      -2.449       4.711\n",
       "occupation_3         4.0490      0.758      5.345      0.000       2.564       5.534\n",
       "occupation_4         4.1847      0.422      9.925      0.000       3.358       5.011\n",
       "occupation_5         3.2111      1.329      2.417      0.016       0.607       5.815\n",
       "occupation_6         1.9362      0.867      2.233      0.026       0.236       3.636\n",
       "occupation_7         4.0863      0.527      7.756      0.000       3.054       5.119\n",
       "occupation_8        -1.0546      0.367     -2.873      0.004      -1.774      -0.335\n",
       "occupation_9        -2.0586      0.931     -2.211      0.027      -3.884      -0.234\n",
       "occupation_10        1.4633      0.426      3.433      0.001       0.628       2.299\n",
       "occupation_11        3.3138      1.241      2.670      0.008       0.882       5.746\n",
       "occupation_12       -0.5379      0.402     -1.339      0.180      -1.325       0.249\n",
       "occupation_13        1.0023      0.629      1.593      0.111      -0.231       2.235\n",
       "occupation_14        1.6911      1.142      1.480      0.139      -0.548       3.930\n",
       "relationship_1       4.0860      0.984      4.152      0.000       2.157       6.015\n",
       "relationship_2       1.6372      0.973      1.682      0.093      -0.270       3.545\n",
       "relationship_3      -1.6184      0.980     -1.652      0.099      -3.539       0.302\n",
       "relationship_4       3.9324      1.002      3.926      0.000       1.969       5.896\n",
       "relationship_5       0.5638      1.451      0.389      0.698      -2.280       3.407\n",
       "sex_1                1.1937      0.599      1.993      0.046       0.020       2.368\n",
       "income_1             2.4877      0.397      6.270      0.000       1.710       3.265\n",
       "sexedu_1             0.3827      0.379      1.011      0.312      -0.359       1.125\n",
       "sexedu_2             2.1925      0.298      7.361      0.000       1.609       2.776\n",
       "sexedu_3             0.9688      0.276      3.509      0.000       0.428       1.510\n",
       "sexedu_4             1.8098      0.437      4.144      0.000       0.954       2.666\n",
       "sexedu_5             0.0389      0.490      0.079      0.937      -0.921       0.999\n",
       "sexedu_6            -0.5349      0.298     -1.793      0.073      -1.120       0.050\n",
       "sexedu_7            -1.0399      0.490     -2.120      0.034      -2.001      -0.079\n",
       "sexedu_8            -1.4849      0.890     -1.668      0.095      -3.230       0.260\n",
       "sexedu_9            -1.1394      0.996     -1.144      0.253      -3.091       0.813\n",
       "sexoccu_1           -0.8608      0.651     -1.322      0.186      -2.137       0.416\n",
       "sexoccu_2            1.1309      1.827      0.619      0.536      -2.449       4.711\n",
       "sexoccu_3           -1.2228      0.928     -1.317      0.188      -3.042       0.597\n",
       "sexoccu_4            0.4863      0.669      0.727      0.467      -0.825       1.798\n",
       "sexoccu_5            5.4010      1.518      3.559      0.000       2.427       8.375\n",
       "sexoccu_6           -0.8372      1.061     -0.789      0.430      -2.917       1.243\n",
       "sexoccu_7           -1.4848      0.764     -1.943      0.052      -2.983       0.013\n",
       "sexoccu_8            0.0927      0.650      0.143      0.887      -1.182       1.368\n",
       "sexoccu_9            6.6419      4.066      1.633      0.102      -1.328      14.612\n",
       "sexoccu_10           0.8536      0.684      1.247      0.212      -0.488       2.195\n",
       "sexoccu_11           0.7810      1.453      0.537      0.591      -2.067       3.629\n",
       "sexoccu_12           4.3692      0.653      6.696      0.000       3.090       5.648\n",
       "sexoccu_13          -0.3156      0.923     -0.342      0.732      -2.125       1.494\n",
       "sexoccu_14           4.2340      1.313      3.226      0.001       1.661       6.807\n",
       "sexmarital_1        19.0951      4.934      3.870      0.000       9.424      28.766\n",
       "sexmarital_2         3.4049      1.460      2.332      0.020       0.543       6.267\n",
       "sexmarital_3         0.7340      1.139      0.644      0.519      -1.499       2.967\n",
       "sexmarital_4         0.0565      0.411      0.138      0.891      -0.748       0.861\n",
       "sexmarital_5        -0.4661      0.791     -0.589      0.556      -2.017       1.085\n",
       "sexmarital_6        -2.8144      1.004     -2.804      0.005      -4.782      -0.847\n",
       "sexincome_1          0.6622      0.460      1.439      0.150      -0.240       1.564\n",
       "ordeduincome_1       1.8448      0.699      2.638      0.008       0.474       3.215\n",
       "ordeduincome_2      -0.2318      0.350     -0.661      0.508      -0.919       0.455\n",
       "ordeduincome_3      -0.0716      0.377     -0.190      0.849      -0.811       0.667\n",
       "ordeduincome_4      -1.7585      0.649     -2.709      0.007      -3.031      -0.486\n",
       "ordeduincome_5      -0.7345      0.738     -0.996      0.319      -2.180       0.711\n",
       "ordeduincome_6      -0.2963      0.351     -0.844      0.399      -0.985       0.392\n",
       "ordeduincome_7       0.0883      0.518      0.170      0.865      -0.927       1.104\n",
       "ordeduincome_8       2.5846      0.922      2.804      0.005       0.778       4.391\n",
       "ordeduincome_9       1.0628      0.997      1.066      0.286      -0.891       3.017\n",
       "==============================================================================\n",
       "Omnibus:                     3606.927   Durbin-Watson:                   2.018\n",
       "Prob(Omnibus):                  0.000   Jarque-Bera (JB):            18897.669\n",
       "Skew:                           0.415   Prob(JB):                         0.00\n",
       "Kurtosis:                       6.639   Cond. No.                     1.79e+16\n",
       "==============================================================================\n",
       "\n",
       "Warnings:\n",
       "[1] Standard Errors assume that the covariance matrix of the errors is correctly specified.\n",
       "[2] The smallest eigenvalue is 1.83e-27. This might indicate that there are\n",
       "strong multicollinearity problems or that the design matrix is singular.\n",
       "\"\"\""
      ]
     },
     "execution_count": 53,
     "metadata": {},
     "output_type": "execute_result"
    }
   ],
   "source": [
    "insign_list.append('hours_per_week')\n",
    "X3 = sm.add_constant(df_income_new.drop(df_income_new[insign_list],1))\n",
    "\n",
    "print(\"Number of predictors is : \"+str(X3.shape[1]))\n",
    "\n",
    "linear_model3 = sm.OLS(y2,X3)\n",
    "fit3 = linear_model3.fit()\n",
    "fit3.summary()"
   ]
  },
  {
   "cell_type": "markdown",
   "metadata": {},
   "source": [
    "# Linear Regression - work hours for sales occupation (Q6)"
   ]
  },
  {
   "cell_type": "code",
   "execution_count": 45,
   "metadata": {},
   "outputs": [
    {
     "name": "stdout",
     "output_type": "stream",
     "text": [
      "['Adm-clerical' 'Exec-managerial' 'Handlers-cleaners' 'Prof-specialty'\n",
      " 'Other-service' 'Sales' 'Craft-repair' 'Transport-moving'\n",
      " 'Farming-fishing' 'Machine-op-inspct' 'Tech-support' '?'\n",
      " 'Protective-serv' 'Armed-Forces' 'Priv-house-serv']\n",
      "[ 1  4  6 10  8 12  3 14  5  7 13  0 11  2  9]\n"
     ]
    }
   ],
   "source": [
    "# find out sales level in the occupation\n",
    "print(income.occupation.unique())\n",
    "print(income_new.occupation.unique())"
   ]
  },
  {
   "cell_type": "code",
   "execution_count": 46,
   "metadata": {},
   "outputs": [
    {
     "data": {
      "text/html": [
       "<div>\n",
       "<style scoped>\n",
       "    .dataframe tbody tr th:only-of-type {\n",
       "        vertical-align: middle;\n",
       "    }\n",
       "\n",
       "    .dataframe tbody tr th {\n",
       "        vertical-align: top;\n",
       "    }\n",
       "\n",
       "    .dataframe thead th {\n",
       "        text-align: right;\n",
       "    }\n",
       "</style>\n",
       "<table border=\"1\" class=\"dataframe\">\n",
       "  <thead>\n",
       "    <tr style=\"text-align: right;\">\n",
       "      <th></th>\n",
       "      <th>hours_per_week</th>\n",
       "      <th>ordedu</th>\n",
       "      <th>investment</th>\n",
       "      <th>workclass_2</th>\n",
       "      <th>workclass_4</th>\n",
       "      <th>workclass_5</th>\n",
       "      <th>workclass_6</th>\n",
       "      <th>workclass_7</th>\n",
       "      <th>marital_status_1</th>\n",
       "      <th>marital_status_2</th>\n",
       "      <th>...</th>\n",
       "      <th>ordeduincome_1</th>\n",
       "      <th>ordeduincome_2</th>\n",
       "      <th>ordeduincome_3</th>\n",
       "      <th>ordeduincome_4</th>\n",
       "      <th>ordeduincome_5</th>\n",
       "      <th>ordeduincome_6</th>\n",
       "      <th>ordeduincome_7</th>\n",
       "      <th>ordeduincome_8</th>\n",
       "      <th>ordeduincome_9</th>\n",
       "      <th>investincome_1</th>\n",
       "    </tr>\n",
       "  </thead>\n",
       "  <tbody>\n",
       "    <tr>\n",
       "      <td>13</td>\n",
       "      <td>50</td>\n",
       "      <td>5</td>\n",
       "      <td>0</td>\n",
       "      <td>0</td>\n",
       "      <td>1</td>\n",
       "      <td>0</td>\n",
       "      <td>0</td>\n",
       "      <td>0</td>\n",
       "      <td>0</td>\n",
       "      <td>0</td>\n",
       "      <td>...</td>\n",
       "      <td>0</td>\n",
       "      <td>0</td>\n",
       "      <td>0</td>\n",
       "      <td>0</td>\n",
       "      <td>0</td>\n",
       "      <td>0</td>\n",
       "      <td>0</td>\n",
       "      <td>0</td>\n",
       "      <td>0</td>\n",
       "      <td>0</td>\n",
       "    </tr>\n",
       "    <tr>\n",
       "      <td>18</td>\n",
       "      <td>50</td>\n",
       "      <td>1</td>\n",
       "      <td>0</td>\n",
       "      <td>0</td>\n",
       "      <td>1</td>\n",
       "      <td>0</td>\n",
       "      <td>0</td>\n",
       "      <td>0</td>\n",
       "      <td>0</td>\n",
       "      <td>1</td>\n",
       "      <td>...</td>\n",
       "      <td>0</td>\n",
       "      <td>0</td>\n",
       "      <td>0</td>\n",
       "      <td>0</td>\n",
       "      <td>0</td>\n",
       "      <td>0</td>\n",
       "      <td>0</td>\n",
       "      <td>0</td>\n",
       "      <td>0</td>\n",
       "      <td>0</td>\n",
       "    </tr>\n",
       "    <tr>\n",
       "      <td>31</td>\n",
       "      <td>44</td>\n",
       "      <td>3</td>\n",
       "      <td>0</td>\n",
       "      <td>0</td>\n",
       "      <td>1</td>\n",
       "      <td>0</td>\n",
       "      <td>0</td>\n",
       "      <td>0</td>\n",
       "      <td>0</td>\n",
       "      <td>0</td>\n",
       "      <td>...</td>\n",
       "      <td>0</td>\n",
       "      <td>0</td>\n",
       "      <td>0</td>\n",
       "      <td>0</td>\n",
       "      <td>0</td>\n",
       "      <td>0</td>\n",
       "      <td>0</td>\n",
       "      <td>0</td>\n",
       "      <td>0</td>\n",
       "      <td>0</td>\n",
       "    </tr>\n",
       "    <tr>\n",
       "      <td>38</td>\n",
       "      <td>38</td>\n",
       "      <td>3</td>\n",
       "      <td>0</td>\n",
       "      <td>0</td>\n",
       "      <td>1</td>\n",
       "      <td>0</td>\n",
       "      <td>0</td>\n",
       "      <td>0</td>\n",
       "      <td>0</td>\n",
       "      <td>1</td>\n",
       "      <td>...</td>\n",
       "      <td>0</td>\n",
       "      <td>0</td>\n",
       "      <td>1</td>\n",
       "      <td>0</td>\n",
       "      <td>0</td>\n",
       "      <td>0</td>\n",
       "      <td>0</td>\n",
       "      <td>0</td>\n",
       "      <td>0</td>\n",
       "      <td>0</td>\n",
       "    </tr>\n",
       "    <tr>\n",
       "      <td>60</td>\n",
       "      <td>40</td>\n",
       "      <td>6</td>\n",
       "      <td>1</td>\n",
       "      <td>0</td>\n",
       "      <td>1</td>\n",
       "      <td>0</td>\n",
       "      <td>0</td>\n",
       "      <td>0</td>\n",
       "      <td>0</td>\n",
       "      <td>1</td>\n",
       "      <td>...</td>\n",
       "      <td>0</td>\n",
       "      <td>0</td>\n",
       "      <td>0</td>\n",
       "      <td>0</td>\n",
       "      <td>0</td>\n",
       "      <td>0</td>\n",
       "      <td>0</td>\n",
       "      <td>0</td>\n",
       "      <td>0</td>\n",
       "      <td>0</td>\n",
       "    </tr>\n",
       "  </tbody>\n",
       "</table>\n",
       "<p>5 rows × 48 columns</p>\n",
       "</div>"
      ],
      "text/plain": [
       "    hours_per_week  ordedu  investment  workclass_2  workclass_4  workclass_5  \\\n",
       "13              50       5           0            0            1            0   \n",
       "18              50       1           0            0            1            0   \n",
       "31              44       3           0            0            1            0   \n",
       "38              38       3           0            0            1            0   \n",
       "60              40       6           1            0            1            0   \n",
       "\n",
       "    workclass_6  workclass_7  marital_status_1  marital_status_2  ...  \\\n",
       "13            0            0                 0                 0  ...   \n",
       "18            0            0                 0                 1  ...   \n",
       "31            0            0                 0                 0  ...   \n",
       "38            0            0                 0                 1  ...   \n",
       "60            0            0                 0                 1  ...   \n",
       "\n",
       "    ordeduincome_1  ordeduincome_2  ordeduincome_3  ordeduincome_4  \\\n",
       "13               0               0               0               0   \n",
       "18               0               0               0               0   \n",
       "31               0               0               0               0   \n",
       "38               0               0               1               0   \n",
       "60               0               0               0               0   \n",
       "\n",
       "    ordeduincome_5  ordeduincome_6  ordeduincome_7  ordeduincome_8  \\\n",
       "13               0               0               0               0   \n",
       "18               0               0               0               0   \n",
       "31               0               0               0               0   \n",
       "38               0               0               0               0   \n",
       "60               0               0               0               0   \n",
       "\n",
       "    ordeduincome_9  investincome_1  \n",
       "13               0               0  \n",
       "18               0               0  \n",
       "31               0               0  \n",
       "38               0               0  \n",
       "60               0               0  \n",
       "\n",
       "[5 rows x 48 columns]"
      ]
     },
     "execution_count": 46,
     "metadata": {},
     "output_type": "execute_result"
    }
   ],
   "source": [
    "# create indicator variables\n",
    "df_income_q6 = income_new.loc[income_new['occupation']==12]\n",
    "factors2 = ['workclass', 'marital_status', \"occupation\", 'relationship', 'sex', \n",
    "            'income', 'sexedu', 'sexoccu', 'sexmarital', 'sexincome', 'ordeduincome', 'investincome']\n",
    "for var in factors2:\n",
    "    cat_list='var'+'_'+var\n",
    "    cat_list = pd.get_dummies(df_income_q6[var], prefix=var, drop_first=True)\n",
    "    df_income_q6 = pd.concat([df_income_q6,cat_list], axis = 1)\n",
    "    df_income_q6 = df_income_q6.drop(var, 1)\n",
    "\n",
    "df_income_q6.head()"
   ]
  },
  {
   "cell_type": "code",
   "execution_count": 50,
   "metadata": {},
   "outputs": [
    {
     "name": "stdout",
     "output_type": "stream",
     "text": [
      "Number of predictors is : 48\n"
     ]
    },
    {
     "name": "stderr",
     "output_type": "stream",
     "text": [
      "/opt/anaconda3/lib/python3.7/site-packages/numpy/core/fromnumeric.py:2495: FutureWarning: Method .ptp is deprecated and will be removed in a future version. Use numpy.ptp instead.\n",
      "  return ptp(axis=axis, out=out, **kwargs)\n"
     ]
    },
    {
     "data": {
      "text/html": [
       "<table class=\"simpletable\">\n",
       "<caption>OLS Regression Results</caption>\n",
       "<tr>\n",
       "  <th>Dep. Variable:</th>     <td>hours_per_week</td>  <th>  R-squared:         </th> <td>   0.287</td> \n",
       "</tr>\n",
       "<tr>\n",
       "  <th>Model:</th>                   <td>OLS</td>       <th>  Adj. R-squared:    </th> <td>   0.278</td> \n",
       "</tr>\n",
       "<tr>\n",
       "  <th>Method:</th>             <td>Least Squares</td>  <th>  F-statistic:       </th> <td>   32.94</td> \n",
       "</tr>\n",
       "<tr>\n",
       "  <th>Date:</th>             <td>Sat, 18 Jan 2020</td> <th>  Prob (F-statistic):</th> <td>6.01e-228</td>\n",
       "</tr>\n",
       "<tr>\n",
       "  <th>Time:</th>                 <td>12:50:14</td>     <th>  Log-Likelihood:    </th> <td> -13990.</td> \n",
       "</tr>\n",
       "<tr>\n",
       "  <th>No. Observations:</th>      <td>  3650</td>      <th>  AIC:               </th> <td>2.807e+04</td>\n",
       "</tr>\n",
       "<tr>\n",
       "  <th>Df Residuals:</th>          <td>  3605</td>      <th>  BIC:               </th> <td>2.835e+04</td>\n",
       "</tr>\n",
       "<tr>\n",
       "  <th>Df Model:</th>              <td>    44</td>      <th>                     </th>     <td> </td>    \n",
       "</tr>\n",
       "<tr>\n",
       "  <th>Covariance Type:</th>      <td>nonrobust</td>    <th>                     </th>     <td> </td>    \n",
       "</tr>\n",
       "</table>\n",
       "<table class=\"simpletable\">\n",
       "<tr>\n",
       "          <td></td>            <th>coef</th>     <th>std err</th>      <th>t</th>      <th>P>|t|</th>  <th>[0.025</th>    <th>0.975]</th>  \n",
       "</tr>\n",
       "<tr>\n",
       "  <th>const</th>            <td>   35.8192</td> <td>    4.293</td> <td>    8.344</td> <td> 0.000</td> <td>   27.402</td> <td>   44.236</td>\n",
       "</tr>\n",
       "<tr>\n",
       "  <th>ordedu</th>           <td>    1.2632</td> <td>    0.207</td> <td>    6.099</td> <td> 0.000</td> <td>    0.857</td> <td>    1.669</td>\n",
       "</tr>\n",
       "<tr>\n",
       "  <th>investment</th>       <td>    0.7523</td> <td>    0.833</td> <td>    0.903</td> <td> 0.367</td> <td>   -0.882</td> <td>    2.386</td>\n",
       "</tr>\n",
       "<tr>\n",
       "  <th>workclass_2</th>      <td>   -4.0157</td> <td>    5.312</td> <td>   -0.756</td> <td> 0.450</td> <td>  -14.430</td> <td>    6.398</td>\n",
       "</tr>\n",
       "<tr>\n",
       "  <th>workclass_4</th>      <td>   -1.0758</td> <td>    3.155</td> <td>   -0.341</td> <td> 0.733</td> <td>   -7.262</td> <td>    5.110</td>\n",
       "</tr>\n",
       "<tr>\n",
       "  <th>workclass_5</th>      <td>    3.6285</td> <td>    3.212</td> <td>    1.130</td> <td> 0.259</td> <td>   -2.668</td> <td>    9.925</td>\n",
       "</tr>\n",
       "<tr>\n",
       "  <th>workclass_6</th>      <td>    1.1720</td> <td>    3.197</td> <td>    0.367</td> <td> 0.714</td> <td>   -5.097</td> <td>    7.441</td>\n",
       "</tr>\n",
       "<tr>\n",
       "  <th>workclass_7</th>      <td>   -4.3468</td> <td>    4.630</td> <td>   -0.939</td> <td> 0.348</td> <td>  -13.425</td> <td>    4.731</td>\n",
       "</tr>\n",
       "<tr>\n",
       "  <th>marital_status_1</th> <td>    3.9448</td> <td>   12.118</td> <td>    0.326</td> <td> 0.745</td> <td>  -19.813</td> <td>   27.703</td>\n",
       "</tr>\n",
       "<tr>\n",
       "  <th>marital_status_2</th> <td>   -1.5524</td> <td>    3.095</td> <td>   -0.502</td> <td> 0.616</td> <td>   -7.621</td> <td>    4.516</td>\n",
       "</tr>\n",
       "<tr>\n",
       "  <th>marital_status_3</th> <td>   -1.2485</td> <td>    2.560</td> <td>   -0.488</td> <td> 0.626</td> <td>   -6.268</td> <td>    3.771</td>\n",
       "</tr>\n",
       "<tr>\n",
       "  <th>marital_status_4</th> <td>   -3.6630</td> <td>    0.891</td> <td>   -4.110</td> <td> 0.000</td> <td>   -5.410</td> <td>   -1.916</td>\n",
       "</tr>\n",
       "<tr>\n",
       "  <th>marital_status_5</th> <td>   -2.3728</td> <td>    1.550</td> <td>   -1.530</td> <td> 0.126</td> <td>   -5.413</td> <td>    0.667</td>\n",
       "</tr>\n",
       "<tr>\n",
       "  <th>marital_status_6</th> <td>   -6.2760</td> <td>    1.426</td> <td>   -4.402</td> <td> 0.000</td> <td>   -9.071</td> <td>   -3.481</td>\n",
       "</tr>\n",
       "<tr>\n",
       "  <th>relationship_1</th>   <td>    1.3948</td> <td>    2.799</td> <td>    0.498</td> <td> 0.618</td> <td>   -4.093</td> <td>    6.882</td>\n",
       "</tr>\n",
       "<tr>\n",
       "  <th>relationship_2</th>   <td>   -1.8754</td> <td>    2.768</td> <td>   -0.678</td> <td> 0.498</td> <td>   -7.302</td> <td>    3.551</td>\n",
       "</tr>\n",
       "<tr>\n",
       "  <th>relationship_3</th>   <td>   -7.1161</td> <td>    2.766</td> <td>   -2.573</td> <td> 0.010</td> <td>  -12.540</td> <td>   -1.693</td>\n",
       "</tr>\n",
       "<tr>\n",
       "  <th>relationship_4</th>   <td>    0.6024</td> <td>    2.862</td> <td>    0.210</td> <td> 0.833</td> <td>   -5.010</td> <td>    6.214</td>\n",
       "</tr>\n",
       "<tr>\n",
       "  <th>relationship_5</th>   <td>   -2.2905</td> <td>    3.842</td> <td>   -0.596</td> <td> 0.551</td> <td>   -9.823</td> <td>    5.242</td>\n",
       "</tr>\n",
       "<tr>\n",
       "  <th>sex_1</th>            <td>    1.5706</td> <td>    0.665</td> <td>    2.362</td> <td> 0.018</td> <td>    0.267</td> <td>    2.874</td>\n",
       "</tr>\n",
       "<tr>\n",
       "  <th>income_1</th>         <td>    3.8849</td> <td>    1.525</td> <td>    2.547</td> <td> 0.011</td> <td>    0.894</td> <td>    6.875</td>\n",
       "</tr>\n",
       "<tr>\n",
       "  <th>sexedu_1</th>         <td>   -0.7134</td> <td>    1.398</td> <td>   -0.510</td> <td> 0.610</td> <td>   -3.454</td> <td>    2.027</td>\n",
       "</tr>\n",
       "<tr>\n",
       "  <th>sexedu_2</th>         <td>    4.0561</td> <td>    1.067</td> <td>    3.801</td> <td> 0.000</td> <td>    1.964</td> <td>    6.148</td>\n",
       "</tr>\n",
       "<tr>\n",
       "  <th>sexedu_3</th>         <td>    1.7908</td> <td>    1.000</td> <td>    1.790</td> <td> 0.073</td> <td>   -0.170</td> <td>    3.752</td>\n",
       "</tr>\n",
       "<tr>\n",
       "  <th>sexedu_4</th>         <td>    2.3256</td> <td>    1.580</td> <td>    1.471</td> <td> 0.141</td> <td>   -0.773</td> <td>    5.424</td>\n",
       "</tr>\n",
       "<tr>\n",
       "  <th>sexedu_5</th>         <td>    1.9110</td> <td>    1.462</td> <td>    1.307</td> <td> 0.191</td> <td>   -0.956</td> <td>    4.778</td>\n",
       "</tr>\n",
       "<tr>\n",
       "  <th>sexedu_6</th>         <td>   -0.0793</td> <td>    1.018</td> <td>   -0.078</td> <td> 0.938</td> <td>   -2.075</td> <td>    1.916</td>\n",
       "</tr>\n",
       "<tr>\n",
       "  <th>sexedu_7</th>         <td>   -2.7899</td> <td>    1.724</td> <td>   -1.618</td> <td> 0.106</td> <td>   -6.171</td> <td>    0.591</td>\n",
       "</tr>\n",
       "<tr>\n",
       "  <th>sexedu_8</th>         <td>   -6.4541</td> <td>    3.633</td> <td>   -1.776</td> <td> 0.076</td> <td>  -13.578</td> <td>    0.669</td>\n",
       "</tr>\n",
       "<tr>\n",
       "  <th>sexedu_9</th>         <td>    1.5238</td> <td>    5.247</td> <td>    0.290</td> <td> 0.772</td> <td>   -8.764</td> <td>   11.811</td>\n",
       "</tr>\n",
       "<tr>\n",
       "  <th>sexoccu_12</th>       <td>    1.5706</td> <td>    0.665</td> <td>    2.362</td> <td> 0.018</td> <td>    0.267</td> <td>    2.874</td>\n",
       "</tr>\n",
       "<tr>\n",
       "  <th>sexmarital_1</th>     <td>    6.5880</td> <td>   16.708</td> <td>    0.394</td> <td> 0.693</td> <td>  -26.170</td> <td>   39.346</td>\n",
       "</tr>\n",
       "<tr>\n",
       "  <th>sexmarital_2</th>     <td>    0.9270</td> <td>    3.900</td> <td>    0.238</td> <td> 0.812</td> <td>   -6.720</td> <td>    8.574</td>\n",
       "</tr>\n",
       "<tr>\n",
       "  <th>sexmarital_3</th>     <td>   -0.0150</td> <td>    4.138</td> <td>   -0.004</td> <td> 0.997</td> <td>   -8.128</td> <td>    8.098</td>\n",
       "</tr>\n",
       "<tr>\n",
       "  <th>sexmarital_4</th>     <td>    0.7946</td> <td>    1.298</td> <td>    0.612</td> <td> 0.540</td> <td>   -1.750</td> <td>    3.340</td>\n",
       "</tr>\n",
       "<tr>\n",
       "  <th>sexmarital_5</th>     <td>    0.8765</td> <td>    2.845</td> <td>    0.308</td> <td> 0.758</td> <td>   -4.701</td> <td>    6.454</td>\n",
       "</tr>\n",
       "<tr>\n",
       "  <th>sexmarital_6</th>     <td>    0.0004</td> <td>    2.981</td> <td>    0.000</td> <td> 1.000</td> <td>   -5.844</td> <td>    5.845</td>\n",
       "</tr>\n",
       "<tr>\n",
       "  <th>sexincome_1</th>      <td>   -2.4193</td> <td>    1.515</td> <td>   -1.597</td> <td> 0.110</td> <td>   -5.390</td> <td>    0.551</td>\n",
       "</tr>\n",
       "<tr>\n",
       "  <th>ordeduincome_1</th>   <td>    2.6772</td> <td>    2.407</td> <td>    1.112</td> <td> 0.266</td> <td>   -2.042</td> <td>    7.396</td>\n",
       "</tr>\n",
       "<tr>\n",
       "  <th>ordeduincome_2</th>   <td>    2.6739</td> <td>    1.272</td> <td>    2.103</td> <td> 0.036</td> <td>    0.181</td> <td>    5.167</td>\n",
       "</tr>\n",
       "<tr>\n",
       "  <th>ordeduincome_3</th>   <td>    3.0952</td> <td>    1.278</td> <td>    2.422</td> <td> 0.015</td> <td>    0.590</td> <td>    5.601</td>\n",
       "</tr>\n",
       "<tr>\n",
       "  <th>ordeduincome_4</th>   <td>   -1.8935</td> <td>    2.483</td> <td>   -0.762</td> <td> 0.446</td> <td>   -6.763</td> <td>    2.976</td>\n",
       "</tr>\n",
       "<tr>\n",
       "  <th>ordeduincome_5</th>   <td>   -0.5371</td> <td>    2.208</td> <td>   -0.243</td> <td> 0.808</td> <td>   -4.866</td> <td>    3.792</td>\n",
       "</tr>\n",
       "<tr>\n",
       "  <th>ordeduincome_6</th>   <td>    0.5462</td> <td>    1.218</td> <td>    0.448</td> <td> 0.654</td> <td>   -1.843</td> <td>    2.935</td>\n",
       "</tr>\n",
       "<tr>\n",
       "  <th>ordeduincome_7</th>   <td>    2.6664</td> <td>    2.006</td> <td>    1.329</td> <td> 0.184</td> <td>   -1.267</td> <td>    6.600</td>\n",
       "</tr>\n",
       "<tr>\n",
       "  <th>ordeduincome_8</th>   <td>    4.5316</td> <td>    4.109</td> <td>    1.103</td> <td> 0.270</td> <td>   -3.525</td> <td>   12.588</td>\n",
       "</tr>\n",
       "<tr>\n",
       "  <th>ordeduincome_9</th>   <td>   -9.8750</td> <td>    6.201</td> <td>   -1.592</td> <td> 0.111</td> <td>  -22.033</td> <td>    2.283</td>\n",
       "</tr>\n",
       "<tr>\n",
       "  <th>investincome_1</th>   <td>   -1.1172</td> <td>    1.143</td> <td>   -0.978</td> <td> 0.328</td> <td>   -3.358</td> <td>    1.123</td>\n",
       "</tr>\n",
       "</table>\n",
       "<table class=\"simpletable\">\n",
       "<tr>\n",
       "  <th>Omnibus:</th>       <td>169.217</td> <th>  Durbin-Watson:     </th> <td>   1.966</td> \n",
       "</tr>\n",
       "<tr>\n",
       "  <th>Prob(Omnibus):</th> <td> 0.000</td>  <th>  Jarque-Bera (JB):  </th> <td> 583.800</td> \n",
       "</tr>\n",
       "<tr>\n",
       "  <th>Skew:</th>          <td> 0.045</td>  <th>  Prob(JB):          </th> <td>1.70e-127</td>\n",
       "</tr>\n",
       "<tr>\n",
       "  <th>Kurtosis:</th>      <td> 4.957</td>  <th>  Cond. No.          </th> <td>1.13e+16</td> \n",
       "</tr>\n",
       "</table><br/><br/>Warnings:<br/>[1] Standard Errors assume that the covariance matrix of the errors is correctly specified.<br/>[2] The smallest eigenvalue is 5.28e-28. This might indicate that there are<br/>strong multicollinearity problems or that the design matrix is singular."
      ],
      "text/plain": [
       "<class 'statsmodels.iolib.summary.Summary'>\n",
       "\"\"\"\n",
       "                            OLS Regression Results                            \n",
       "==============================================================================\n",
       "Dep. Variable:         hours_per_week   R-squared:                       0.287\n",
       "Model:                            OLS   Adj. R-squared:                  0.278\n",
       "Method:                 Least Squares   F-statistic:                     32.94\n",
       "Date:                Sat, 18 Jan 2020   Prob (F-statistic):          6.01e-228\n",
       "Time:                        12:50:14   Log-Likelihood:                -13990.\n",
       "No. Observations:                3650   AIC:                         2.807e+04\n",
       "Df Residuals:                    3605   BIC:                         2.835e+04\n",
       "Df Model:                          44                                         \n",
       "Covariance Type:            nonrobust                                         \n",
       "====================================================================================\n",
       "                       coef    std err          t      P>|t|      [0.025      0.975]\n",
       "------------------------------------------------------------------------------------\n",
       "const               35.8192      4.293      8.344      0.000      27.402      44.236\n",
       "ordedu               1.2632      0.207      6.099      0.000       0.857       1.669\n",
       "investment           0.7523      0.833      0.903      0.367      -0.882       2.386\n",
       "workclass_2         -4.0157      5.312     -0.756      0.450     -14.430       6.398\n",
       "workclass_4         -1.0758      3.155     -0.341      0.733      -7.262       5.110\n",
       "workclass_5          3.6285      3.212      1.130      0.259      -2.668       9.925\n",
       "workclass_6          1.1720      3.197      0.367      0.714      -5.097       7.441\n",
       "workclass_7         -4.3468      4.630     -0.939      0.348     -13.425       4.731\n",
       "marital_status_1     3.9448     12.118      0.326      0.745     -19.813      27.703\n",
       "marital_status_2    -1.5524      3.095     -0.502      0.616      -7.621       4.516\n",
       "marital_status_3    -1.2485      2.560     -0.488      0.626      -6.268       3.771\n",
       "marital_status_4    -3.6630      0.891     -4.110      0.000      -5.410      -1.916\n",
       "marital_status_5    -2.3728      1.550     -1.530      0.126      -5.413       0.667\n",
       "marital_status_6    -6.2760      1.426     -4.402      0.000      -9.071      -3.481\n",
       "relationship_1       1.3948      2.799      0.498      0.618      -4.093       6.882\n",
       "relationship_2      -1.8754      2.768     -0.678      0.498      -7.302       3.551\n",
       "relationship_3      -7.1161      2.766     -2.573      0.010     -12.540      -1.693\n",
       "relationship_4       0.6024      2.862      0.210      0.833      -5.010       6.214\n",
       "relationship_5      -2.2905      3.842     -0.596      0.551      -9.823       5.242\n",
       "sex_1                1.5706      0.665      2.362      0.018       0.267       2.874\n",
       "income_1             3.8849      1.525      2.547      0.011       0.894       6.875\n",
       "sexedu_1            -0.7134      1.398     -0.510      0.610      -3.454       2.027\n",
       "sexedu_2             4.0561      1.067      3.801      0.000       1.964       6.148\n",
       "sexedu_3             1.7908      1.000      1.790      0.073      -0.170       3.752\n",
       "sexedu_4             2.3256      1.580      1.471      0.141      -0.773       5.424\n",
       "sexedu_5             1.9110      1.462      1.307      0.191      -0.956       4.778\n",
       "sexedu_6            -0.0793      1.018     -0.078      0.938      -2.075       1.916\n",
       "sexedu_7            -2.7899      1.724     -1.618      0.106      -6.171       0.591\n",
       "sexedu_8            -6.4541      3.633     -1.776      0.076     -13.578       0.669\n",
       "sexedu_9             1.5238      5.247      0.290      0.772      -8.764      11.811\n",
       "sexoccu_12           1.5706      0.665      2.362      0.018       0.267       2.874\n",
       "sexmarital_1         6.5880     16.708      0.394      0.693     -26.170      39.346\n",
       "sexmarital_2         0.9270      3.900      0.238      0.812      -6.720       8.574\n",
       "sexmarital_3        -0.0150      4.138     -0.004      0.997      -8.128       8.098\n",
       "sexmarital_4         0.7946      1.298      0.612      0.540      -1.750       3.340\n",
       "sexmarital_5         0.8765      2.845      0.308      0.758      -4.701       6.454\n",
       "sexmarital_6         0.0004      2.981      0.000      1.000      -5.844       5.845\n",
       "sexincome_1         -2.4193      1.515     -1.597      0.110      -5.390       0.551\n",
       "ordeduincome_1       2.6772      2.407      1.112      0.266      -2.042       7.396\n",
       "ordeduincome_2       2.6739      1.272      2.103      0.036       0.181       5.167\n",
       "ordeduincome_3       3.0952      1.278      2.422      0.015       0.590       5.601\n",
       "ordeduincome_4      -1.8935      2.483     -0.762      0.446      -6.763       2.976\n",
       "ordeduincome_5      -0.5371      2.208     -0.243      0.808      -4.866       3.792\n",
       "ordeduincome_6       0.5462      1.218      0.448      0.654      -1.843       2.935\n",
       "ordeduincome_7       2.6664      2.006      1.329      0.184      -1.267       6.600\n",
       "ordeduincome_8       4.5316      4.109      1.103      0.270      -3.525      12.588\n",
       "ordeduincome_9      -9.8750      6.201     -1.592      0.111     -22.033       2.283\n",
       "investincome_1      -1.1172      1.143     -0.978      0.328      -3.358       1.123\n",
       "==============================================================================\n",
       "Omnibus:                      169.217   Durbin-Watson:                   1.966\n",
       "Prob(Omnibus):                  0.000   Jarque-Bera (JB):              583.800\n",
       "Skew:                           0.045   Prob(JB):                    1.70e-127\n",
       "Kurtosis:                       4.957   Cond. No.                     1.13e+16\n",
       "==============================================================================\n",
       "\n",
       "Warnings:\n",
       "[1] Standard Errors assume that the covariance matrix of the errors is correctly specified.\n",
       "[2] The smallest eigenvalue is 5.28e-28. This might indicate that there are\n",
       "strong multicollinearity problems or that the design matrix is singular.\n",
       "\"\"\""
      ]
     },
     "execution_count": 50,
     "metadata": {},
     "output_type": "execute_result"
    }
   ],
   "source": [
    "y_q6 = df_income_q6[['hours_per_week']]\n",
    "X_q6 = sm.add_constant(df_income_q6.loc[:, df_income_q6.columns != 'hours_per_week'])\n",
    "\n",
    "print(\"Number of predictors is : \"+str(X_q6.shape[1]))\n",
    "\n",
    "linear_model_q6 = sm.OLS(y_q6,X_q6)\n",
    "fit_q6 = linear_model_q6.fit()\n",
    "fit_q6.summary()"
   ]
  }
 ],
 "metadata": {
  "colab": {
   "collapsed_sections": [],
   "name": "hw2.ipynb",
   "provenance": []
  },
  "kernelspec": {
   "display_name": "Python 3",
   "language": "python",
   "name": "python3"
  },
  "language_info": {
   "codemirror_mode": {
    "name": "ipython",
    "version": 3
   },
   "file_extension": ".py",
   "mimetype": "text/x-python",
   "name": "python",
   "nbconvert_exporter": "python",
   "pygments_lexer": "ipython3",
   "version": "3.7.4"
  },
  "toc": {
   "base_numbering": 1,
   "nav_menu": {},
   "number_sections": true,
   "sideBar": true,
   "skip_h1_title": false,
   "title_cell": "Table of Contents",
   "title_sidebar": "Contents",
   "toc_cell": false,
   "toc_position": {},
   "toc_section_display": true,
   "toc_window_display": true
  },
  "varInspector": {
   "cols": {
    "lenName": 16,
    "lenType": 16,
    "lenVar": 40
   },
   "kernels_config": {
    "python": {
     "delete_cmd_postfix": "",
     "delete_cmd_prefix": "del ",
     "library": "var_list.py",
     "varRefreshCmd": "print(var_dic_list())"
    },
    "r": {
     "delete_cmd_postfix": ") ",
     "delete_cmd_prefix": "rm(",
     "library": "var_list.r",
     "varRefreshCmd": "cat(var_dic_list()) "
    }
   },
   "types_to_exclude": [
    "module",
    "function",
    "builtin_function_or_method",
    "instance",
    "_Feature"
   ],
   "window_display": false
  }
 },
 "nbformat": 4,
 "nbformat_minor": 1
}
